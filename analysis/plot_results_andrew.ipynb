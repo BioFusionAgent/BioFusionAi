{
 "cells": [
  {
   "cell_type": "code",
   "execution_count": 1,
   "metadata": {},
   "outputs": [],
   "source": [
    "import pandas as pd\n",
    "import pickle as pkl\n",
    "import numpy as np\n",
    "\n",
    "import matplotlib.pyplot as plt\n",
    "\n",
    "import scanpy as sc\n",
    "%matplotlib inline\n",
    "import matplotlib\n",
    "\n",
    "import scanpy as sc\n",
    "import matplotlib.colors as mcolors\n",
    "import matplotlib.pyplot as plt\n",
    "import glob"
   ]
  },
  {
   "cell_type": "markdown",
   "metadata": {},
   "source": [
    "### Random baseline"
   ]
  },
  {
   "cell_type": "code",
   "execution_count": 2,
   "metadata": {},
   "outputs": [],
   "source": [
    "def generate_random_rounds(all_genes, round0=None, rounds = 16, sample_size=64):\n",
    "    past_set =list(all_genes)\n",
    "    random_rounds = {}\n",
    "    if round0 is not None:\n",
    "        random_rounds[0] = round0\n",
    "    else:\n",
    "        random_rounds[0] = np.random.choice(all_genes, sample_size)\n",
    "    \n",
    "    for i in range(1,rounds):\n",
    "        selection_set = set(past_set).difference(set(random_rounds[i-1]))\n",
    "        random_rounds[i] = np.concatenate([random_rounds[i-1], np.random.choice(list(selection_set), sample_size)])\n",
    "        past_set = list(selection_set)\n",
    "        \n",
    "    return random_rounds\n",
    "\n",
    "def generate_random_rounds_custom(all_genes, rounds = 16, sample_sizes=None):\n",
    "    past_set =list(all_genes)\n",
    "    random_rounds = {}\n",
    "    random_rounds[0] = []\n",
    "    \n",
    "    for i in range(1,rounds):\n",
    "        selection_set = set(past_set).difference(set(random_rounds[i-1]))\n",
    "        random_rounds[i] = np.concatenate([random_rounds[i-1], np.random.choice(list(selection_set), sample_sizes[i])])\n",
    "        past_set = list(selection_set)\n",
    "        \n",
    "    return random_rounds\n",
    "\n",
    "def get_all_sampled_genes(exp_path):\n",
    "    all_sampled_genes = []\n",
    "    num_rounds = len(glob.glob(exp_path + '*'))\n",
    "    for i in range(num_rounds):\n",
    "        exp_path_ = exp_path + str(i) + '.npy'\n",
    "        all_sampled_genes.append(np.load(exp_path_))\n",
    "    return all_sampled_genes\n",
    "\n",
    "def get_successful_sample_sizes(sampled_genes):\n",
    "    sizes = []\n",
    "    prev_size = 0\n",
    "    for sample in sampled_genes:\n",
    "        sizes.append(len(sample)-prev_size)\n",
    "        prev_size = prev_size + sizes[-1]\n",
    "    return sizes\n",
    "\n",
    "def return_hits(arr):\n",
    "    return list(set(arr).intersection(set(topmovers)))"
   ]
  },
  {
   "cell_type": "code",
   "execution_count": 41,
   "metadata": {},
   "outputs": [],
   "source": [
    "REPS = np.arange(1, 10).astype('str')\n",
    "ACQUISITION_FUNCTIONS = [\"discobax\", \"random\", \"softuncertain\", \"topuncertain\",\n",
    "                         \"marginsample\", \"coreset\", \"badge\",\n",
    "                         \"kmeans_embedding\", \"kmeans_data\"]\n",
    "\n",
    "#ACQUISITION_FUNCTIONS = [\"discobax\", \"random\", \"coreset\"]\n",
    "\n",
    "dataset = 'il2'\n",
    "\n",
    "if dataset =='scharenberg':\n",
    "    sample_size= 32\n",
    "else:\n",
    "    sample_size= 128\n",
    "\n",
    "num_steps = 5\n",
    "ai_steps = 5\n",
    "\n",
    "data_formal_name = {'scharenberg': 'Scharenberg22',\n",
    "                 'ifng': 'Schmidt22 (IFNG)',\n",
    "                 'il2': 'Schmidt22 (IL2)',\n",
    "                 'steinhart': 'Steinhart',\n",
    "                 'sanchez': 'Sanchez21',\n",
    "                 'carnevale_adenosine': 'Carnevale22'}\n",
    "\n",
    "data_name_map = {'scharenberg': 'Scharenberg22',\n",
    "                 'ifng': 'IFNG',\n",
    "                 'il2': 'IL2',\n",
    "                 'steinhart': 'Steinhart_crispra_GD2_D22',\n",
    "                 'scharenberg': 'Scharenberg22',\n",
    "                 'sanchez': 'Sanchez21_down',\n",
    "                 'carnevale_adenosine': 'Carnevale22_Adenosine'}\n",
    "\n",
    "result_name_map = {'scharenberg': 'scharenberg_2022',\n",
    "                 'ifng': 'Schmidt_2021_ifng',\n",
    "                 'il2': 'Schmidt_2021_il2',\n",
    "                 'steinhart': 'steinhart_2024_crispra_GD2_D22',\n",
    "                 'scharenberg': 'scharenberg_2022',\n",
    "                 'sanchez': 'sanchez_2021_down',\n",
    "                 'carnevale_adenosine': 'Carnevale_2022_Adenosine'}\n",
    "\n",
    "ai_run_name = {'scharenberg': '32_Scharenberg',\n",
    "                 'ifng': 'IFNG',\n",
    "                 'il2': 'IL2',\n",
    "                 'steinhart': 'Steinhart',\n",
    "                 'sanchez': 'Sanchez21_down',\n",
    "                 'carnevale_adenosine': '128_Carnevale22_Adenosine'}\n",
    "\n",
    "    \n",
    "num_reps = len(REPS)\n",
    "batch_size=sample_size\n",
    "\n",
    "data_df = pd.read_csv('/dfs/user/yhr/AI_RA/research_assistant/datasets/ground_truth_'+data_name_map[dataset]+'.csv')\n",
    "topmovers = np.load('/dfs/user/yhr/AI_RA/research_assistant/datasets/topmovers_'+data_name_map[dataset]+'.npy')\n",
    "\n",
    "if dataset == 'sanchez':\n",
    "    ai_data_path = '/dfs/user/qhwang/bio_combo/v1_all_Sanchez21_down/'\n",
    "else:\n",
    "    ##ai_data_path = glob.glob(f'/dfs/scratch0/andleerew/v1_all_*{ai_run_name[dataset]}*')[0]\n",
    "    ai_data_path = glob.glob(f'/dfs/scratch0/jianv/bio-logs/agent-final/v4_all3_again50*{ai_run_name[dataset]}*')[0]\n",
    "\n",
    "try:\n",
    "    data_df = data_df.rename(columns={'0':'Gene', '1':'Score'})\n",
    "except:\n",
    "    pass\n",
    "\n",
    "all_genes = data_df['Gene'].values\n",
    "data_df = data_df.set_index('Gene')"
   ]
  },
  {
   "cell_type": "code",
   "execution_count": 46,
   "metadata": {},
   "outputs": [
    {
     "data": {
      "text/plain": [
       "'/dfs/scratch0/jianv/bio-logs/agent-final/v4_all3_again50_IL2'"
      ]
     },
     "execution_count": 46,
     "metadata": {},
     "output_type": "execute_result"
    }
   ],
   "source": [
    "ai_data_path"
   ]
  },
  {
   "cell_type": "markdown",
   "metadata": {},
   "source": [
    "### ML model results"
   ]
  },
  {
   "cell_type": "code",
   "execution_count": 47,
   "metadata": {},
   "outputs": [],
   "source": [
    "## For steinhart\n",
    "\n",
    "#data_name = 'schmidt_2021_ifng_noise'\n",
    "#data_name = 'belk_2022'\n",
    "data_name = result_name_map[dataset]\n",
    "\n",
    "def decapital(string):\n",
    "    return string[0].lower() + string[1:]\n",
    "\n",
    "def read_ml_rounds(data_name, num_steps, batch_size, ML_model_name):\n",
    "    #path = f'/dfs/user/yhr/genedisco/genedisco/results/Schmidt_2021_'+data_name+'/'\n",
    "    \n",
    "    ## special path for steinhart\n",
    "    path = f'/dfs/user/yhr/genedisco/genedisco/results/'+data_name+'/'\n",
    "    if ML_model_name == 'discobax':\n",
    "        path = f'/dfs/user/yhr/DiscoBAX/discobax/apps/results/'+data_name+'/'\n",
    "    print(path)\n",
    "    all_pred_genes = []\n",
    "    for i in range(num_steps):\n",
    "        try:\n",
    "            if ML_model_name == 'discobax':\n",
    "                all_pred_genes.append(pd.read_pickle(path+'cycle_{}/selected_indices.pkl'.format(i)))\n",
    "            else:\n",
    "                all_pred_genes.append(pd.read_pickle(path+'cycle_{}/selected_indices.pickle'.format(i)))\n",
    "        except:\n",
    "            print('No sampling round {}'.format(i))\n",
    "    return all_pred_genes\n",
    "\n",
    "def get_ml_hits(data_name, ML_model_name, num_steps = num_steps, \n",
    "                batch_size=batch_size,\n",
    "                num_reps=2):\n",
    "    \n",
    "    ml_rounds = {}\n",
    "    ml_hits = {}\n",
    "    ml_hit_rates = {}\n",
    "    \n",
    "    for rep in range(1, num_reps+1):\n",
    "        rep=str(rep)\n",
    "        if ML_model_name == 'discobax':\n",
    "            ml_rounds[rep] = read_ml_rounds(decapital(data_name) + '_' + ML_model_name + '_{}'.format(rep)+f'/{decapital(data_name)}_achilles_0.1_bayesian_mlp_discobax_20_1000', \n",
    "                                        num_steps, batch_size=batch_size, ML_model_name=ML_model_name)\n",
    "        else:\n",
    "            ml_rounds[rep] = read_ml_rounds(data_name + '_' + ML_model_name + '_{}'.format(rep), \n",
    "                                        num_steps, batch_size=batch_size, ML_model_name=ML_model_name)\n",
    "        ml_hits[rep] = []\n",
    "        ml_hit_rates[rep] = []\n",
    "        for step in range(num_steps):\n",
    "            ml_hits[rep].append(return_hits(ml_rounds[rep][step]))\n",
    "            ml_hit_rates[rep].append(len(ml_hits[rep][-1])/len(topmovers))\n",
    "        \n",
    "    return ml_hit_rates, ml_hits\n",
    "\n",
    "def get_random_hits(sample_size, num_steps = num_steps, num_reps=3):\n",
    "    random_rounds = {}\n",
    "    random_hits = {}\n",
    "    random_hit_rates = {}\n",
    "\n",
    "    for rep in range(1, num_reps+1):\n",
    "        rep=str(rep)\n",
    "        random_rounds[rep] = generate_random_rounds(all_genes, rounds = num_steps, sample_size=sample_size)\n",
    "        #random_rounds[rep] = generate_random_rounds_custom(all_genes, rounds = num_steps, \n",
    "        #                                                   sample_sizes=sample_sizes[rep])\n",
    "\n",
    "        random_hits[rep] = []\n",
    "        random_hit_rates[rep] = []\n",
    "        for step in range(num_steps):\n",
    "            random_hits[rep].append(return_hits(random_rounds[rep][step]))\n",
    "            random_hit_rates[rep].append(len(random_hits[rep][-1])/len(topmovers))\n",
    "            \n",
    "    return random_hit_rates, random_hits\n",
    "\n",
    "def get_avg_hit_score(hits):\n",
    "    return data_df.loc[hits].abs().mean().values[0]\n",
    "\n",
    "def get_avg_hit_scores(hits, num_reps=3):\n",
    "    hit_scores = []\n",
    "    \n",
    "    for rep in range(1, num_reps+1):\n",
    "        hit_score_rep = []\n",
    "        for hit_list in hits[str(rep)]:\n",
    "            hit_score_rep.append(get_avg_hit_score(hit_list))\n",
    "        hit_scores.append(hit_score_rep)\n",
    "\n",
    "    return np.round(np.nanmean(np.array(hit_scores), 0),3)\n",
    "\n",
    "\n",
    "def get_ai_hits(data_path, num_steps = 10, batch_size=batch_size,\n",
    "                num_reps=10):\n",
    "    \n",
    "    ml_rounds = {}\n",
    "    ml_hits = {}\n",
    "    ml_hit_rates = {}\n",
    "    \n",
    "    for rep in range(1, num_reps+1):\n",
    "        rep=str(rep)\n",
    "        predicted_genes = glob.glob(data_path + f'/dummy_summary{rep}/sampled_genes_*')\n",
    "        predicted_genes = np.sort(predicted_genes)\n",
    "\n",
    "        ml_hits[rep] = []\n",
    "        ml_hit_rates[rep] = []\n",
    "        for file in predicted_genes:\n",
    "            pred_genes = np.load(file)\n",
    "            ml_hits[rep].append(return_hits(pred_genes))\n",
    "            ml_hit_rates[rep].append(len(ml_hits[rep][-1])/len(topmovers))\n",
    "        \n",
    "    return ml_hit_rates, ml_hits"
   ]
  },
  {
   "cell_type": "code",
   "execution_count": 48,
   "metadata": {},
   "outputs": [
    {
     "name": "stdout",
     "output_type": "stream",
     "text": [
      "discobax\n",
      "/dfs/user/yhr/DiscoBAX/discobax/apps/results/schmidt_2021_il2_discobax_1/schmidt_2021_il2_achilles_0.1_bayesian_mlp_discobax_20_1000/\n",
      "/dfs/user/yhr/DiscoBAX/discobax/apps/results/schmidt_2021_il2_discobax_2/schmidt_2021_il2_achilles_0.1_bayesian_mlp_discobax_20_1000/\n",
      "/dfs/user/yhr/DiscoBAX/discobax/apps/results/schmidt_2021_il2_discobax_3/schmidt_2021_il2_achilles_0.1_bayesian_mlp_discobax_20_1000/\n",
      "/dfs/user/yhr/DiscoBAX/discobax/apps/results/schmidt_2021_il2_discobax_4/schmidt_2021_il2_achilles_0.1_bayesian_mlp_discobax_20_1000/\n",
      "/dfs/user/yhr/DiscoBAX/discobax/apps/results/schmidt_2021_il2_discobax_5/schmidt_2021_il2_achilles_0.1_bayesian_mlp_discobax_20_1000/\n",
      "/dfs/user/yhr/DiscoBAX/discobax/apps/results/schmidt_2021_il2_discobax_6/schmidt_2021_il2_achilles_0.1_bayesian_mlp_discobax_20_1000/\n",
      "/dfs/user/yhr/DiscoBAX/discobax/apps/results/schmidt_2021_il2_discobax_7/schmidt_2021_il2_achilles_0.1_bayesian_mlp_discobax_20_1000/\n",
      "/dfs/user/yhr/DiscoBAX/discobax/apps/results/schmidt_2021_il2_discobax_8/schmidt_2021_il2_achilles_0.1_bayesian_mlp_discobax_20_1000/\n",
      "/dfs/user/yhr/DiscoBAX/discobax/apps/results/schmidt_2021_il2_discobax_9/schmidt_2021_il2_achilles_0.1_bayesian_mlp_discobax_20_1000/\n",
      "random\n",
      "/dfs/user/yhr/genedisco/genedisco/results/Schmidt_2021_il2_random_1/\n",
      "/dfs/user/yhr/genedisco/genedisco/results/Schmidt_2021_il2_random_2/\n",
      "/dfs/user/yhr/genedisco/genedisco/results/Schmidt_2021_il2_random_3/\n",
      "/dfs/user/yhr/genedisco/genedisco/results/Schmidt_2021_il2_random_4/\n",
      "/dfs/user/yhr/genedisco/genedisco/results/Schmidt_2021_il2_random_5/\n",
      "/dfs/user/yhr/genedisco/genedisco/results/Schmidt_2021_il2_random_6/\n",
      "/dfs/user/yhr/genedisco/genedisco/results/Schmidt_2021_il2_random_7/\n",
      "/dfs/user/yhr/genedisco/genedisco/results/Schmidt_2021_il2_random_8/\n",
      "/dfs/user/yhr/genedisco/genedisco/results/Schmidt_2021_il2_random_9/\n",
      "softuncertain\n",
      "/dfs/user/yhr/genedisco/genedisco/results/Schmidt_2021_il2_softuncertain_1/\n",
      "/dfs/user/yhr/genedisco/genedisco/results/Schmidt_2021_il2_softuncertain_2/\n",
      "/dfs/user/yhr/genedisco/genedisco/results/Schmidt_2021_il2_softuncertain_3/\n",
      "/dfs/user/yhr/genedisco/genedisco/results/Schmidt_2021_il2_softuncertain_4/\n",
      "/dfs/user/yhr/genedisco/genedisco/results/Schmidt_2021_il2_softuncertain_5/\n",
      "/dfs/user/yhr/genedisco/genedisco/results/Schmidt_2021_il2_softuncertain_6/\n",
      "/dfs/user/yhr/genedisco/genedisco/results/Schmidt_2021_il2_softuncertain_7/\n",
      "/dfs/user/yhr/genedisco/genedisco/results/Schmidt_2021_il2_softuncertain_8/\n",
      "/dfs/user/yhr/genedisco/genedisco/results/Schmidt_2021_il2_softuncertain_9/\n",
      "topuncertain\n",
      "/dfs/user/yhr/genedisco/genedisco/results/Schmidt_2021_il2_topuncertain_1/\n",
      "/dfs/user/yhr/genedisco/genedisco/results/Schmidt_2021_il2_topuncertain_2/\n",
      "/dfs/user/yhr/genedisco/genedisco/results/Schmidt_2021_il2_topuncertain_3/\n",
      "/dfs/user/yhr/genedisco/genedisco/results/Schmidt_2021_il2_topuncertain_4/\n",
      "/dfs/user/yhr/genedisco/genedisco/results/Schmidt_2021_il2_topuncertain_5/\n",
      "/dfs/user/yhr/genedisco/genedisco/results/Schmidt_2021_il2_topuncertain_6/\n",
      "/dfs/user/yhr/genedisco/genedisco/results/Schmidt_2021_il2_topuncertain_7/\n",
      "/dfs/user/yhr/genedisco/genedisco/results/Schmidt_2021_il2_topuncertain_8/\n",
      "/dfs/user/yhr/genedisco/genedisco/results/Schmidt_2021_il2_topuncertain_9/\n",
      "marginsample\n",
      "/dfs/user/yhr/genedisco/genedisco/results/Schmidt_2021_il2_marginsample_1/\n",
      "/dfs/user/yhr/genedisco/genedisco/results/Schmidt_2021_il2_marginsample_2/\n",
      "/dfs/user/yhr/genedisco/genedisco/results/Schmidt_2021_il2_marginsample_3/\n",
      "/dfs/user/yhr/genedisco/genedisco/results/Schmidt_2021_il2_marginsample_4/\n",
      "/dfs/user/yhr/genedisco/genedisco/results/Schmidt_2021_il2_marginsample_5/\n",
      "/dfs/user/yhr/genedisco/genedisco/results/Schmidt_2021_il2_marginsample_6/\n",
      "/dfs/user/yhr/genedisco/genedisco/results/Schmidt_2021_il2_marginsample_7/\n",
      "/dfs/user/yhr/genedisco/genedisco/results/Schmidt_2021_il2_marginsample_8/\n",
      "/dfs/user/yhr/genedisco/genedisco/results/Schmidt_2021_il2_marginsample_9/\n",
      "coreset\n",
      "/dfs/user/yhr/genedisco/genedisco/results/Schmidt_2021_il2_coreset_1/\n",
      "/dfs/user/yhr/genedisco/genedisco/results/Schmidt_2021_il2_coreset_2/\n",
      "/dfs/user/yhr/genedisco/genedisco/results/Schmidt_2021_il2_coreset_3/\n",
      "/dfs/user/yhr/genedisco/genedisco/results/Schmidt_2021_il2_coreset_4/\n",
      "/dfs/user/yhr/genedisco/genedisco/results/Schmidt_2021_il2_coreset_5/\n",
      "/dfs/user/yhr/genedisco/genedisco/results/Schmidt_2021_il2_coreset_6/\n",
      "/dfs/user/yhr/genedisco/genedisco/results/Schmidt_2021_il2_coreset_7/\n",
      "/dfs/user/yhr/genedisco/genedisco/results/Schmidt_2021_il2_coreset_8/\n",
      "/dfs/user/yhr/genedisco/genedisco/results/Schmidt_2021_il2_coreset_9/\n",
      "badge\n",
      "/dfs/user/yhr/genedisco/genedisco/results/Schmidt_2021_il2_badge_1/\n",
      "/dfs/user/yhr/genedisco/genedisco/results/Schmidt_2021_il2_badge_2/\n",
      "/dfs/user/yhr/genedisco/genedisco/results/Schmidt_2021_il2_badge_3/\n",
      "/dfs/user/yhr/genedisco/genedisco/results/Schmidt_2021_il2_badge_4/\n",
      "/dfs/user/yhr/genedisco/genedisco/results/Schmidt_2021_il2_badge_5/\n",
      "/dfs/user/yhr/genedisco/genedisco/results/Schmidt_2021_il2_badge_6/\n",
      "/dfs/user/yhr/genedisco/genedisco/results/Schmidt_2021_il2_badge_7/\n",
      "/dfs/user/yhr/genedisco/genedisco/results/Schmidt_2021_il2_badge_8/\n",
      "/dfs/user/yhr/genedisco/genedisco/results/Schmidt_2021_il2_badge_9/\n",
      "kmeans_embedding\n",
      "/dfs/user/yhr/genedisco/genedisco/results/Schmidt_2021_il2_kmeans_embedding_1/\n",
      "/dfs/user/yhr/genedisco/genedisco/results/Schmidt_2021_il2_kmeans_embedding_2/\n",
      "/dfs/user/yhr/genedisco/genedisco/results/Schmidt_2021_il2_kmeans_embedding_3/\n",
      "/dfs/user/yhr/genedisco/genedisco/results/Schmidt_2021_il2_kmeans_embedding_4/\n",
      "/dfs/user/yhr/genedisco/genedisco/results/Schmidt_2021_il2_kmeans_embedding_5/\n",
      "/dfs/user/yhr/genedisco/genedisco/results/Schmidt_2021_il2_kmeans_embedding_6/\n",
      "/dfs/user/yhr/genedisco/genedisco/results/Schmidt_2021_il2_kmeans_embedding_7/\n",
      "/dfs/user/yhr/genedisco/genedisco/results/Schmidt_2021_il2_kmeans_embedding_8/\n",
      "/dfs/user/yhr/genedisco/genedisco/results/Schmidt_2021_il2_kmeans_embedding_9/\n",
      "kmeans_data\n",
      "/dfs/user/yhr/genedisco/genedisco/results/Schmidt_2021_il2_kmeans_data_1/\n",
      "/dfs/user/yhr/genedisco/genedisco/results/Schmidt_2021_il2_kmeans_data_2/\n",
      "/dfs/user/yhr/genedisco/genedisco/results/Schmidt_2021_il2_kmeans_data_3/\n",
      "/dfs/user/yhr/genedisco/genedisco/results/Schmidt_2021_il2_kmeans_data_4/\n",
      "/dfs/user/yhr/genedisco/genedisco/results/Schmidt_2021_il2_kmeans_data_5/\n",
      "/dfs/user/yhr/genedisco/genedisco/results/Schmidt_2021_il2_kmeans_data_6/\n",
      "/dfs/user/yhr/genedisco/genedisco/results/Schmidt_2021_il2_kmeans_data_7/\n",
      "/dfs/user/yhr/genedisco/genedisco/results/Schmidt_2021_il2_kmeans_data_8/\n",
      "/dfs/user/yhr/genedisco/genedisco/results/Schmidt_2021_il2_kmeans_data_9/\n"
     ]
    }
   ],
   "source": [
    "# calculate the mean and standard deviation of the random data\n",
    "random_hit_rates, random_hits = get_random_hits(sample_size, num_steps = num_steps, num_reps=num_reps)\n",
    "random_mean = np.mean(np.array([x for x in random_hit_rates.values()]),0)\n",
    "random_std = np.std(np.array([x for x in random_hit_rates.values()]),0)\n",
    "\n",
    "# calculate the mean and standard deviation for the model predictions\n",
    "ml_mean = {}\n",
    "ml_std = {}\n",
    "ml_scores = {}\n",
    "\n",
    "ai_mean = {}\n",
    "ai_std = {}\n",
    "ai_scores = {}\n",
    "\n",
    "for ML_model_name in ACQUISITION_FUNCTIONS:\n",
    "    \n",
    "    print(ML_model_name)\n",
    "    \n",
    "    try:\n",
    "        ml_hit_rates, ml_hits = get_ml_hits(data_name, ML_model_name, num_steps = num_steps, \n",
    "                                            num_reps=num_reps,\n",
    "                                            batch_size=batch_size)\n",
    "        ml_scores[ML_model_name] = get_avg_hit_scores(ml_hits, num_reps=num_reps)\n",
    "        \n",
    "        ml_mean[ML_model_name] = np.round(np.mean(np.array([x for x in ml_hit_rates.values()]),0),3)\n",
    "        ml_std[ML_model_name] = np.round(np.std(np.array([x for x in ml_hit_rates.values()]),0),3)\n",
    "    except:\n",
    "        print('Failed')\n",
    "        \n",
    "\n",
    "ai_hit_rates, ai_hits = get_ai_hits(ai_data_path, num_steps = ai_steps, batch_size=batch_size,\n",
    "                                            num_reps=num_reps)\n",
    "#ai_scores['agent_final'] = get_avg_hit_scores(ai_hits, num_reps=num_reps)\n",
    "\n",
    "ai_mean['agent_final'] = np.round(np.mean(np.array([x for x in ai_hit_rates.values() if len(x)!= 0]),0),3)\n",
    "ai_std['agent_final'] = np.round(np.std(np.array([x for x in ai_hit_rates.values() if len(x)!= 0]),0),3)"
   ]
  },
  {
   "cell_type": "code",
   "execution_count": 49,
   "metadata": {},
   "outputs": [
    {
     "data": {
      "text/plain": [
       "{'discobax': array([0.005, 0.026, 0.05 , 0.06 , 0.074]),\n",
       " 'random': array([0.007, 0.014, 0.02 , 0.027, 0.034]),\n",
       " 'softuncertain': array([0.008, 0.014, 0.023, 0.03 , 0.037]),\n",
       " 'topuncertain': array([0.006, 0.02 , 0.05 , 0.062, 0.072]),\n",
       " 'marginsample': array([0.008, 0.011, 0.047, 0.057, 0.061]),\n",
       " 'coreset': array([0.008, 0.032, 0.056, 0.083, 0.102]),\n",
       " 'badge': array([0.007, 0.022, 0.044, 0.06 , 0.077]),\n",
       " 'kmeans_embedding': array([0.007, 0.02 , 0.035, 0.05 , 0.064]),\n",
       " 'kmeans_data': array([0.006, 0.026, 0.042, 0.06 , 0.074])}"
      ]
     },
     "execution_count": 49,
     "metadata": {},
     "output_type": "execute_result"
    }
   ],
   "source": [
    "ml_mean"
   ]
  },
  {
   "cell_type": "code",
   "execution_count": 50,
   "metadata": {},
   "outputs": [
    {
     "data": {
      "text/plain": [
       "{'agent_final': array([0.026, 0.077, 0.097, 0.109, 0.125])}"
      ]
     },
     "execution_count": 50,
     "metadata": {},
     "output_type": "execute_result"
    }
   ],
   "source": [
    "ai_mean"
   ]
  },
  {
   "cell_type": "code",
   "execution_count": 40,
   "metadata": {},
   "outputs": [
    {
     "data": {
      "text/plain": [
       "{'agent_final': array([0.032, 0.142, 0.051, 0.065, 0.079, 0.089, 0.097, 0.105, 0.117,\n",
       "        0.127])}"
      ]
     },
     "execution_count": 40,
     "metadata": {},
     "output_type": "execute_result"
    }
   ],
   "source": [
    "ai_mean"
   ]
  },
  {
   "cell_type": "markdown",
   "metadata": {},
   "source": [
    "### Plot Results"
   ]
  },
  {
   "cell_type": "code",
   "execution_count": 218,
   "metadata": {},
   "outputs": [],
   "source": [
    "import matplotlib\n",
    "from matplotlib.lines import Line2D\n",
    "font = {\n",
    "        'size'   : 16}\n",
    "\n",
    "matplotlib.rc('font', **font)"
   ]
  },
  {
   "cell_type": "code",
   "execution_count": 219,
   "metadata": {},
   "outputs": [],
   "source": [
    "colors = [\n",
    "    \"#17becf\",   # Blue-teal\n",
    "    \"#1f77b4\",  # Muted blue\n",
    "    \"#ff7f0e\",  # Safety orange\n",
    "    \"#2ca02c\",  # Cooked asparagus green\n",
    "    \"#d62728\",  # Brick red\n",
    "    \"#9467bd\",  # Muted purple\n",
    "    \"#8c564b\",  # Chestnut brown\n",
    "    \"#e377c2\",  # Raspberry yogurt pink\n",
    "    \"#7f7f7f\"  # Middle gray\n",
    "]\n",
    "\n",
    "modelname_map = {'random': 'Random', \n",
    "                 'softuncertain': 'Soft Uncertain', \n",
    "                 'topuncertain': 'Top Uncertain', \n",
    "                 'marginsample': 'Margin Sample',\n",
    "                 'coreset': 'Coreset', \n",
    "                 'badge': 'Badge', \n",
    "                 'kmeans_embedding': 'K-Means (Embedding)', \n",
    "                 'kmeans_data': 'K-Means (Data)',\n",
    "                 'discobax': 'DiscoBAX'}"
   ]
  },
  {
   "cell_type": "code",
   "execution_count": 220,
   "metadata": {},
   "outputs": [
    {
     "data": {
      "text/plain": [
       "{'discobax': array([0.007, 0.011, 0.018, 0.03 , 0.045]),\n",
       " 'random': array([0.008, 0.016, 0.024, 0.031, 0.038]),\n",
       " 'softuncertain': array([0.007, 0.014, 0.021, 0.026, 0.035]),\n",
       " 'topuncertain': array([0.007, 0.015, 0.024, 0.031, 0.037]),\n",
       " 'marginsample': array([0.008, 0.013, 0.023, 0.03 , 0.037]),\n",
       " 'coreset': array([0.008, 0.016, 0.026, 0.037, 0.047]),\n",
       " 'badge': array([0.008, 0.014, 0.024, 0.034, 0.044]),\n",
       " 'kmeans_embedding': array([0.006, 0.012, 0.019, 0.027, 0.036]),\n",
       " 'kmeans_data': array([0.007, 0.013, 0.02 , 0.03 , 0.039])}"
      ]
     },
     "execution_count": 220,
     "metadata": {},
     "output_type": "execute_result"
    }
   ],
   "source": [
    "ml_mean"
   ]
  },
  {
   "cell_type": "code",
   "execution_count": 221,
   "metadata": {},
   "outputs": [
    {
     "data": {
      "text/plain": [
       "{'agent_final': array([0.014, 0.024, 0.035, 0.044, 0.054])}"
      ]
     },
     "execution_count": 221,
     "metadata": {},
     "output_type": "execute_result"
    }
   ],
   "source": [
    "ai_mean"
   ]
  },
  {
   "cell_type": "code",
   "execution_count": 222,
   "metadata": {},
   "outputs": [
    {
     "data": {
      "image/png": "[encoded data removed]",
      "text/plain": [
       "<Figure size 432x288 with 1 Axes>"
      ]
     },
     "metadata": {
      "needs_background": "light"
     },
     "output_type": "display_data"
    }
   ],
   "source": [
    "for i, (model, data) in enumerate(ml_mean.items()):\n",
    "    _ = plt.plot(np.arange(num_steps)+1, ml_mean[model], label=modelname_map[model], color=colors[i])\n",
    "    plt.fill_between(np.arange(num_steps)+1, \n",
    "                     ml_mean[model] - ml_std[model], \n",
    "                     ml_mean[model] + ml_std[model],\n",
    "                     color=colors[i], alpha=0.05)\n",
    "\n",
    "plt.plot(np.arange(num_steps) + 1, ai_mean['agent_final'], label='BioDiscoveryAgent', color='black', linewidth=2)\n",
    "plt.fill_between(np.arange(num_steps)+1, \n",
    "                     ai_mean['agent_final'] - ai_std['agent_final'], \n",
    "                     ai_mean['agent_final'] + ai_std['agent_final'],\n",
    "                     color='gray', alpha=0.15)\n",
    "\n",
    "plt.title(data_formal_name[dataset])\n",
    "plt.xlabel('Experiment Rounds')\n",
    "plt.ylabel('Hit Ratio')\n",
    "\n",
    "handles, labels = plt.gca().get_legend_handles_labels()\n",
    "custom_handles = [Line2D([0], [0], color=h.get_color(), lw=10) for h in handles]\n",
    "#plt.legend(handles=custom_handles, labels=labels, bbox_to_anchor=(1,-0.5), ncol=5)\n",
    "\n",
    "\n",
    "#plt.legend(bbox_to_anchor=(1,1))\n",
    "plt.savefig(dataset+'.svg', bbox_inches = 'tight')\n"
   ]
  },
  {
   "cell_type": "code",
   "execution_count": 13,
   "metadata": {},
   "outputs": [
    {
     "data": {
      "text/plain": [
       "dict_keys(['random', 'softuncertain', 'topuncertain', 'marginsample', 'coreset', 'badge', 'kmeans_embedding', 'kmeans_data'])"
      ]
     },
     "execution_count": 13,
     "metadata": {},
     "output_type": "execute_result"
    }
   ],
   "source": [
    "ml_mean.keys()"
   ]
  },
  {
   "cell_type": "code",
   "execution_count": 15,
   "metadata": {},
   "outputs": [],
   "source": []
  },
  {
   "cell_type": "code",
   "execution_count": null,
   "metadata": {},
   "outputs": [],
   "source": []
  }
 ],
 "metadata": {
  "kernelspec": {
   "display_name": "uce",
   "language": "python",
   "name": "uce"
  },
  "language_info": {
   "codemirror_mode": {
    "name": "ipython",
    "version": 3
   },
   "file_extension": ".py",
   "mimetype": "text/x-python",
   "name": "python",
   "nbconvert_exporter": "python",
   "pygments_lexer": "ipython3",
   "version": "3.10.12"
  }
 },
 "nbformat": 4,
 "nbformat_minor": 4
}
