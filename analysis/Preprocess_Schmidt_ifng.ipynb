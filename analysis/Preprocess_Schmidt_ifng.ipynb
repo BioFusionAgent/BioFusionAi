{
 "cells": [
  {
   "cell_type": "code",
   "execution_count": 2,
   "metadata": {},
   "outputs": [],
   "source": [
    "import os\n",
    "import numpy as np\n",
    "import pandas as pd\n",
    "import slingpy as sp\n",
    "from genedisco.datasets.features.hgnc_names import HGNCNames\n",
    "from slingpy.data_access.data_sources.hdf5_tools import HDF5Tools\n",
    "from slingpy.data_access.data_sources.hdf5_data_source import HDF5DataSource\n",
    "from slingpy.data_access.data_sources.abstract_data_source import AbstractDataSource\n",
    "\n",
    "import matplotlib.pyplot as plt\n",
    "from screen import ScreenData\n",
    "import scanpy as sc\n",
    "%matplotlib inline\n",
    "import matplotlib"
   ]
  },
  {
   "cell_type": "code",
   "execution_count": 3,
   "metadata": {},
   "outputs": [],
   "source": [
    "save_directory = '/dfs/user/yhr/genedisco/genedisco/datasets/screens/'"
   ]
  },
  {
   "cell_type": "markdown",
   "metadata": {},
   "source": [
    "### Genedisco/Slingpy dataloader"
   ]
  },
  {
   "cell_type": "code",
   "execution_count": 87,
   "metadata": {},
   "outputs": [],
   "source": [
    "h5_file = \"/dfs/user/yhr/research_assistant/datasets/ground_truth_IFNG.csv\"\n",
    "if not os.path.exists(h5_file):\n",
    "    d1_file_path = os.path.join(dir_path, \"schmidt_ifng_d1.gene_summary.txt\")\n",
    "    df = pd.read_csv(d1_file_path, sep=\"\\t\", index_col=\"id\")\n",
    "    d2_file_path = os.path.join(dir_path, \"schmidt_ifng_d2.gene_summary.txt\")\n",
    "    df_d2 = pd.read_csv(d2_file_path, sep=\"\\t\", index_col=\"id\")\n",
    "\n",
    "    df = pd.concat([df, df_d2])\n",
    "    group_by_row_index = df.groupby(df.index)\n",
    "    df = group_by_row_index.mean()\n",
    "\n",
    "    gene_names = df.index.values.tolist()\n",
    "    name_converter = HGNCNames('/dfs/user/yhr/genedisco/genedisco/datasets/screens/')\n",
    "    gene_names = name_converter.update_outdated_gene_names(gene_names)\n",
    "    df.index = gene_names\n",
    "\n",
    "    # Merge duplicate indices by averaging\n",
    "    df = df.groupby(df.index).mean()\n",
    "    gene_names, data = df.index.values.tolist(), df[['pos|lfc']].values.astype(np.float32)\n",
    "\n",
    "\n",
    "    HDF5Tools.save_h5_file(h5_file,\n",
    "                           data,\n",
    "                           \"carnevale_2022_{}.h5\".format(screen_name),\n",
    "                           column_names=[\"log-fold-change\"],\n",
    "                           row_names=gene_names)\n",
    "data_source = HDF5DataSource(h5_file, duplicate_merge_strategy=sp.MeanMergeStrategy())"
   ]
  },
  {
   "cell_type": "code",
   "execution_count": null,
   "metadata": {},
   "outputs": [],
   "source": [
    "data_source = HDF5DataSource(h5_file, duplicate_merge_strategy=sp.MeanMergeStrategy())"
   ]
  },
  {
   "cell_type": "markdown",
   "metadata": {},
   "source": [
    "### AI RA dataloader"
   ]
  },
  {
   "cell_type": "code",
   "execution_count": 4,
   "metadata": {},
   "outputs": [
    {
     "name": "stderr",
     "output_type": "stream",
     "text": [
      "/dfs/user/yhr/causal/lib/python3.8/site-packages/genedisco/datasets/features/hgnc_names.py:95: DtypeWarning: Columns (31,38) have mixed types.Specify dtype option on import or set low_memory=False.\n",
      "  previous_mapping = self.get_hgnc_mapping(to_id=\"symbol\", from_id=other_id_name)\n"
     ]
    }
   ],
   "source": [
    "out_file = \"/dfs/user/yhr/research_assistant/datasets/ground_truth_IFNG.csv\"\n",
    "dir_path = \"/dfs/user/yhr/genedisco/genedisco/datasets/screens/\"\n",
    "\n",
    "d1_file_path = os.path.join(dir_path, \"schmidt_ifng_d1.gene_summary.txt\")\n",
    "df = pd.read_csv(d1_file_path, sep=\"\\t\", index_col=\"id\")\n",
    "d2_file_path = os.path.join(dir_path, \"schmidt_ifng_d2.gene_summary.txt\")\n",
    "df_d2 = pd.read_csv(d2_file_path, sep=\"\\t\", index_col=\"id\")\n",
    "\n",
    "df = pd.concat([df, df_d2])\n",
    "group_by_row_index = df.groupby(df.index)\n",
    "df = group_by_row_index.mean()\n",
    "\n",
    "gene_names = df.index.values.tolist()\n",
    "name_converter = HGNCNames('/dfs/user/yhr/genedisco/genedisco/datasets/screens/')\n",
    "gene_names = name_converter.update_outdated_gene_names(gene_names)\n",
    "df.index = gene_names\n",
    "\n",
    "gene_names, data = df.index.values.tolist(), df[['pos|lfc']].values.astype(np.float32)\n",
    "\n",
    "# Merge duplicate indices by averaging\n",
    "df = df.groupby(df.index).mean()\n",
    "df['pos|lfc'] = df['pos|lfc'].values.astype(np.float32)\n",
    "df = df.loc[:,['pos|lfc']]\n",
    "df = df.rename(columns = {'pos|lfc':'log-fold-change'})\n",
    "df = df.reset_index().rename(columns={'index':'Gene'})\n",
    "\n",
    "df.to_csv(out_file, index=0)"
   ]
  },
  {
   "cell_type": "code",
   "execution_count": 7,
   "metadata": {},
   "outputs": [],
   "source": [
    "file_path = \"/dfs/user/yhr/research_assistant/datasets/ground_truth_IFNG.csv\"\n",
    "id_col = 'Gene'\n",
    "val_col = 'log-fold-change'\n",
    "bio_taskname = 'IFNG'\n",
    "\n",
    "screendata = ScreenData(file_path=file_path, id_col=id_col,\n",
    "       val_col=val_col, bio_taskname=bio_taskname, save=True)\n",
    "screendata.identify_hits(type_='gaussian', save=True)"
   ]
  },
  {
   "cell_type": "code",
   "execution_count": null,
   "metadata": {},
   "outputs": [],
   "source": []
  }
 ],
 "metadata": {
  "kernelspec": {
   "display_name": "causal",
   "language": "python",
   "name": "causal"
  },
  "language_info": {
   "codemirror_mode": {
    "name": "ipython",
    "version": 3
   },
   "file_extension": ".py",
   "mimetype": "text/x-python",
   "name": "python",
   "nbconvert_exporter": "python",
   "pygments_lexer": "ipython3",
   "version": "3.8.6"
  }
 },
 "nbformat": 4,
 "nbformat_minor": 2
}
