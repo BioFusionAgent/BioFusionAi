{
 "cells": [
  {
   "cell_type": "code",
   "execution_count": 1,
   "metadata": {},
   "outputs": [],
   "source": [
    "import glob\n",
    "import numpy"
   ]
  },
  {
   "cell_type": "code",
   "execution_count": 2,
   "metadata": {},
   "outputs": [],
   "source": [
    "REPS = ['1', '2', '3', '4', '5', '6', '7', '8', '9', '10']\n",
    "\n",
    "\n",
    "\n",
    "#ACQUISITION_FUNCTIONS = [\n",
    "#        \"random\", \"topuncertain\", \"softuncertain\", \"marginsample\", \"badge\",\n",
    "#        \"kmeans_embedding\", \"kmeans_data\", \"coreset\"\n",
    "#    ]\n",
    "\n",
    "ACQUISITION_FUNCTIONS = [\n",
    "        \"coreset\"\n",
    "    ]\n",
    "num_rounds = 30\n",
    "\n",
    "\n",
    "batch_size = 32 ##### SET THIS ONLY"
   ]
  },
  {
   "cell_type": "code",
   "execution_count": 3,
   "metadata": {},
   "outputs": [],
   "source": [
    "run_strings = []"
   ]
  },
  {
   "cell_type": "markdown",
   "metadata": {},
   "source": [
    "### Steinhart"
   ]
  },
  {
   "cell_type": "code",
   "execution_count": 15,
   "metadata": {},
   "outputs": [],
   "source": [
    "SCREEN_NAMES = ['crispra_GD2_D22']"
   ]
  },
  {
   "cell_type": "code",
   "execution_count": 16,
   "metadata": {},
   "outputs": [],
   "source": [
    "counter = 0\n",
    "\n",
    "for screen_name in SCREEN_NAMES:\n",
    "    for acquisition in ACQUISITION_FUNCTIONS:\n",
    "        for rep_num in REPS:\n",
    "            counter+=1\n",
    "            run_strings.append(\\\n",
    "            f'python  ./genedisco/apps/active_learning_loop_agentstart.py\\\n",
    "                 --cache_directory=./genedisco/genedisco_cache\\\n",
    "                 --output_directory=./genedisco/results/longruns_32/agentml_steinhart_2024_{screen_name}_{acquisition}_{rep_num}\\\n",
    "                 --model_name=\"bayesian_mlp\"\\\n",
    "                 --acquisition_function_name=\"{acquisition}\"\\\n",
    "                 --acquisition_batch_size={batch_size}\\\n",
    "                 --num_active_learning_cycles={num_rounds}\\\n",
    "                 --feature_set_name=\"achilles\"\\\n",
    "                 --dataset_name=steinhart_2024_{screen_name}\\n')"
   ]
  },
  {
   "cell_type": "markdown",
   "metadata": {},
   "source": [
    "### Sanchez 2021"
   ]
  },
  {
   "cell_type": "code",
   "execution_count": 4,
   "metadata": {},
   "outputs": [],
   "source": [
    "SCREEN_NAMES = ['sanchez_2021_down']"
   ]
  },
  {
   "cell_type": "code",
   "execution_count": 5,
   "metadata": {},
   "outputs": [],
   "source": [
    "counter = 0\n",
    "\n",
    "for screen_name in SCREEN_NAMES:\n",
    "    for acquisition in ACQUISITION_FUNCTIONS:\n",
    "        for rep_num in REPS:\n",
    "            counter+=1\n",
    "            run_strings.append(\\\n",
    "            f'python  ./genedisco/apps/active_learning_loop_agentstart.py\\\n",
    "                 --cache_directory=./genedisco/genedisco_cache\\\n",
    "                 --output_directory=./genedisco/results/longruns_32/agentml_{screen_name}_{acquisition}_{rep_num}\\\n",
    "                 --model_name=\"bayesian_mlp\"\\\n",
    "                 --acquisition_function_name=\"{acquisition}\"\\\n",
    "                 --acquisition_batch_size={batch_size}\\\n",
    "                 --num_active_learning_cycles={num_rounds}\\\n",
    "                 --feature_set_name=\"achilles\"\\\n",
    "                 --dataset_name={screen_name}\\n')"
   ]
  },
  {
   "cell_type": "markdown",
   "metadata": {},
   "source": [
    "### Schmidt 2021"
   ]
  },
  {
   "cell_type": "code",
   "execution_count": 4,
   "metadata": {},
   "outputs": [],
   "source": [
    "SCREEN_NAMES = ['il2']"
   ]
  },
  {
   "cell_type": "code",
   "execution_count": 5,
   "metadata": {},
   "outputs": [],
   "source": [
    "counter = 0\n",
    "\n",
    "for screen_name in SCREEN_NAMES:\n",
    "    for acquisition in ACQUISITION_FUNCTIONS:\n",
    "        for rep_num in REPS:\n",
    "            counter+=1\n",
    "            run_strings.append(\\\n",
    "            f'python  ./genedisco/apps/active_learning_loop_agentstart.py\\\n",
    "                 --cache_directory=./genedisco/genedisco_cache_{screen_name}\\\n",
    "                 --output_directory=./genedisco/results/longruns_32/agentml_Schmidt_2021_{screen_name}_{acquisition}_{rep_num}\\\n",
    "                 --model_name=\"bayesian_mlp\"\\\n",
    "                 --acquisition_function_name=\"{acquisition}\"\\\n",
    "                 --acquisition_batch_size={batch_size}\\\n",
    "                 --num_active_learning_cycles={num_rounds}\\\n",
    "                 --feature_set_name=\"achilles\"\\\n",
    "                 --dataset_name=schmidt_2021_{screen_name}\\n')"
   ]
  },
  {
   "cell_type": "markdown",
   "metadata": {},
   "source": [
    "### Scharenberg 2022"
   ]
  },
  {
   "cell_type": "code",
   "execution_count": 10,
   "metadata": {},
   "outputs": [],
   "source": [
    "SCREEN_NAMES = ['scharenberg_2022']"
   ]
  },
  {
   "cell_type": "code",
   "execution_count": 11,
   "metadata": {},
   "outputs": [],
   "source": [
    "counter = 0\n",
    "## special batch size here\n",
    "batch_size_scharenberg = 32\n",
    "\n",
    "for screen_name in SCREEN_NAMES:\n",
    "    for acquisition in ACQUISITION_FUNCTIONS:\n",
    "        for rep_num in REPS:\n",
    "            counter+=1\n",
    "            run_strings.append(\\\n",
    "            f'python  ./genedisco/apps/active_learning_loop_agentstart.py\\\n",
    "                 --cache_directory=./genedisco/genedisco_cache\\\n",
    "                 --output_directory=./genedisco/results/longruns_32/agentml_{screen_name}_{acquisition}_{rep_num}\\\n",
    "                 --model_name=\"bayesian_mlp\"\\\n",
    "                 --acquisition_function_name=\"{acquisition}\"\\\n",
    "                 --acquisition_batch_size={batch_size_scharenberg}\\\n",
    "                 --num_active_learning_cycles={num_rounds}\\\n",
    "                 --feature_set_name=\"achilles\"\\\n",
    "                 --dataset_name={screen_name}\\n')"
   ]
  },
  {
   "cell_type": "markdown",
   "metadata": {},
   "source": [
    "### Carnevale"
   ]
  },
  {
   "cell_type": "code",
   "execution_count": 4,
   "metadata": {},
   "outputs": [],
   "source": [
    "##SCREEN_NAMES = ['Adenosine', 'TGFb', 'Cyclosporine', 'Tacrolimus']\n",
    "SCREEN_NAMES = ['Adenosine']"
   ]
  },
  {
   "cell_type": "code",
   "execution_count": 5,
   "metadata": {},
   "outputs": [],
   "source": [
    "counter = 0\n",
    "\n",
    "for screen_name in SCREEN_NAMES:\n",
    "    for acquisition in ACQUISITION_FUNCTIONS:\n",
    "        for rep_num in REPS:\n",
    "            counter+=1\n",
    "            run_strings.append(\\\n",
    "            f'python  ./genedisco/apps/active_learning_loop_agentstart.py\\\n",
    "                 --cache_directory=./genedisco/genedisco_cache\\\n",
    "                 --output_directory=./genedisco/results/longruns_32/agentml_Carnevale_2022_{screen_name}_{acquisition}_{rep_num}\\\n",
    "                 --model_name=\"bayesian_mlp\"\\\n",
    "                 --acquisition_function_name=\"{acquisition}\"\\\n",
    "                 --acquisition_batch_size={batch_size}\\\n",
    "                 --num_active_learning_cycles={num_rounds}\\\n",
    "                 --feature_set_name=\"achilles\"\\\n",
    "                 --dataset_name=carnevale_2022_{screen_name}\\n')"
   ]
  },
  {
   "cell_type": "markdown",
   "metadata": {},
   "source": [
    "### Write run scripts to file"
   ]
  },
  {
   "cell_type": "code",
   "execution_count": 6,
   "metadata": {},
   "outputs": [],
   "source": [
    "import os\n",
    "\n",
    "# Define the number of files to split into\n",
    "num_files = 10\n",
    "\n",
    "# Calculate the number of run strings per file\n",
    "num_run_strings_per_file = len(run_strings) // num_files\n",
    "\n",
    "# Create a directory to store the files if it doesn't exist\n",
    "output_directory = \"/dfs/user/yhr/genedisco/run_files_longruns/\"\n",
    "os.makedirs(output_directory, exist_ok=True)\n",
    "\n",
    "# Split run_strings into multiple chunks\n",
    "run_string_chunks = [run_strings[i:i+num_run_strings_per_file] for i in range(0, len(run_strings), num_run_strings_per_file)]\n",
    "\n",
    "# Write each run string chunk to a separate file\n",
    "for i, chunk in enumerate(run_string_chunks):\n",
    "    file_path = os.path.join(output_directory, f\"run_file_{i}.txt\")\n",
    "    with open(file_path, \"w\") as f:\n",
    "        f.writelines('source /dfs/user/yhr/causal/bin/activate \\n')\n",
    "        f.writelines(chunk)\n"
   ]
  },
  {
   "cell_type": "markdown",
   "metadata": {},
   "source": [
    "### Belk 22"
   ]
  },
  {
   "cell_type": "code",
   "execution_count": 6,
   "metadata": {},
   "outputs": [],
   "source": [
    "SCREEN_NAMES = ['belk_2022']"
   ]
  },
  {
   "cell_type": "code",
   "execution_count": 7,
   "metadata": {},
   "outputs": [],
   "source": [
    "counter = 0\n",
    "\n",
    "for screen_name in SCREEN_NAMES:\n",
    "    for acquisition in ACQUISITION_FUNCTIONS:\n",
    "        for rep_num in REPS:\n",
    "            counter+=1\n",
    "            run_strings.append(\\\n",
    "            f'python  ./genedisco/apps/active_learning_loop.py\\\n",
    "                 --cache_directory=./genedisco/genedisco_cache\\\n",
    "                 --output_directory=./genedisco/results/{screen_name}_{acquisition}_{rep_num}\\\n",
    "                 --model_name=\"bayesian_mlp\"\\\n",
    "                 --acquisition_function_name=\"{acquisition}\"\\\n",
    "                 --acquisition_batch_size=128\\\n",
    "                 --num_active_learning_cycles=10\\\n",
    "                 --feature_set_name=\"achilles\"\\\n",
    "                 --dataset_name={screen_name}\\n')"
   ]
  },
  {
   "cell_type": "markdown",
   "metadata": {},
   "source": [
    "### DiscoBAX"
   ]
  },
  {
   "cell_type": "code",
   "execution_count": 80,
   "metadata": {},
   "outputs": [],
   "source": [
    "REPS = ['1', '2', '3', '4', '5', '6', '7', '8', '9', '10']\n",
    "ACQUISITION_FUNCTIONS = [\"discobax\"]\n",
    "num_rounds = 10\n",
    "batch_size = 128"
   ]
  },
  {
   "cell_type": "code",
   "execution_count": 81,
   "metadata": {},
   "outputs": [],
   "source": [
    "run_strings = []"
   ]
  },
  {
   "cell_type": "code",
   "execution_count": 82,
   "metadata": {},
   "outputs": [],
   "source": [
    "#SCREEN_NAMES = ['schmidt_2021_ifng', 'schmidt_2021_il2']\n",
    "#SCREEN_NAMES = ['steinhart_2024_crispra_GD2_D22', 'carnevale_2022_Adenosine', 'sanchez_2021_down']\n",
    "SCREEN_NAMES = ['carnevale_2022_Adenosine']\n",
    "#SCREEN_NAMES = ['scharenberg_2022']"
   ]
  },
  {
   "cell_type": "code",
   "execution_count": 83,
   "metadata": {},
   "outputs": [],
   "source": [
    "counter = 5\n",
    "\n",
    "for screen_name in SCREEN_NAMES:\n",
    "    for acquisition in ACQUISITION_FUNCTIONS:\n",
    "        for rep_num in REPS:\n",
    "            counter+=1\n",
    "            run_strings.append(\\\n",
    "            f'python genedisco_experiment.py \\\n",
    "                --cache_directory=./cache \\\n",
    "                --output_directory=./results/{screen_name}_{acquisition}_{rep_num}\\\n",
    "                --performance_file_location=./out/perf_file\\\n",
    "                --model_name=\"bayesian_mlp\" \\\n",
    "                --acquisition_function_name=\"{acquisition}\"\\\n",
    "                --acquisition_batch_size={batch_size} \\\n",
    "                --num_active_learning_cycles=5 \\\n",
    "                --feature_set_name=\"achilles\" \\\n",
    "                --dataset_name={screen_name}\\\n",
    "                --seed=1000\\n')"
   ]
  },
  {
   "cell_type": "code",
   "execution_count": 85,
   "metadata": {},
   "outputs": [],
   "source": [
    "import os\n",
    "\n",
    "# Define the number of files to split into\n",
    "num_files = 5\n",
    "\n",
    "# Calculate the number of run strings per file\n",
    "num_run_strings_per_file = len(run_strings) // num_files\n",
    "\n",
    "# Create a directory to store the files if it doesn't exist\n",
    "output_directory = \"/dfs/user/yhr/DiscoBAX/discobax/apps\"\n",
    "os.makedirs(output_directory, exist_ok=True)\n",
    "\n",
    "# Split run_strings into multiple chunks\n",
    "run_string_chunks = [run_strings[i:i+num_run_strings_per_file] for i in range(0, len(run_strings), num_run_strings_per_file)]\n",
    "\n",
    "# Write each run string chunk to a separate file\n",
    "for i, chunk in enumerate(run_string_chunks):\n",
    "    file_path = os.path.join(output_directory, f\"run_file_{1+i}.txt\")\n",
    "    with open(file_path, \"w\") as f:\n",
    "        f.writelines('source /dfs/user/yhr/causal/bin/activate \\n')\n",
    "        f.writelines(chunk)\n"
   ]
  },
  {
   "cell_type": "raw",
   "metadata": {},
   "source": []
  },
  {
   "cell_type": "code",
   "execution_count": null,
   "metadata": {},
   "outputs": [],
   "source": []
  },
  {
   "cell_type": "code",
   "execution_count": null,
   "metadata": {},
   "outputs": [],
   "source": []
  }
 ],
 "metadata": {
  "kernelspec": {
   "display_name": "uce",
   "language": "python",
   "name": "uce"
  },
  "language_info": {
   "codemirror_mode": {
    "name": "ipython",
    "version": 3
   },
   "file_extension": ".py",
   "mimetype": "text/x-python",
   "name": "python",
   "nbconvert_exporter": "python",
   "pygments_lexer": "ipython3",
   "version": "3.10.12"
  }
 },
 "nbformat": 4,
 "nbformat_minor": 4
}
