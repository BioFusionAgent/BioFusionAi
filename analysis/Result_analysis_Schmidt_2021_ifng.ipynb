{
 "cells": [
  {
   "cell_type": "code",
   "execution_count": 1,
   "metadata": {},
   "outputs": [],
   "source": [
    "import pandas as pd\n",
    "import pickle as pkl\n",
    "import numpy as np\n",
    "\n",
    "import matplotlib.pyplot as plt\n",
    "\n",
    "import scanpy as sc\n",
    "%matplotlib inline\n",
    "import matplotlib"
   ]
  },
  {
   "cell_type": "markdown",
   "metadata": {},
   "source": [
    "### Read in dataset"
   ]
  },
  {
   "cell_type": "code",
   "execution_count": 2,
   "metadata": {},
   "outputs": [],
   "source": [
    "data_df = pd.read_csv('/dfs/user/yhr/research_assistant/datasets/ground_truth_IFNG.csv')\n",
    "topmovers = np.load('/dfs/user/yhr/research_assistant/datasets/topmovers_IFNG.npy')\n",
    "all_genes = data_df['Gene'].values"
   ]
  },
  {
   "cell_type": "markdown",
   "metadata": {},
   "source": [
    "### Random baseline"
   ]
  },
  {
   "cell_type": "code",
   "execution_count": 3,
   "metadata": {},
   "outputs": [],
   "source": [
    "def generate_random_rounds(all_genes, round0=None, rounds = 16, sample_size=64):\n",
    "    past_set =list(all_genes)\n",
    "    random_rounds = {}\n",
    "    if round0 is not None:\n",
    "        random_rounds[0] = round0\n",
    "    else:\n",
    "        random_rounds[0] = np.random.choice(all_genes, sample_size)\n",
    "    \n",
    "    for i in range(1,rounds):\n",
    "        selection_set = set(past_set).difference(set(random_rounds[i-1]))\n",
    "        random_rounds[i] = np.concatenate([random_rounds[i-1], np.random.choice(list(selection_set), sample_size)])\n",
    "        past_set = list(selection_set)\n",
    "        \n",
    "    return random_rounds\n",
    "\n",
    "def generate_random_rounds_custom(all_genes, rounds = 16, sample_sizes=None):\n",
    "    past_set =list(all_genes)\n",
    "    random_rounds = {}\n",
    "    random_rounds[0] = []\n",
    "    \n",
    "    for i in range(1,rounds):\n",
    "        selection_set = set(past_set).difference(set(random_rounds[i-1]))\n",
    "        random_rounds[i] = np.concatenate([random_rounds[i-1], np.random.choice(list(selection_set), sample_sizes[i])])\n",
    "        past_set = list(selection_set)\n",
    "        \n",
    "    return random_rounds\n",
    "\n",
    "def return_hits(list_):\n",
    "    return list(set(list_).intersection(set(topmovers)))\n",
    "\n",
    "def get_all_sampled_genes(exp_path, num_rounds = 100):\n",
    "    all_sampled_genes = []\n",
    "    for i in range(1,num_rounds):\n",
    "        exp_path_ = exp_path + str(i) + '.npy'\n",
    "        all_sampled_genes.append(np.load(exp_path_))\n",
    "    return all_sampled_genes\n",
    "\n",
    "def get_successful_sample_sizes(sampled_genes):\n",
    "    sizes = []\n",
    "    prev_size = 0\n",
    "    for sample in sampled_genes:\n",
    "        sizes.append(len(sample)-prev_size)\n",
    "        prev_size = prev_size + sizes[-1]\n",
    "    return sizes\n",
    "\n",
    "def return_hits(arr):\n",
    "    return list(set(arr).intersection(set(topmovers)))"
   ]
  },
  {
   "cell_type": "markdown",
   "metadata": {},
   "source": [
    "### genedisco fixing dataloader"
   ]
  },
  {
   "cell_type": "code",
   "execution_count": 14,
   "metadata": {},
   "outputs": [],
   "source": [
    "num_steps = 20\n",
    "sample_size = 256\n",
    "results = pd.read_pickle('/dfs/user/yhr/genedisco/results_coreset/results.pickle')[:num_steps]\n",
    "results_old = pd.read_pickle('/dfs/user/yhr/genedisco/results_coreset_old/results.pickle')[:num_steps]\n",
    "##random_results = pd.read_pickle('/dfs/user/yhr/genedisco-starter/genedisco_output_ifng_random_1/results.pickle')"
   ]
  },
  {
   "cell_type": "code",
   "execution_count": 15,
   "metadata": {},
   "outputs": [],
   "source": [
    "random_rounds = {}\n",
    "random_hits = {}\n",
    "random_hit_rates = {}\n",
    "\n",
    "for rep in range(1, 3+1):\n",
    "    rep=str(rep)\n",
    "    random_rounds[rep] = generate_random_rounds(all_genes, rounds = num_steps, sample_size=sample_size)\n",
    "    #random_rounds[rep] = generate_random_rounds_custom(all_genes, rounds = num_steps, \n",
    "    #                                                   sample_sizes=sample_sizes[rep])\n",
    "    \n",
    "    random_hits[rep] = []\n",
    "    random_hit_rates[rep] = []\n",
    "    for step in range(num_steps):\n",
    "        random_hits[rep].append(return_hits(random_rounds[rep][step]))\n",
    "        random_hit_rates[rep].append(len(random_hits[rep][-1])/len(topmovers))\n",
    "        \n",
    "# calculate the mean and standard deviation of the random data\n",
    "random_mean = np.mean(np.array([x for x in random_hit_rates.values()]),0)\n",
    "random_std = np.std(np.array([x for x in random_hit_rates.values()]),0)"
   ]
  },
  {
   "cell_type": "code",
   "execution_count": 16,
   "metadata": {},
   "outputs": [],
   "source": [
    "hits_ml_model = [x['HitRatio'] for x in results]\n",
    "hits_old_ml_model = [x['HitRatio'] for x in results_old]"
   ]
  },
  {
   "cell_type": "code",
   "execution_count": 18,
   "metadata": {},
   "outputs": [
    {
     "data": {
      "image/png": "[encoded data removed]",
      "text/plain": [
       "<Figure size 432x288 with 1 Axes>"
      ]
     },
     "metadata": {
      "needs_background": "light"
     },
     "output_type": "display_data"
    }
   ],
   "source": [
    "import matplotlib.pyplot as plt\n",
    "import numpy as np\n",
    "\n",
    "# create the plot\n",
    "plt.plot(np.arange(num_steps), random_mean, label='Random')\n",
    "plt.fill_between(np.arange(num_steps), random_mean - random_std, \n",
    "                         random_mean + random_std, alpha=0.2)\n",
    "\n",
    "# add the coreset results to the plot\n",
    "plt.plot(np.arange(num_steps), hits_ml_model, label='Coreset (Fixed version)')\n",
    "\n",
    "# add the wrong model results to the plot\n",
    "plt.plot(np.arange(num_steps), hits_old_ml_model, label='Coreset (Previous version)')\n",
    "\n",
    "# set the x-axis labels and tick marks\n",
    "plt.xlabel('Rounds')\n",
    "\n",
    "# add a legend to the plot\n",
    "plt.legend(bbox_to_anchor=(1.1, 1.05))\n",
    "\n",
    "# display the plot\n",
    "plt.show()"
   ]
  },
  {
   "cell_type": "markdown",
   "metadata": {},
   "source": [
    "### Equal sampling: Claude"
   ]
  },
  {
   "cell_type": "code",
   "execution_count": 4,
   "metadata": {},
   "outputs": [],
   "source": [
    "import glob\n",
    "\n",
    "exp_paths = {\n",
    " '1':'/dfs/user/yhr/research_assistant/logs_IFNG/exp1/sampled_genes_',\n",
    " '2':'/dfs/user/yhr/research_assistant/logs_IFNG/exp2/sampled_genes_',\n",
    " '3':'/dfs/user/yhr/research_assistant/logs_IFNG/exp3/sampled_genes_',\n",
    "}"
   ]
  },
  {
   "cell_type": "code",
   "execution_count": 15,
   "metadata": {},
   "outputs": [],
   "source": [
    "sampled_genes = {}\n",
    "sample_sizes = {}\n",
    "hits = {}\n",
    "hit_rates = {}\n",
    "num_rounds = 24\n",
    "filter_zero_sets = True\n",
    "\n",
    "for rep in range(1, len(exp_paths)+1):\n",
    "    rep = str(rep)\n",
    "    sampled_genes[rep] = get_all_sampled_genes(exp_paths[rep], num_rounds=num_rounds)\n",
    "    sample_sizes[rep] = get_successful_sample_sizes(sampled_genes[rep])\n",
    "    if filter_zero_sets:\n",
    "         sampled_genes[rep] = [sampled_genes[rep][itr] for itr in np.where(np.array(sample_sizes[rep])!= 0)[0]]\n",
    "    \n",
    "    hits[rep] = []\n",
    "    hit_rates[rep] = []\n",
    "    hits[rep] = [return_hits(x) for x in sampled_genes[rep]]\n",
    "    hit_rates[rep] = [len(x)/len(topmovers) for x in hits[rep]]"
   ]
  },
  {
   "cell_type": "code",
   "execution_count": 16,
   "metadata": {},
   "outputs": [
    {
     "data": {
      "text/plain": [
       "<BarContainer object of 23 artists>"
      ]
     },
     "execution_count": 16,
     "metadata": {},
     "output_type": "execute_result"
    },
    {
     "data": {
      "image/png": "[encoded data removed]",
      "text/plain": [
       "<Figure size 1080x360 with 1 Axes>"
      ]
     },
     "metadata": {
      "needs_background": "light"
     },
     "output_type": "display_data"
    },
    {
     "data": {
      "image/png": "[encoded data removed]",
      "text/plain": [
       "<Figure size 1080x360 with 1 Axes>"
      ]
     },
     "metadata": {
      "needs_background": "light"
     },
     "output_type": "display_data"
    },
    {
     "data": {
      "image/png": "[encoded data removed]",
      "text/plain": [
       "<Figure size 1080x360 with 1 Axes>"
      ]
     },
     "metadata": {
      "needs_background": "light"
     },
     "output_type": "display_data"
    }
   ],
   "source": [
    "## GPT has trouble counting\n",
    "\n",
    "plt.figure(figsize=[15,5])\n",
    "plt.ylabel('Sampled Genes')\n",
    "plt.xlabel('Rounds')\n",
    "plt.axhline(y=32, color='r', linestyle='--')\n",
    "plt.bar(range(len(sample_sizes['1'])), sample_sizes['1'])\n",
    "\n",
    "plt.figure(figsize=[15,5])\n",
    "plt.ylabel('Sampled Genes')\n",
    "plt.xlabel('Rounds')\n",
    "plt.axhline(y=32, color='r', linestyle='--')\n",
    "plt.bar(range(len(sample_sizes['1'])), sample_sizes['2'])\n",
    "\n",
    "plt.figure(figsize=[15,5])\n",
    "plt.ylabel('Sampled Genes')\n",
    "plt.xlabel('Rounds')\n",
    "plt.axhline(y=32, color='r', linestyle='--')\n",
    "plt.bar(range(len(sample_sizes['1'])), sample_sizes['3'])"
   ]
  },
  {
   "cell_type": "code",
   "execution_count": 17,
   "metadata": {},
   "outputs": [],
   "source": [
    "num_steps = np.min([len(x) for x in sampled_genes.values()])\n",
    "num_reps = 3\n",
    "sample_size=32"
   ]
  },
  {
   "cell_type": "code",
   "execution_count": 18,
   "metadata": {},
   "outputs": [],
   "source": [
    "random_rounds = {}\n",
    "random_hits = {}\n",
    "random_hit_rates = {}\n",
    "\n",
    "for rep in range(1, len(exp_paths)+1):\n",
    "    rep=str(rep)\n",
    "    random_rounds[rep] = generate_random_rounds(all_genes, rounds = num_steps, sample_size=sample_size)\n",
    "    #random_rounds[rep] = generate_random_rounds_custom(all_genes, rounds = num_steps, \n",
    "    #                                                   sample_sizes=sample_sizes[rep])\n",
    "    \n",
    "    random_hits[rep] = []\n",
    "    random_hit_rates[rep] = []\n",
    "    for step in range(num_steps):\n",
    "        random_hits[rep].append(return_hits(random_rounds[rep][step]))\n",
    "        random_hit_rates[rep].append(len(random_hits[rep][-1])/len(topmovers))\n",
    "        \n",
    "# calculate the mean and standard deviation of the random data\n",
    "random_mean = np.mean(np.array([x for x in random_hit_rates.values()]),0)\n",
    "random_std = np.std(np.array([x for x in random_hit_rates.values()]),0)"
   ]
  },
  {
   "cell_type": "code",
   "execution_count": 19,
   "metadata": {},
   "outputs": [
    {
     "data": {
      "image/png": "[encoded data removed]",
      "text/plain": [
       "<Figure size 432x288 with 1 Axes>"
      ]
     },
     "metadata": {
      "needs_background": "light"
     },
     "output_type": "display_data"
    }
   ],
   "source": [
    "import matplotlib.pyplot as plt\n",
    "import numpy as np\n",
    "\n",
    "\n",
    "ai_ra_mean_claude = np.mean(np.array([x[:num_steps] for x in hit_rates.values()]),0)\n",
    "ai_ra_std_claude = np.std(np.array([x[:num_steps] for x in hit_rates.values()]),0)\n",
    "\n",
    "\n",
    "# create the plot\n",
    "plt.plot(np.arange(num_steps), random_mean, label='Random')\n",
    "plt.fill_between(np.arange(num_steps), random_mean - random_std, \n",
    "                         random_mean + random_std, alpha=0.2)\n",
    "\n",
    "# add the GPT data to the plot\n",
    "plt.plot(np.arange(num_steps), ai_ra_mean_claude, label='LLM (Claude)')\n",
    "plt.fill_between(np.arange(num_steps), ai_ra_mean_claude - ai_ra_std_claude, \n",
    "                             ai_ra_mean_claude + ai_ra_std_claude, alpha=0.2)\n",
    "\n",
    "# set the x-axis labels and tick marks\n",
    "plt.xlabel('Rounds')\n",
    "\n",
    "# add a legend to the plot\n",
    "plt.legend(bbox_to_anchor=(1.1, 1.05))\n",
    "\n",
    "# display the plot\n",
    "plt.show()"
   ]
  },
  {
   "cell_type": "markdown",
   "metadata": {},
   "source": [
    "### Equal sampling: GPT4"
   ]
  },
  {
   "cell_type": "code",
   "execution_count": 38,
   "metadata": {},
   "outputs": [],
   "source": [
    "import glob\n",
    "\n",
    "exp_paths = {\n",
    " '1':'/dfs/user/yhr/research_assistant/logs_Belk22/exp_gpt4_fix_1/sampled_genes_',\n",
    " #'2':'/dfs/user/yhr/research_assistant/logs_Belk22/exp_gpt4_2/sampled_genes_'\n",
    "}"
   ]
  },
  {
   "cell_type": "code",
   "execution_count": 39,
   "metadata": {},
   "outputs": [],
   "source": [
    "sampled_genes = {}\n",
    "sample_sizes = {}\n",
    "hits = {}\n",
    "hit_rates = {}\n",
    "num_rounds = 24\n",
    "filter_zero_sets = True\n",
    "\n",
    "for rep in range(1, len(exp_paths)+1):\n",
    "    rep = str(rep)\n",
    "    sampled_genes[rep] = get_all_sampled_genes(exp_paths[rep], num_rounds=num_rounds)\n",
    "    sample_sizes[rep] = get_successful_sample_sizes(sampled_genes[rep])\n",
    "    if filter_zero_sets:\n",
    "         sampled_genes[rep] = [sampled_genes[rep][itr] for itr in np.where(np.array(sample_sizes[rep])!= 0)[0]]\n",
    "    \n",
    "    hits[rep] = []\n",
    "    hit_rates[rep] = []\n",
    "    hits[rep] = [return_hits(x) for x in sampled_genes[rep]]\n",
    "    hit_rates[rep] = [len(x)/len(topmovers) for x in hits[rep]]"
   ]
  },
  {
   "cell_type": "code",
   "execution_count": 40,
   "metadata": {},
   "outputs": [
    {
     "data": {
      "text/plain": [
       "\"\\nplt.figure(figsize=[15,5])\\nplt.ylabel('Sampled Genes')\\nplt.xlabel('Rounds')\\nplt.axhline(y=32, color='r', linestyle='--')\\nplt.bar(range(len(sample_sizes['1'])), sample_sizes['2'])\\n\\nplt.figure(figsize=[15,5])\\nplt.ylabel('Sampled Genes')\\nplt.xlabel('Rounds')\\nplt.axhline(y=32, color='r', linestyle='--')\\nplt.bar(range(len(sample_sizes['1'])), sample_sizes['3'])\\n\""
      ]
     },
     "execution_count": 40,
     "metadata": {},
     "output_type": "execute_result"
    },
    {
     "data": {
      "image/png": "[encoded data removed]",
      "text/plain": [
       "<Figure size 1080x360 with 1 Axes>"
      ]
     },
     "metadata": {
      "needs_background": "light"
     },
     "output_type": "display_data"
    }
   ],
   "source": [
    "## GPT has trouble counting\n",
    "\n",
    "plt.figure(figsize=[15,5])\n",
    "plt.ylabel('Sampled Genes')\n",
    "plt.xlabel('Rounds')\n",
    "plt.axhline(y=32, color='r', linestyle='--')\n",
    "plt.bar(range(len(sample_sizes['1'])), sample_sizes['1'])\n",
    "\n",
    "\"\"\"\n",
    "plt.figure(figsize=[15,5])\n",
    "plt.ylabel('Sampled Genes')\n",
    "plt.xlabel('Rounds')\n",
    "plt.axhline(y=32, color='r', linestyle='--')\n",
    "plt.bar(range(len(sample_sizes['1'])), sample_sizes['2'])\n",
    "\n",
    "plt.figure(figsize=[15,5])\n",
    "plt.ylabel('Sampled Genes')\n",
    "plt.xlabel('Rounds')\n",
    "plt.axhline(y=32, color='r', linestyle='--')\n",
    "plt.bar(range(len(sample_sizes['1'])), sample_sizes['3'])\n",
    "\"\"\""
   ]
  },
  {
   "cell_type": "code",
   "execution_count": 41,
   "metadata": {},
   "outputs": [],
   "source": [
    "num_steps = np.min([len(x) for x in sampled_genes.values()])\n",
    "num_reps = 3\n",
    "sample_size=32"
   ]
  },
  {
   "cell_type": "code",
   "execution_count": 42,
   "metadata": {},
   "outputs": [],
   "source": [
    "random_rounds = {}\n",
    "random_hits = {}\n",
    "random_hit_rates = {}\n",
    "\n",
    "for rep in range(1, len(exp_paths)+1):\n",
    "    rep=str(rep)\n",
    "    random_rounds[rep] = generate_random_rounds(all_genes, rounds = num_steps, sample_size=sample_size)\n",
    "    #random_rounds[rep] = generate_random_rounds_custom(all_genes, rounds = num_steps, \n",
    "    #                                                   sample_sizes=sample_sizes[rep])\n",
    "    \n",
    "    random_hits[rep] = []\n",
    "    random_hit_rates[rep] = []\n",
    "    for step in range(num_steps):\n",
    "        random_hits[rep].append(return_hits(random_rounds[rep][step]))\n",
    "        random_hit_rates[rep].append(len(random_hits[rep][-1])/len(topmovers))"
   ]
  },
  {
   "cell_type": "code",
   "execution_count": null,
   "metadata": {},
   "outputs": [],
   "source": [
    "import matplotlib.pyplot as plt\n",
    "import numpy as np\n",
    "\n",
    "# calculate the mean and standard deviation of the random data\n",
    "random_mean = np.mean(np.array([x for x in random_hit_rates.values()]),0)\n",
    "random_std = np.std(np.array([x for x in random_hit_rates.values()]),0)\n",
    "\n",
    "\n",
    "ai_ra_mean_gpt4 = np.mean(np.array([x[:num_steps] for x in hit_rates.values()]),0)\n",
    "ai_ra_std_gpt4 = np.std(np.array([x[:num_steps] for x in hit_rates.values()]),0)\n",
    "\n",
    "\n",
    "# create the plot\n",
    "plt.plot(np.arange(num_steps), random_mean, label='Random')\n",
    "plt.fill_between(np.arange(num_steps), random_mean - random_std, \n",
    "                         random_mean + random_std, alpha=0.2)\n",
    "\n",
    "# add the GPT data to the plot\n",
    "plt.plot(np.arange(num_steps), ai_ra_mean_gpt4, label='LLM (Claude)')\n",
    "plt.fill_between(np.arange(num_steps), ai_ra_mean_gpt4 - ai_ra_std_gpt4, \n",
    "                             ai_ra_mean_gpt4 + ai_ra_std_gpt4, alpha=0.2)\n",
    "\n",
    "# set the x-axis labels and tick marks\n",
    "plt.xlabel('Rounds')\n",
    "\n",
    "# add a legend to the plot\n",
    "plt.legend(bbox_to_anchor=(1.1, 1.05))\n",
    "\n",
    "# display the plot\n",
    "plt.show()"
   ]
  },
  {
   "cell_type": "markdown",
   "metadata": {},
   "source": [
    "### Equal sampling: GPT3.5"
   ]
  },
  {
   "cell_type": "code",
   "execution_count": 44,
   "metadata": {},
   "outputs": [],
   "source": [
    "import glob\n",
    "\n",
    "exp_paths = {\n",
    " '1':'/dfs/user/yhr/research_assistant/logs_Belk22/gpt3.5_exp1/sampled_genes_',\n",
    " '2':'/dfs/user/yhr/research_assistant/logs_Belk22/gpt3.5_exp2/sampled_genes_',\n",
    " '3':'/dfs/user/yhr/research_assistant/logs_Belk22/gpt3.5_exp3/sampled_genes_',\n",
    "}"
   ]
  },
  {
   "cell_type": "code",
   "execution_count": 45,
   "metadata": {},
   "outputs": [],
   "source": [
    "sampled_genes = {}\n",
    "sample_sizes = {}\n",
    "hits = {}\n",
    "hit_rates = {}\n",
    "num_rounds = 25\n",
    "filter_zero_sets = True\n",
    "\n",
    "for rep in range(1, len(exp_paths)+1):\n",
    "    rep = str(rep)\n",
    "    sampled_genes[rep] = get_all_sampled_genes(exp_paths[rep], num_rounds=num_rounds)\n",
    "    sample_sizes[rep] = get_successful_sample_sizes(sampled_genes[rep])\n",
    "    if filter_zero_sets:\n",
    "         sampled_genes[rep] = [sampled_genes[rep][itr] for itr in np.where(np.array(sample_sizes[rep])!= 0)[0]]\n",
    "    \n",
    "    hits[rep] = []\n",
    "    hit_rates[rep] = []\n",
    "    hits[rep] = [return_hits(x) for x in sampled_genes[rep]]\n",
    "    hit_rates[rep] = [len(x)/len(topmovers) for x in hits[rep]]"
   ]
  },
  {
   "cell_type": "code",
   "execution_count": null,
   "metadata": {},
   "outputs": [],
   "source": [
    "## GPT has trouble counting\n",
    "\n",
    "plt.figure(figsize=[15,5])\n",
    "plt.ylabel('Sampled Genes')\n",
    "plt.xlabel('Rounds')\n",
    "plt.axhline(y=32, color='r', linestyle='--')\n",
    "plt.bar(range(len(sample_sizes['1'])), sample_sizes['1'])\n",
    "\n",
    "\"\"\"\n",
    "plt.figure(figsize=[15,5])\n",
    "plt.ylabel('Sampled Genes')\n",
    "plt.xlabel('Rounds')\n",
    "plt.axhline(y=32, color='r', linestyle='--')\n",
    "plt.bar(range(len(sample_sizes['1'])), sample_sizes['2'])\n",
    "\n",
    "plt.figure(figsize=[15,5])\n",
    "plt.ylabel('Sampled Genes')\n",
    "plt.xlabel('Rounds')\n",
    "plt.axhline(y=32, color='r', linestyle='--')\n",
    "plt.bar(range(len(sample_sizes['1'])), sample_sizes['3'])\n",
    "\"\"\""
   ]
  },
  {
   "cell_type": "code",
   "execution_count": 47,
   "metadata": {},
   "outputs": [],
   "source": [
    "num_steps = np.min([len(x) for x in sampled_genes.values()]) -1\n",
    "num_reps = 3\n",
    "sample_size=32"
   ]
  },
  {
   "cell_type": "code",
   "execution_count": null,
   "metadata": {},
   "outputs": [],
   "source": [
    "random_rounds = {}\n",
    "random_hits = {}\n",
    "random_hit_rates = {}\n",
    "\n",
    "for rep in range(1, len(exp_paths)+1):\n",
    "    rep=str(rep)\n",
    "    random_rounds[rep] = generate_random_rounds(all_genes, rounds = num_steps, sample_size=sample_size)\n",
    "    #random_rounds[rep] = generate_random_rounds_custom(all_genes, rounds = num_steps, \n",
    "    #                                                   sample_sizes=sample_sizes[rep])\n",
    "    \n",
    "    random_hits[rep] = []\n",
    "    random_hit_rates[rep] = []\n",
    "    for step in range(num_steps):\n",
    "        random_hits[rep].append(return_hits(random_rounds[rep][step]))\n",
    "        random_hit_rates[rep].append(len(random_hits[rep][-1])/len(topmovers))"
   ]
  },
  {
   "cell_type": "code",
   "execution_count": null,
   "metadata": {
    "scrolled": true
   },
   "outputs": [],
   "source": [
    "import matplotlib.pyplot as plt\n",
    "import numpy as np\n",
    "\n",
    "# calculate the mean and standard deviation of the random data\n",
    "random_mean = np.mean(np.array([x for x in random_hit_rates.values()]),0)\n",
    "random_std = np.std(np.array([x for x in random_hit_rates.values()]),0)\n",
    "\n",
    "\n",
    "ai_ra_mean_gpt35 = np.mean(np.array([x[:num_steps] for x in hit_rates.values()]),0)\n",
    "ai_ra_std_gpt35 = np.std(np.array([x[:num_steps] for x in hit_rates.values()]),0)\n",
    "\n",
    "\n",
    "# create the plot\n",
    "plt.plot(np.arange(num_steps), random_mean, label='Random')\n",
    "plt.fill_between(np.arange(num_steps), random_mean - random_std, \n",
    "                         random_mean + random_std, alpha=0.2)\n",
    "\n",
    "# add the GPT data to the plot\n",
    "plt.plot(np.arange(num_steps), ai_ra_mean_gpt35, label='LLM (GPT3.5)')\n",
    "plt.fill_between(np.arange(num_steps), ai_ra_mean_gpt35 - ai_ra_std_gpt35, \n",
    "                             ai_ra_mean_gpt35 + ai_ra_std_gpt35, alpha=0.2)\n",
    "\n",
    "# set the x-axis labels and tick marks\n",
    "plt.xlabel('Rounds')\n",
    "\n",
    "# add a legend to the plot\n",
    "plt.legend(bbox_to_anchor=(1.1, 1.05))\n",
    "\n",
    "# display the plot\n",
    "plt.show()"
   ]
  },
  {
   "cell_type": "markdown",
   "metadata": {},
   "source": [
    "### ML Model"
   ]
  },
  {
   "cell_type": "code",
   "execution_count": 49,
   "metadata": {},
   "outputs": [],
   "source": [
    "REPS = ['1', '2']\n",
    "ACQUISITION_FUNCTIONS = [\n",
    "        \"random\", \"topuncertain\", \"softuncertain\", \"marginsample\", \"coreset\", \"badge\",\n",
    "        \"kmeans_embedding\", \"kmeans_data\", \"adversarialBIM\", \"custom\"\n",
    "    ]\n",
    "SCREEN_NAMES = ['Adenosine', 'TGFb', 'Cyclosporine', 'Tacrolimus']"
   ]
  },
  {
   "cell_type": "code",
   "execution_count": 50,
   "metadata": {},
   "outputs": [],
   "source": [
    "def read_ml_rounds(out_name, num_steps):\n",
    "    path = '/dfs/user/yhr/genedisco/'+out_name +'/'\n",
    "    all_pred_genes = []\n",
    "    for i in range(num_steps):\n",
    "        try:\n",
    "            all_pred_genes.append(pd.read_pickle(path+'cycle_{}/selected_indices.pickle'.format(i)))\n",
    "        except:\n",
    "            print('No sampling round {}'.format(i))\n",
    "    return all_pred_genes"
   ]
  },
  {
   "cell_type": "code",
   "execution_count": 51,
   "metadata": {},
   "outputs": [],
   "source": [
    "model_name = 'coreset'\n",
    "#model_name = 'kmeansdata'\n",
    "\n",
    "#out_name = 'results_'+model_name+'_fix'\n",
    "out_name = 'results_'+model_name\n",
    "\n",
    "ml_rounds = {}\n",
    "ml_hits = {}\n",
    "ml_hit_rates = {}\n",
    "num_steps = 18\n",
    "\n",
    "for rep in range(1, 1+1):\n",
    "    rep=str(rep)\n",
    "    ml_rounds[rep] = read_ml_rounds(out_name, num_steps)\n",
    "    \n",
    "    ml_hits[rep] = []\n",
    "    ml_hit_rates[rep] = []\n",
    "    for step in range(num_steps):\n",
    "        ml_hits[rep].append(return_hits(ml_rounds[rep][step]))\n",
    "        ml_hit_rates[rep].append(len(ml_hits[rep][-1])/len(topmovers))"
   ]
  },
  {
   "cell_type": "code",
   "execution_count": 52,
   "metadata": {},
   "outputs": [],
   "source": [
    "# calculate the mean and standard deviation of the random data\n",
    "ml_mean = np.mean(np.array([x for x in ml_hit_rates.values()]),0)\n",
    "ml_std = np.std(np.array([x for x in ml_hit_rates.values()]),0)"
   ]
  },
  {
   "cell_type": "code",
   "execution_count": 53,
   "metadata": {},
   "outputs": [],
   "source": [
    "num_reps = 2\n",
    "sample_size=256"
   ]
  },
  {
   "cell_type": "code",
   "execution_count": 54,
   "metadata": {},
   "outputs": [],
   "source": [
    "random_rounds = {}\n",
    "random_hits = {}\n",
    "random_hit_rates = {}\n",
    "\n",
    "for rep in range(1, 3+1):\n",
    "    rep=str(rep)\n",
    "    random_rounds[rep] = generate_random_rounds(all_genes, rounds = num_steps, sample_size=sample_size)\n",
    "    #random_rounds[rep] = generate_random_rounds_custom(all_genes, rounds = num_steps, \n",
    "    #                                                   sample_sizes=sample_sizes[rep])\n",
    "    \n",
    "    random_hits[rep] = []\n",
    "    random_hit_rates[rep] = []\n",
    "    for step in range(num_steps):\n",
    "        random_hits[rep].append(return_hits(random_rounds[rep][step]))\n",
    "        random_hit_rates[rep].append(len(random_hits[rep][-1])/len(topmovers))"
   ]
  },
  {
   "cell_type": "code",
   "execution_count": 55,
   "metadata": {},
   "outputs": [
    {
     "data": {
      "image/png": "[encoded data removed]",
      "text/plain": [
       "<Figure size 432x288 with 1 Axes>"
      ]
     },
     "metadata": {
      "needs_background": "light"
     },
     "output_type": "display_data"
    }
   ],
   "source": [
    "import matplotlib.pyplot as plt\n",
    "import numpy as np\n",
    "\n",
    "# calculate the mean and standard deviation of the random data\n",
    "random_mean = np.mean(np.array([x for x in random_hit_rates.values()]),0)\n",
    "random_std = np.std(np.array([x for x in random_hit_rates.values()]),0)\n",
    "\n",
    "# create the plot\n",
    "plt.plot(np.arange(num_steps), random_mean, label='Random')\n",
    "plt.fill_between(np.arange(num_steps), random_mean - random_std, \n",
    "                         random_mean + random_std, alpha=0.2)\n",
    "\n",
    "# add the GPT data to the plot\n",
    "plt.plot(np.arange(num_steps), ml_mean, label='ML')\n",
    "plt.fill_between(np.arange(num_steps), ml_mean - ml_std, \n",
    "                             ml_mean + ml_std, alpha=0.2)\n",
    "\n",
    "# set the x-axis labels and tick marks\n",
    "plt.xlabel('Rounds')\n",
    "\n",
    "# add a legend to the plot\n",
    "plt.legend(bbox_to_anchor=(1.1, 1.05))\n",
    "\n",
    "# display the plot\n",
    "plt.show()"
   ]
  },
  {
   "cell_type": "code",
   "execution_count": 38,
   "metadata": {},
   "outputs": [
    {
     "data": {
      "image/png": "[encoded data removed]",
      "text/plain": [
       "<Figure size 432x288 with 1 Axes>"
      ]
     },
     "metadata": {
      "needs_background": "light"
     },
     "output_type": "display_data"
    }
   ],
   "source": [
    "import matplotlib.pyplot as plt\n",
    "import numpy as np\n",
    "\n",
    "# calculate the mean and standard deviation of the random data\n",
    "random_mean = np.mean(np.array([x for x in random_hit_rates.values()]),0)\n",
    "random_std = np.std(np.array([x for x in random_hit_rates.values()]),0)\n",
    "\n",
    "# create the plot\n",
    "plt.plot(np.arange(num_steps), random_mean, label='Random')\n",
    "plt.fill_between(np.arange(num_steps), random_mean - random_std, \n",
    "                         random_mean + random_std, alpha=0.2)\n",
    "\n",
    "# add the GPT data to the plot\n",
    "plt.plot(np.arange(num_steps), ml_mean, label='ML')\n",
    "plt.fill_between(np.arange(num_steps), ml_mean - ml_std, \n",
    "                             ml_mean + ml_std, alpha=0.2)\n",
    "\n",
    "# set the x-axis labels and tick marks\n",
    "plt.xlabel('Rounds')\n",
    "\n",
    "# add a legend to the plot\n",
    "plt.legend(bbox_to_anchor=(1.1, 1.05))\n",
    "\n",
    "# display the plot\n",
    "plt.show()"
   ]
  },
  {
   "cell_type": "code",
   "execution_count": null,
   "metadata": {},
   "outputs": [],
   "source": []
  },
  {
   "cell_type": "code",
   "execution_count": 45,
   "metadata": {},
   "outputs": [],
   "source": [
    "## Validate that h5s are generated correctly\n",
    "\n",
    "import h5py\n",
    "\n",
    "# Open the h5 file in read mode\n",
    "with h5py.File('/dfs/user/yhr/genedisco/genedisco/genedisco_cache/schmidt_2021_ifng.h5', 'r') as f:\n",
    "    # List the keys at the root level of the file\n",
    "    #print(list(f.items()))\n",
    "    \n",
    "    \n",
    "    # Get a dataset from the file\n",
    "    covariates = f['covariates']\n",
    "    covariates_values = covariates[()]\n",
    "    #print(covariates_values)\n",
    "    \n",
    "    # Get a dataset from the file\n",
    "    rownames = f['rownames']\n",
    "    rownames_values = rownames[()]\n",
    "    #print(rownames_values)\n",
    "    \n",
    "    # Get a dataset from the file\n",
    "    colnames = f['colnames']\n",
    "    colnames_values = colnames[()]\n",
    "    #print(colnames_values)\n",
    "    \n",
    "data_df = pd.DataFrame(index = np.array(rownames_values).astype('str'))\n",
    "data_df[colnames_values[0].decode()] = np.array(covariates_values).flatten()"
   ]
  },
  {
   "cell_type": "code",
   "execution_count": 48,
   "metadata": {},
   "outputs": [
    {
     "data": {
      "text/html": [
       "<div>\n",
       "<style scoped>\n",
       "    .dataframe tbody tr th:only-of-type {\n",
       "        vertical-align: middle;\n",
       "    }\n",
       "\n",
       "    .dataframe tbody tr th {\n",
       "        vertical-align: top;\n",
       "    }\n",
       "\n",
       "    .dataframe thead th {\n",
       "        text-align: right;\n",
       "    }\n",
       "</style>\n",
       "<table border=\"1\" class=\"dataframe\">\n",
       "  <thead>\n",
       "    <tr style=\"text-align: right;\">\n",
       "      <th></th>\n",
       "      <th>log-fold-change</th>\n",
       "    </tr>\n",
       "  </thead>\n",
       "  <tbody>\n",
       "    <tr>\n",
       "      <th>ZAP70</th>\n",
       "      <td>-3.91885</td>\n",
       "    </tr>\n",
       "    <tr>\n",
       "      <th>VAV1</th>\n",
       "      <td>-3.84365</td>\n",
       "    </tr>\n",
       "    <tr>\n",
       "      <th>CD3G</th>\n",
       "      <td>-3.62610</td>\n",
       "    </tr>\n",
       "    <tr>\n",
       "      <th>CD3D</th>\n",
       "      <td>-3.31385</td>\n",
       "    </tr>\n",
       "    <tr>\n",
       "      <th>LCP2</th>\n",
       "      <td>-2.92870</td>\n",
       "    </tr>\n",
       "    <tr>\n",
       "      <th>...</th>\n",
       "      <td>...</td>\n",
       "    </tr>\n",
       "    <tr>\n",
       "      <th>CBLB</th>\n",
       "      <td>1.35810</td>\n",
       "    </tr>\n",
       "    <tr>\n",
       "      <th>CD5</th>\n",
       "      <td>1.48280</td>\n",
       "    </tr>\n",
       "    <tr>\n",
       "      <th>RNF40</th>\n",
       "      <td>1.53100</td>\n",
       "    </tr>\n",
       "    <tr>\n",
       "      <th>NFKB2</th>\n",
       "      <td>1.58430</td>\n",
       "    </tr>\n",
       "    <tr>\n",
       "      <th>RNF20</th>\n",
       "      <td>1.69905</td>\n",
       "    </tr>\n",
       "  </tbody>\n",
       "</table>\n",
       "<p>18419 rows × 1 columns</p>\n",
       "</div>"
      ],
      "text/plain": [
       "       log-fold-change\n",
       "ZAP70         -3.91885\n",
       "VAV1          -3.84365\n",
       "CD3G          -3.62610\n",
       "CD3D          -3.31385\n",
       "LCP2          -2.92870\n",
       "...                ...\n",
       "CBLB           1.35810\n",
       "CD5            1.48280\n",
       "RNF40          1.53100\n",
       "NFKB2          1.58430\n",
       "RNF20          1.69905\n",
       "\n",
       "[18419 rows x 1 columns]"
      ]
     },
     "execution_count": 48,
     "metadata": {},
     "output_type": "execute_result"
    }
   ],
   "source": [
    "data_df.sort_values('log-fold-change')"
   ]
  },
  {
   "cell_type": "markdown",
   "metadata": {},
   "source": [
    "### Combined plot"
   ]
  },
  {
   "cell_type": "code",
   "execution_count": 70,
   "metadata": {},
   "outputs": [],
   "source": [
    "random_rounds = {}\n",
    "random_hits = {}\n",
    "random_hit_rates = {}\n",
    "\n",
    "num_steps = max(len(ai_ra_mean_gpt35),\n",
    "len(ai_ra_mean_gpt4),\n",
    "len(ai_ra_mean_claude),\n",
    "len(ml_mean))\n",
    "\n",
    "for rep in range(1, len(exp_paths)+1):\n",
    "    rep=str(rep)\n",
    "    random_rounds[rep] = generate_random_rounds(all_genes, rounds = num_steps, sample_size=sample_size)\n",
    "    #random_rounds[rep] = generate_random_rounds_custom(all_genes, rounds = num_steps, \n",
    "    #                                                   sample_sizes=sample_sizes[rep])\n",
    "    \n",
    "    random_hits[rep] = []\n",
    "    random_hit_rates[rep] = []\n",
    "    for step in range(num_steps):\n",
    "        random_hits[rep].append(return_hits(random_rounds[rep][step]))\n",
    "        random_hit_rates[rep].append(len(random_hits[rep][-1])/len(topmovers))\n",
    "        \n",
    "# calculate the mean and standard deviation of the random data\n",
    "random_mean = np.mean(np.array([x for x in random_hit_rates.values()]),0)\n",
    "random_std = np.std(np.array([x for x in random_hit_rates.values()]),0)"
   ]
  },
  {
   "cell_type": "code",
   "execution_count": 71,
   "metadata": {},
   "outputs": [
    {
     "data": {
      "image/png": "[encoded data removed]",
      "text/plain": [
       "<Figure size 432x288 with 1 Axes>"
      ]
     },
     "metadata": {
      "needs_background": "light"
     },
     "output_type": "display_data"
    }
   ],
   "source": [
    "# add the GPT data to the plot\n",
    "\n",
    "num_steps = len(ai_ra_mean_gpt35)\n",
    "plt.plot(np.arange(num_steps), ai_ra_mean_gpt35, label='GPT3.5')\n",
    "plt.fill_between(np.arange(num_steps), ai_ra_mean_gpt35 - ai_ra_std_gpt35, \n",
    "                             ai_ra_mean_gpt35 + ai_ra_std_gpt35, alpha=0.2)\n",
    "\n",
    "\n",
    "num_steps = len(ai_ra_mean_claude)\n",
    "plt.plot(np.arange(num_steps), ai_ra_mean_claude, label='Claude')\n",
    "plt.fill_between(np.arange(num_steps), ai_ra_mean_claude - ai_ra_std_claude, \n",
    "                             ai_ra_mean_claude + ai_ra_std_claude, alpha=0.2)\n",
    "\n",
    "\n",
    "num_steps = len(ai_ra_mean_gpt4)\n",
    "plt.plot(np.arange(num_steps), ai_ra_mean_gpt4, label='GPT4')\n",
    "plt.fill_between(np.arange(num_steps), ai_ra_mean_gpt4 - ai_ra_std_gpt4, \n",
    "                             ai_ra_mean_gpt4 + ai_ra_std_gpt4, alpha=0.2)\n",
    "\n",
    "\n",
    "num_steps = len(ml_mean)\n",
    "plt.plot(np.arange(num_steps), ml_mean, label='ML')\n",
    "plt.fill_between(np.arange(num_steps), ml_mean - ml_std, \n",
    "                             ml_mean + ml_std, alpha=0.2)\n",
    "\n",
    "\n",
    "\n",
    "num_steps = len(random_mean)\n",
    "plt.plot(np.arange(num_steps), random_mean, label='Random')\n",
    "plt.fill_between(np.arange(num_steps), random_mean - random_std, \n",
    "                         random_mean + random_std, alpha=0.2)\n",
    "\n",
    "# set the x-axis labels and tick marks\n",
    "plt.xlabel('Rounds')\n",
    "plt.ylabel('Hit Rate')\n",
    "\n",
    "# add a legend to the plot\n",
    "plt.legend(bbox_to_anchor=(1.1, 1.05))\n",
    "\n",
    "# display the plot\n",
    "plt.show()"
   ]
  },
  {
   "cell_type": "code",
   "execution_count": null,
   "metadata": {},
   "outputs": [],
   "source": []
  }
 ],
 "metadata": {
  "kernelspec": {
   "display_name": "deepsnap",
   "language": "python",
   "name": "deepsnap"
  },
  "language_info": {
   "codemirror_mode": {
    "name": "ipython",
    "version": 3
   },
   "file_extension": ".py",
   "mimetype": "text/x-python",
   "name": "python",
   "nbconvert_exporter": "python",
   "pygments_lexer": "ipython3",
   "version": "3.7.4"
  }
 },
 "nbformat": 4,
 "nbformat_minor": 4
}
