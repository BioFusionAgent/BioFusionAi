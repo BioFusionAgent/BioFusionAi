{
 "cells": [
  {
   "cell_type": "code",
   "execution_count": 26,
   "metadata": {},
   "outputs": [],
   "source": [
    "import pandas as pd\n",
    "import pickle as pkl\n",
    "import numpy as np\n",
    "\n",
    "import matplotlib.pyplot as plt\n",
    "\n",
    "import scanpy as sc\n",
    "%matplotlib inline\n",
    "import matplotlib"
   ]
  },
  {
   "cell_type": "markdown",
   "metadata": {},
   "source": [
    "### Read in dataset"
   ]
  },
  {
   "cell_type": "code",
   "execution_count": 27,
   "metadata": {},
   "outputs": [],
   "source": [
    "data_df = pd.read_csv('/dfs/user/yhr/research_assistant/datasets/ground_truth_Scharenberg22.csv')\n",
    "topmovers = np.load('/dfs/user/yhr/research_assistant/datasets/topmovers_Scharenberg22.npy')\n",
    "all_genes = data_df['Gene'].values"
   ]
  },
  {
   "cell_type": "markdown",
   "metadata": {},
   "source": [
    "### Random baseline"
   ]
  },
  {
   "cell_type": "code",
   "execution_count": 28,
   "metadata": {},
   "outputs": [],
   "source": [
    "def generate_random_rounds(all_genes, round0=None, rounds = 16, sample_size=64):\n",
    "    past_set =list(all_genes)\n",
    "    random_rounds = {}\n",
    "    if round0 is not None:\n",
    "        random_rounds[0] = round0\n",
    "    else:\n",
    "        random_rounds[0] = np.random.choice(all_genes, sample_size)\n",
    "    \n",
    "    for i in range(1,rounds):\n",
    "        selection_set = set(past_set).difference(set(random_rounds[i-1]))\n",
    "        random_rounds[i] = np.concatenate([random_rounds[i-1], np.random.choice(list(selection_set), sample_size)])\n",
    "        past_set = list(selection_set)\n",
    "        \n",
    "    return random_rounds\n",
    "\n",
    "def generate_random_rounds_custom(all_genes, rounds = 16, sample_sizes=None):\n",
    "    past_set =list(all_genes)\n",
    "    random_rounds = {}\n",
    "    random_rounds[0] = []\n",
    "    \n",
    "    for i in range(1,rounds):\n",
    "        selection_set = set(past_set).difference(set(random_rounds[i-1]))\n",
    "        random_rounds[i] = np.concatenate([random_rounds[i-1], np.random.choice(list(selection_set), sample_sizes[i])])\n",
    "        past_set = list(selection_set)\n",
    "        \n",
    "    return random_rounds\n",
    "\n",
    "def return_hits(list_):\n",
    "    return list(set(list_).intersection(set(topmovers)))\n",
    "\n",
    "def get_all_sampled_genes(exp_path, num_rounds = 100):\n",
    "    all_sampled_genes = []\n",
    "    for i in range(1,num_rounds):\n",
    "        exp_path_ = exp_path + str(i) + '.npy'\n",
    "        all_sampled_genes.append(np.load(exp_path_))\n",
    "    return all_sampled_genes\n",
    "\n",
    "def get_successful_sample_sizes(sampled_genes):\n",
    "    sizes = []\n",
    "    prev_size = 0\n",
    "    for sample in sampled_genes:\n",
    "        sizes.append(len(sample)-prev_size)\n",
    "        prev_size = prev_size + sizes[-1]\n",
    "    return sizes\n",
    "\n",
    "def return_hits(arr):\n",
    "    return list(set(arr).intersection(set(topmovers)))"
   ]
  },
  {
   "cell_type": "markdown",
   "metadata": {},
   "source": [
    "### Equal sampling: Claude"
   ]
  },
  {
   "cell_type": "code",
   "execution_count": 36,
   "metadata": {},
   "outputs": [],
   "source": [
    "import glob\n",
    "\n",
    "exp_paths = {\n",
    " '1':'/dfs/user/yhr/research_assistant/logs_Scharenberg22/exp4/sampled_genes_',\n",
    " '2':'/dfs/user/yhr/research_assistant/logs_Scharenberg22/exp5/sampled_genes_',\n",
    " '3':'/dfs/user/yhr/research_assistant/logs_Scharenberg22/exp6/sampled_genes_',\n",
    "}"
   ]
  },
  {
   "cell_type": "code",
   "execution_count": 37,
   "metadata": {},
   "outputs": [],
   "source": [
    "sampled_genes = {}\n",
    "sample_sizes = {}\n",
    "hits = {}\n",
    "hit_rates = {}\n",
    "num_rounds = 50\n",
    "filter_zero_sets = True\n",
    "\n",
    "for rep in range(1, len(exp_paths)+1):\n",
    "    rep = str(rep)\n",
    "    sampled_genes[rep] = get_all_sampled_genes(exp_paths[rep], num_rounds=num_rounds)\n",
    "    sample_sizes[rep] = get_successful_sample_sizes(sampled_genes[rep])\n",
    "    if filter_zero_sets:\n",
    "         sampled_genes[rep] = [sampled_genes[rep][itr] for itr in np.where(np.array(sample_sizes[rep])!= 0)[0]]\n",
    "    \n",
    "    hits[rep] = []\n",
    "    hit_rates[rep] = []\n",
    "    hits[rep] = [return_hits(x) for x in sampled_genes[rep]]\n",
    "    hit_rates[rep] = [len(x)/len(topmovers) for x in hits[rep]]"
   ]
  },
  {
   "cell_type": "code",
   "execution_count": 38,
   "metadata": {},
   "outputs": [
    {
     "data": {
      "text/plain": [
       "<BarContainer object of 49 artists>"
      ]
     },
     "execution_count": 38,
     "metadata": {},
     "output_type": "execute_result"
    },
    {
     "data": {
      "image/png": "[encoded data removed]",
      "text/plain": [
       "<Figure size 1080x360 with 1 Axes>"
      ]
     },
     "metadata": {
      "needs_background": "light"
     },
     "output_type": "display_data"
    },
    {
     "data": {
      "image/png": "[encoded data removed]",
      "text/plain": [
       "<Figure size 1080x360 with 1 Axes>"
      ]
     },
     "metadata": {
      "needs_background": "light"
     },
     "output_type": "display_data"
    },
    {
     "data": {
      "image/png": "[encoded data removed]",
      "text/plain": [
       "<Figure size 1080x360 with 1 Axes>"
      ]
     },
     "metadata": {
      "needs_background": "light"
     },
     "output_type": "display_data"
    }
   ],
   "source": [
    "## GPT has trouble counting\n",
    "\n",
    "plt.figure(figsize=[15,5])\n",
    "plt.ylabel('Sampled Genes')\n",
    "plt.xlabel('Rounds')\n",
    "plt.axhline(y=32, color='r', linestyle='--')\n",
    "plt.bar(range(len(sample_sizes['1'])), sample_sizes['1'])\n",
    "\n",
    "plt.figure(figsize=[15,5])\n",
    "plt.ylabel('Sampled Genes')\n",
    "plt.xlabel('Rounds')\n",
    "plt.axhline(y=32, color='r', linestyle='--')\n",
    "plt.bar(range(len(sample_sizes['1'])), sample_sizes['2'])\n",
    "\n",
    "plt.figure(figsize=[15,5])\n",
    "plt.ylabel('Sampled Genes')\n",
    "plt.xlabel('Rounds')\n",
    "plt.axhline(y=32, color='r', linestyle='--')\n",
    "plt.bar(range(len(sample_sizes['1'])), sample_sizes['3'])"
   ]
  },
  {
   "cell_type": "code",
   "execution_count": 41,
   "metadata": {},
   "outputs": [],
   "source": [
    "num_steps = np.min([len(x) for x in sampled_genes.values()]) -1\n",
    "num_reps = 3\n",
    "sample_size=16"
   ]
  },
  {
   "cell_type": "code",
   "execution_count": 42,
   "metadata": {},
   "outputs": [],
   "source": [
    "random_rounds = {}\n",
    "random_hits = {}\n",
    "random_hit_rates = {}\n",
    "\n",
    "for rep in range(1, len(exp_paths)+1):\n",
    "    rep=str(rep)\n",
    "    random_rounds[rep] = generate_random_rounds(all_genes, rounds = num_steps, sample_size=sample_size)\n",
    "    #random_rounds[rep] = generate_random_rounds_custom(all_genes, rounds = num_steps, \n",
    "    #                                                   sample_sizes=sample_sizes[rep])\n",
    "    \n",
    "    random_hits[rep] = []\n",
    "    random_hit_rates[rep] = []\n",
    "    for step in range(num_steps):\n",
    "        random_hits[rep].append(return_hits(random_rounds[rep][step]))\n",
    "        random_hit_rates[rep].append(len(random_hits[rep][-1])/len(topmovers))"
   ]
  },
  {
   "cell_type": "code",
   "execution_count": 46,
   "metadata": {},
   "outputs": [
    {
     "data": {
      "image/png": "[encoded data removed]",
      "text/plain": [
       "<Figure size 432x288 with 1 Axes>"
      ]
     },
     "metadata": {
      "needs_background": "light"
     },
     "output_type": "display_data"
    }
   ],
   "source": [
    "import matplotlib.pyplot as plt\n",
    "import numpy as np\n",
    "\n",
    "# calculate the mean and standard deviation of the random data\n",
    "random_mean = np.mean(np.array([x for x in random_hit_rates.values()]),0)\n",
    "random_std = np.std(np.array([x for x in random_hit_rates.values()]),0)\n",
    "\n",
    "\n",
    "ai_ra_mean = np.mean(np.array([x[:num_steps] for x in hit_rates.values()]),0)\n",
    "ai_ra_std = np.std(np.array([x[:num_steps] for x in hit_rates.values()]),0)\n",
    "\n",
    "\n",
    "# create the plot\n",
    "plt.plot(np.arange(num_steps), random_mean, label='Random')\n",
    "plt.fill_between(np.arange(num_steps), random_mean - random_std, \n",
    "                         random_mean + random_std, alpha=0.2)\n",
    "\n",
    "# add the GPT data to the plot\n",
    "plt.plot(np.arange(num_steps), ai_ra_mean, label='LLM (Claude)')\n",
    "plt.fill_between(np.arange(num_steps), ai_ra_mean - ai_ra_std, \n",
    "                             ai_ra_mean + ai_ra_std, alpha=0.2)\n",
    "\n",
    "# set the x-axis labels and tick marks\n",
    "plt.xlabel('Rounds')\n",
    "\n",
    "# add a legend to the plot\n",
    "plt.legend(bbox_to_anchor=(1.4, 1.05))\n",
    "\n",
    "# display the plot\n",
    "plt.show()"
   ]
  },
  {
   "cell_type": "code",
   "execution_count": null,
   "metadata": {},
   "outputs": [],
   "source": []
  }
 ],
 "metadata": {
  "kernelspec": {
   "display_name": "deepsnap",
   "language": "python",
   "name": "deepsnap"
  },
  "language_info": {
   "codemirror_mode": {
    "name": "ipython",
    "version": 3
   },
   "file_extension": ".py",
   "mimetype": "text/x-python",
   "name": "python",
   "nbconvert_exporter": "python",
   "pygments_lexer": "ipython3",
   "version": "3.7.4"
  }
 },
 "nbformat": 4,
 "nbformat_minor": 4
}
