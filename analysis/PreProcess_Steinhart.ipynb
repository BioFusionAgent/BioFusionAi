{
 "cells": [
  {
   "cell_type": "code",
   "execution_count": 366,
   "metadata": {},
   "outputs": [],
   "source": [
    "import pandas as pd\n",
    "import numpy as np\n",
    "import glob\n",
    "import json"
   ]
  },
  {
   "cell_type": "markdown",
   "metadata": {},
   "source": [
    "### First preprocess the screen data and create relevant files"
   ]
  },
  {
   "cell_type": "markdown",
   "metadata": {},
   "source": [
    "A088=CRISPRi, and A090=CRISPRa"
   ]
  },
  {
   "cell_type": "code",
   "execution_count": 4,
   "metadata": {},
   "outputs": [],
   "source": [
    "crispri = pd.read_csv('/dfs/project/perturb-gnn/AI_RA/Steinhart/A088_2022-04-19_SetA.count.txt', delimiter='\\t')"
   ]
  },
  {
   "cell_type": "code",
   "execution_count": 149,
   "metadata": {},
   "outputs": [],
   "source": [
    "def mean_repeats(data_df):\n",
    "    cols = data_df.columns\n",
    "    cols = [c for c in cols if c != 'sgRNA']\n",
    "    mean_df = data_df.loc[:, cols].groupby('Gene').mean()\n",
    "    return mean_df\n",
    "\n",
    "def total_norm(X):\n",
    "    return X/np.sum(X)\n",
    "\n",
    "def z_norm(X):\n",
    "    return (X - np.mean(X))/np.std(X)\n",
    "\n",
    "def control_norm(X):\n",
    "    return (X - X.loc['NO-TARGET', :])/X.loc['NO-TARGET', :]"
   ]
  },
  {
   "cell_type": "code",
   "execution_count": 150,
   "metadata": {},
   "outputs": [],
   "source": [
    "processed_data = {}\n",
    "screen_map = {'crispri':'A088_2022-04-19', 'crispra':'A090'}\n",
    "\n",
    "for screen_type in ['crispri', 'crispra']:\n",
    "    \n",
    "    processed_data[screen_type] = {}\n",
    "    for car_type in ['CD19', 'GD2']:\n",
    "        \n",
    "        processed_data[screen_type][car_type] = {}\n",
    "        for day_num in ['D5', 'D13', 'D18', 'D22']:\n",
    "            \n",
    "            processed_data[screen_type][car_type][day_num] = {}\n",
    "            for donor_id in ['Donor21', 'Donor22', 'Donor23', 'Donor24']:\n",
    "            \n",
    "                processed_data[screen_type][car_type][day_num][donor_id] = {}\n",
    "                for set_ in ['A', 'B']:\n",
    "                \n",
    "                    processed_data[screen_type][car_type][day_num][donor_id][set_] = []"
   ]
  },
  {
   "cell_type": "code",
   "execution_count": 186,
   "metadata": {},
   "outputs": [],
   "source": [
    "for screen_type in ['crispri', 'crispra']:\n",
    "    screen_id = screen_map[screen_type]\n",
    "    \n",
    "    for set_ in ['A', 'B']:\n",
    "        data = f'/dfs/project/perturb-gnn/AI_RA/Steinhart/{screen_id}_Set{set_}.count.txt'\n",
    "        \n",
    "        read_in = pd.read_csv(data, delimiter='\\t')\n",
    "        read_in = read_in.set_index('Gene')\n",
    "        \n",
    "        mean_df = mean_repeats(read_in)\n",
    "        mean_df = total_norm(mean_df)\n",
    "        mean_df = control_norm(mean_df)\n",
    "        \n",
    "        for col in mean_df.columns:\n",
    "            if '_' not in col:\n",
    "                continue\n",
    "            \n",
    "            donor_id = col.split('_')[1]\n",
    "            car_type = col.split('_')[2]\n",
    "            day_num = col.split('_')[3]\n",
    "                \n",
    "            df = mean_df.loc[:, [col]]\n",
    "            df.to_csv(f'/dfs/user/yhr/AI_RA/research_assistant/datasets/Steinhart_temp/ground_truth_Steinhart_{screen_id}_{donor_id}_{car_type}_{day_num}_{set_}.csv',\n",
    "                     header=False)\n",
    "            \n",
    "            processed_data[screen_type][car_type][day_num][donor_id][set_] = col_data"
   ]
  },
  {
   "cell_type": "code",
   "execution_count": 331,
   "metadata": {},
   "outputs": [],
   "source": [
    "all_files = glob.glob('/dfs/user/yhr/AI_RA/research_assistant/datasets/Steinhart_temp/ground_truth_Steinhart_*')\n",
    "case_names = [f.split('.csv')[0][:-2] for f in all_files]"
   ]
  },
  {
   "cell_type": "code",
   "execution_count": 332,
   "metadata": {},
   "outputs": [],
   "source": [
    "for c in np.unique(case_names):\n",
    "    split_c = c.split('_')\n",
    "    split_c[-3] = 'Donor??'\n",
    "    relevant_filenames = '_'.join(split_c) + '_?.csv'\n",
    "    \n",
    "    relevant_files = glob.glob(relevant_filenames)\n",
    "    for itr, f in enumerate(relevant_files):       \n",
    "        if itr==0:\n",
    "            sum_df = pd.read_csv(f, index_col=0, header=None)\n",
    "        else:\n",
    "            pass\n",
    "            temp_df = pd.read_csv(f, index_col=0, header=None)\n",
    "            sum_df += temp_df\n",
    "        \n",
    "    sum_df = sum_df[~sum_df[1].isna()]\n",
    "    sum_df = sum_df/len(relevant_files)\n",
    "    \n",
    "    new_name = relevant_filenames.replace('Steinhart_temp/', '')\n",
    "    new_name = new_name.replace('Donor??_', '')\n",
    "    new_name = new_name.replace('_?', '')\n",
    "    new_name = new_name.replace('A090', 'crispra')\n",
    "    new_name = new_name.replace('A088_2022-04-19', 'crispri')\n",
    "    \n",
    "    sum_df.to_csv(new_name)"
   ]
  },
  {
   "cell_type": "markdown",
   "metadata": {},
   "source": [
    "### Compute topmovers"
   ]
  },
  {
   "cell_type": "code",
   "execution_count": 337,
   "metadata": {},
   "outputs": [],
   "source": [
    "processed_files = glob.glob('/dfs/user/yhr/AI_RA/research_assistant/datasets/ground_truth_Steinhart_*')"
   ]
  },
  {
   "cell_type": "code",
   "execution_count": 338,
   "metadata": {},
   "outputs": [],
   "source": [
    "def get_hits(df):\n",
    "    mean = np.mean(df['1'].values)\n",
    "    std = np.std(df['1'].values)\n",
    "    \n",
    "    up_thresh = mean+std*2\n",
    "    low_thresh = mean-std*2\n",
    "\n",
    "    hit_idx_hi = np.where(df['1']>up_thresh)[0]\n",
    "    hit_idx_lo = np.where(df['1']<low_thresh)[0]\n",
    "    hit_idx = np.concatenate([hit_idx_hi, hit_idx_lo])\n",
    "\n",
    "    processed_hits = df.iloc[hit_idx, :].index.values.tolist()\n",
    "    \n",
    "    return processed_hits"
   ]
  },
  {
   "cell_type": "code",
   "execution_count": 341,
   "metadata": {},
   "outputs": [
    {
     "data": {
      "text/plain": [
       "'topmovers_Steinhart_crispri_GD2_D13.csv'"
      ]
     },
     "execution_count": 341,
     "metadata": {},
     "output_type": "execute_result"
    }
   ],
   "source": [
    "'topmovers_'+name+'.csv'"
   ]
  },
  {
   "cell_type": "code",
   "execution_count": 342,
   "metadata": {},
   "outputs": [],
   "source": [
    "for f in processed_files:\n",
    "    df = pd.read_csv(f, index_col=0)\n",
    "    processed_hits = get_hits(df)\n",
    "    \n",
    "    name = f.split('/ground_truth_')[-1].split('.csv')[0]\n",
    "    np.save('./datasets/topmovers_'+name+'.csv', processed_hits)"
   ]
  },
  {
   "cell_type": "markdown",
   "metadata": {},
   "source": [
    "### Write task prompts"
   ]
  },
  {
   "cell_type": "code",
   "execution_count": 370,
   "metadata": {},
   "outputs": [],
   "source": [
    "task_prompt = {\"Task\": '', \"Measurement\": ''}\n",
    "exp_type_map = {'crispri':'inactivation', 'crispra': 'activation'}\n",
    "car_type_map = {'GD2':'HA GD2', 'CD19': 'CD19'}\n",
    "\n",
    "for f in processed_files:\n",
    "    save_name = f.split('/ground_truth_')[-1]\n",
    "    save_name = save_name.split('.csv')[0]\n",
    "    \n",
    "    exp_name = f.split('/ground_truth_Steinhart_')[-1]\n",
    "    exp_type, car_type, day = exp_name.split('_')\n",
    "    day = day.split('.')[0][1:]\n",
    "    exp_type = exp_type_map[exp_type]\n",
    "    car_type = car_type_map[car_type]\n",
    "    \n",
    "    task_prompt[\"Task\"] = f\"identify genes that upon {exp_type} allow cells to resist T-cell exhaustion, under the {car_type} CAR (chimeric-antigenic receptor) condition\"\n",
    "    task_prompt[\"Measurement\"] = f\"the log fold change in normalized sgRNA read counts compared to the non-targeting control, {day} days after perturbation\"    \n",
    "    \n",
    "    file_path = f'./datasets/task_prompts/{save_name}'+'.json'\n",
    "    with open(file_path, 'w') as file:\n",
    "        json.dump(task_prompt, file)"
   ]
  },
  {
   "cell_type": "code",
   "execution_count": 369,
   "metadata": {},
   "outputs": [
    {
     "data": {
      "text/plain": [
       "{'Task': 'identify genes that upon inactivation allow cells to resist T-cell exhaustion, under the HA GD2 CAR (chimeric-antigenic receptor) condition',\n",
       " 'Measurement': 'the log fold change in normalized sgRNA read counts compared to the non-targeting control, 13 days after perturbation'}"
      ]
     },
     "execution_count": 369,
     "metadata": {},
     "output_type": "execute_result"
    }
   ],
   "source": [
    "task_prompt"
   ]
  },
  {
   "cell_type": "code",
   "execution_count": 357,
   "metadata": {},
   "outputs": [
    {
     "data": {
      "text/plain": [
       "{'Task': 'identify genes that upon inactivation allow cells to resist T-cell exhaustion, under the HA GD2 CAR (chimeric-antigenic receptor) condition',\n",
       " 'Measurement': 'the log fold change in normalized sgRNA read counts compared to the non-targeting control, 13 days after perturbation'}"
      ]
     },
     "execution_count": 357,
     "metadata": {},
     "output_type": "execute_result"
    }
   ],
   "source": [
    "task_prompt"
   ]
  }
 ],
 "metadata": {
  "kernelspec": {
   "display_name": "deepamp",
   "language": "python",
   "name": "deepamp"
  },
  "language_info": {
   "codemirror_mode": {
    "name": "ipython",
    "version": 3
   },
   "file_extension": ".py",
   "mimetype": "text/x-python",
   "name": "python",
   "nbconvert_exporter": "python",
   "pygments_lexer": "ipython3",
   "version": "3.8.10"
  }
 },
 "nbformat": 4,
 "nbformat_minor": 4
}
