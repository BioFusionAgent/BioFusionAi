{
 "cells": [
  {
   "cell_type": "code",
   "execution_count": 12,
   "metadata": {},
   "outputs": [],
   "source": [
    "import pandas as pd\n",
    "import pickle as pkl\n",
    "import numpy as np\n",
    "\n",
    "import matplotlib.pyplot as plt\n",
    "\n",
    "import scanpy as sc\n",
    "%matplotlib inline\n",
    "import matplotlib\n",
    "\n",
    "import scanpy as sc\n",
    "import matplotlib.colors as mcolors\n",
    "import matplotlib.pyplot as plt\n",
    "import glob"
   ]
  },
  {
   "cell_type": "markdown",
   "metadata": {},
   "source": [
    "### Random baseline"
   ]
  },
  {
   "cell_type": "code",
   "execution_count": 13,
   "metadata": {},
   "outputs": [],
   "source": [
    "def generate_random_rounds(all_genes, round0=None, rounds = 16, sample_size=64):\n",
    "    past_set =list(all_genes)\n",
    "    random_rounds = {}\n",
    "    if round0 is not None:\n",
    "        random_rounds[0] = round0\n",
    "    else:\n",
    "        random_rounds[0] = np.random.choice(all_genes, sample_size)\n",
    "    \n",
    "    for i in range(1,rounds):\n",
    "        selection_set = set(past_set).difference(set(random_rounds[i-1]))\n",
    "        random_rounds[i] = np.concatenate([random_rounds[i-1], np.random.choice(list(selection_set), sample_size)])\n",
    "        past_set = list(selection_set)\n",
    "        \n",
    "    return random_rounds\n",
    "\n",
    "def generate_random_rounds_custom(all_genes, rounds = 16, sample_sizes=None):\n",
    "    past_set =list(all_genes)\n",
    "    random_rounds = {}\n",
    "    random_rounds[0] = []\n",
    "    \n",
    "    for i in range(1,rounds):\n",
    "        selection_set = set(past_set).difference(set(random_rounds[i-1]))\n",
    "        random_rounds[i] = np.concatenate([random_rounds[i-1], np.random.choice(list(selection_set), sample_sizes[i])])\n",
    "        past_set = list(selection_set)\n",
    "        \n",
    "    return random_rounds\n",
    "\n",
    "def return_hits(list_):\n",
    "    return list(set(list_).intersection(set(topmovers)))\n",
    "\n",
    "def get_all_sampled_genes(exp_path):\n",
    "    all_sampled_genes = []\n",
    "    num_rounds = len(glob.glob(exp_path + '*'))\n",
    "    for i in range(num_rounds):\n",
    "        exp_path_ = exp_path + str(i) + '.npy'\n",
    "        all_sampled_genes.append(np.load(exp_path_))\n",
    "    return all_sampled_genes\n",
    "\n",
    "def get_successful_sample_sizes(sampled_genes):\n",
    "    sizes = []\n",
    "    prev_size = 0\n",
    "    for sample in sampled_genes:\n",
    "        sizes.append(len(sample)-prev_size)\n",
    "        prev_size = prev_size + sizes[-1]\n",
    "    return sizes\n",
    "\n",
    "def return_hits(arr):\n",
    "    return list(set(arr).intersection(set(topmovers)))"
   ]
  },
  {
   "cell_type": "code",
   "execution_count": 14,
   "metadata": {},
   "outputs": [],
   "source": [
    "REPS = np.arange(1, 10).astype('str')\n",
    "ACQUISITION_FUNCTIONS = [\"random\", \"softuncertain\", \"topuncertain\",\n",
    "                         \"marginsample\", \"coreset\", \"badge\",\n",
    "                         \"kmeans_embedding\", \"kmeans_data\"]\n",
    "\n",
    "dataset = 'sanchez'\n",
    "\n",
    "if dataset =='scharenberg':\n",
    "    sample_size= 32\n",
    "else:\n",
    "    sample_size= 128\n",
    "\n",
    "num_steps = 5\n",
    "ai_steps = 5\n",
    "\n",
    "data_formal_name = {'scharenberg': 'Scharenberg22',\n",
    "                 'ifng': 'Schmidt22 (IFNG)',\n",
    "                 'il2': 'Schmidt22 (IL2)',\n",
    "                 'steinhart': 'Steinhart',\n",
    "                 'sanchez': 'Sanchez21',\n",
    "                 'carnevale_adenosine': 'Carnevale22'}\n",
    "\n",
    "data_name_map = {'scharenberg': 'Scharenberg22',\n",
    "                 'ifng': 'IFNG',\n",
    "                 'il2': 'IL2',\n",
    "                 'steinhart': 'Steinhart_crispra_GD2_D22',\n",
    "                 'scharenberg': 'Scharenberg22',\n",
    "                 'sanchez': 'Sanchez21',\n",
    "                 'carnevale_adenosine': 'Carnevale22_Adenosine'}\n",
    "\n",
    "result_name_map = {'scharenberg': 'scharenberg_2022',\n",
    "                 'ifng': 'Schmidt_2021_ifng',\n",
    "                 'il2': 'Schmidt_2021_il2',\n",
    "                 'steinhart': 'steinhart_2024_crispra_GD2_D22',\n",
    "                 'scharenberg': 'scharenberg_2022',\n",
    "                 'sanchez': 'sanchez_2021_down',\n",
    "                 'carnevale_adenosine': 'Carnevale_2022_Adenosine'}\n",
    "\n",
    "ai_run_name = {#'scharenberg': '32_Scharenberg',\n",
    "                 'ifng': 'IFNG',\n",
    "                 'il2': 'IL2',\n",
    "                 'steinhart': 'Steinhart',\n",
    "                 'sanchez': 'Sanchez',\n",
    "                 'carnevale_adenosine': '128_Carnevale22_Adenosine'}\n",
    "\n",
    "    \n",
    "num_reps = len(REPS)\n",
    "batch_size=sample_size\n",
    "\n",
    "data_df = pd.read_csv('/dfs/user/yhr/AI_RA/research_assistant/datasets/ground_truth_'+data_name_map[dataset]+'.csv')\n",
    "topmovers = np.load('/dfs/user/yhr/AI_RA/research_assistant/datasets/topmovers_'+data_name_map[dataset]+'.npy')\n",
    "ai_data_path = glob.glob(f'/dfs/scratch0/jianv/bio-logs/agent-final/v4_all3_again50*{ai_run_name[dataset]}*')[0]\n",
    "try:\n",
    "    data_df = data_df.rename(columns={'0':'Gene', '1':'Score'})\n",
    "except:\n",
    "    pass\n",
    "\n",
    "all_genes = data_df['Gene'].values\n",
    "data_df = data_df.set_index('Gene')"
   ]
  },
  {
   "cell_type": "code",
   "execution_count": 15,
   "metadata": {},
   "outputs": [],
   "source": [
    "## Get essential genes\n",
    "\n",
    "essential_genes = '/dfs/user/yhr/bagel/CEGv2.txt'\n",
    "essential_genes = pd.read_csv(essential_genes, delimiter='\\t')['GENE'].tolist()"
   ]
  },
  {
   "cell_type": "markdown",
   "metadata": {},
   "source": [
    "### Checking gene list overlap"
   ]
  },
  {
   "cell_type": "code",
   "execution_count": 24,
   "metadata": {},
   "outputs": [],
   "source": [
    "main_dir = '/dfs/scratch0/jianv/bio-logs/agent-final/v4_all3_again50'\n",
    "all_selected = {}\n",
    "\n",
    "for dataset, run_name in ai_run_name.items():\n",
    "    data_path = glob.glob(main_dir + f'*{run_name}*')[0]\n",
    "    topmovers = np.load('/dfs/user/yhr/AI_RA/research_assistant/datasets/topmovers_'+data_name_map[dataset]+'.npy')\n",
    "    all_selected[dataset] = set()\n",
    "    for rep in range(1, num_reps+1):\n",
    "        rep=str(rep)\n",
    "        try:\n",
    "            sampled = set(np.load(data_path + f'/dummy_summary{rep}/sampled_genes_5.npy'))\n",
    "            hits = set(sampled).intersection(set(topmovers))\n",
    "            #hits = set(hits).difference(set(essential_genes))\n",
    "            all_selected[dataset] = all_selected[dataset].union(hits)\n",
    "            \n",
    "        except:\n",
    "            pass\n"
   ]
  },
  {
   "cell_type": "code",
   "execution_count": 25,
   "metadata": {},
   "outputs": [],
   "source": [
    "intersection_heatmap = np.zeros([len(all_selected), len(all_selected)])\n",
    "\n",
    "for idx_i, i in enumerate(ai_run_name.keys()):\n",
    "    for idx_j, j in enumerate(ai_run_name.keys()):\n",
    "        intersection = len(set(all_selected[i]).intersection(set(all_selected[j])))\n",
    "        union = len(set(all_selected[i]).union(set(all_selected[j])))\n",
    "        intersection_heatmap[idx_i][idx_j] = intersection/union"
   ]
  },
  {
   "cell_type": "code",
   "execution_count": 38,
   "metadata": {},
   "outputs": [],
   "source": [
    "ai_run_name['carnevale_adenosine'] = 'Carnevale22'"
   ]
  },
  {
   "cell_type": "code",
   "execution_count": 40,
   "metadata": {},
   "outputs": [
    {
     "data": {
      "image/png": "[encoded data removed]",
      "text/plain": [
       "<Figure size 504x432 with 2 Axes>"
      ]
     },
     "metadata": {},
     "output_type": "display_data"
    }
   ],
   "source": [
    "import matplotlib.pyplot as plt\n",
    "import seaborn as sns\n",
    "import numpy as np\n",
    "\n",
    "# Since the actual data is not provided, I will generate a random heatmap data as a placeholder.\n",
    "# The following code will be based on this generated data.\n",
    "data = intersection_heatmap\n",
    "\n",
    "# Create a more professional heatmap for an academic paper\n",
    "sns.set(style=\"whitegrid\", font_scale=1.2)\n",
    "\n",
    "# Generate a mask for the upper triangle\n",
    "mask = np.triu(np.ones_like(data, dtype=bool))\n",
    "\n",
    "# Set up the matplotlib figure\n",
    "f, ax = plt.subplots(figsize=(7, 6))\n",
    "\n",
    "# Generate a custom diverging colormap\n",
    "#cmap = sns.diverging_palette(220, 0, as_cmap=True)\n",
    "#cmap = sns.light_palette(\"reds\", as_cmap=True)\n",
    "\n",
    "# Draw the heatmap with the mask and correct aspect ratio\n",
    "sns.heatmap(data, cmap='Oranges', vmin=0, vmax=1.0, linecolor='black',\n",
    "            square=True, linewidths=.5, cbar_kws={\"shrink\": .9})\n",
    "\n",
    "# Set labels and title\n",
    "plt.ylabel('Experiment')\n",
    "plt.xlabel('Experiment')\n",
    "plt.title('Jaccard similarity between hits', fontsize=16)\n",
    "\n",
    "# Adding a border\n",
    "ax.patch.set_edgecolor('black')  # Set the border color\n",
    "ax.patch.set_linewidth('2')      # Set the border width\n",
    "\n",
    "\n",
    "# Improve the appearance of the plot\n",
    "plt.tight_layout()\n",
    "\n",
    "\n",
    "plt.xticks([0.5,1.5,2.5,3.5,4.5], ai_run_name.values(), rotation=90)\n",
    "plt.yticks([0.5,1.5,2.5,3.5,4.5], ai_run_name.values(), rotation=0)\n",
    "\n",
    "# Save the figure\n",
    "plt.savefig('./heatmap_hits.svg')\n",
    "\n",
    "# Show the plot\n",
    "plt.show()\n"
   ]
  },
  {
   "cell_type": "code",
   "execution_count": 8,
   "metadata": {},
   "outputs": [],
   "source": [
    "base_fname = '/dfs/user/yhr/genedisco/genedisco/results/'\n",
    "\n",
    "fnames = [\n",
    "'Schmidt_2021_ifng_coreset_',\n",
    "'Schmidt_2021_il2_coreset_',\n",
    "'sanchez_2021_down_coreset_',\n",
    "'steinhart_2024_crispra_GD2_D22_coreset_',\n",
    "'Carnevale_2022_Adenosine_coreset_']\n",
    "\n",
    "ml_data_name_map = {\n",
    "    'Schmidt_2021_ifng_coreset_' : 'IFNG',\n",
    "    'Schmidt_2021_il2_coreset_' : 'IL2',\n",
    "    'sanchez_2021_down_coreset_' : 'Sanchez21',\n",
    "    'steinhart_2024_crispra_GD2_D22_coreset_' : 'Steinhart_crispra_GD2_D22',\n",
    "    'Carnevale_2022_Adenosine_coreset_' : 'Carnevale22_Adenosine'\n",
    "}"
   ]
  },
  {
   "cell_type": "code",
   "execution_count": 9,
   "metadata": {},
   "outputs": [
    {
     "name": "stdout",
     "output_type": "stream",
     "text": [
      "Schmidt_2021_ifng_coreset_\n",
      "Schmidt_2021_il2_coreset_\n",
      "sanchez_2021_down_coreset_\n",
      "steinhart_2024_crispra_GD2_D22_coreset_\n",
      "Carnevale_2022_Adenosine_coreset_\n"
     ]
    }
   ],
   "source": [
    "all_selected = {}\n",
    "\n",
    "for f in fnames:\n",
    "    topmovers = np.load('/dfs/user/yhr/AI_RA/research_assistant/datasets/topmovers_'+ml_data_name_map[f]+'.npy')\n",
    "    print(f)\n",
    "    all_selected[f] = set()\n",
    "    for idx in range(1, 11):\n",
    "        sampled = set(pd.read_pickle(base_fname + f + str(idx) +'/cycle_4/selected_indices.pickle'))\n",
    "        hits = set(sampled).intersection(set(topmovers))\n",
    "        hits = set(hits).difference(set(essential_genes))\n",
    "        all_selected[f] = all_selected[f].union(hits)"
   ]
  },
  {
   "cell_type": "code",
   "execution_count": 10,
   "metadata": {},
   "outputs": [],
   "source": [
    "intersection_heatmap = np.zeros([len(all_selected), len(all_selected)])\n",
    "\n",
    "for idx_i, i in enumerate(fnames):\n",
    "    for idx_j, j in enumerate(fnames):\n",
    "        intersection = len(set(all_selected[i]).intersection(set(all_selected[j])))\n",
    "        union = len(set(all_selected[i]).union(set(all_selected[j])))\n",
    "        intersection_heatmap[idx_i][idx_j] = intersection/union"
   ]
  },
  {
   "cell_type": "code",
   "execution_count": 11,
   "metadata": {},
   "outputs": [
    {
     "data": {
      "image/png": "[encoded data removed]",
      "text/plain": [
       "<Figure size 504x432 with 2 Axes>"
      ]
     },
     "metadata": {},
     "output_type": "display_data"
    }
   ],
   "source": [
    "import matplotlib.pyplot as plt\n",
    "import seaborn as sns\n",
    "import numpy as np\n",
    "\n",
    "# Since the actual data is not provided, I will generate a random heatmap data as a placeholder.\n",
    "# The following code will be based on this generated data.\n",
    "data = intersection_heatmap\n",
    "\n",
    "# Create a more professional heatmap for an academic paper\n",
    "sns.set(style=\"whitegrid\", font_scale=1.2)\n",
    "\n",
    "# Generate a mask for the upper triangle\n",
    "mask = np.triu(np.ones_like(data, dtype=bool))\n",
    "\n",
    "# Set up the matplotlib figure\n",
    "f, ax = plt.subplots(figsize=(7, 6))\n",
    "\n",
    "# Generate a custom diverging colormap\n",
    "#cmap = sns.diverging_palette(220, 0, as_cmap=True)\n",
    "#cmap = sns.light_palette(\"reds\", as_cmap=True)\n",
    "\n",
    "# Draw the heatmap with the mask and correct aspect ratio\n",
    "sns.heatmap(data, cmap='Oranges', vmin=0, vmax=1.0, linecolor='black',\n",
    "            square=True, linewidths=.5, cbar_kws={\"shrink\": .9})\n",
    "\n",
    "# Set labels and title\n",
    "plt.ylabel('Experiment')\n",
    "plt.xlabel('Experiment')\n",
    "plt.title('Jaccard similarity between experiments: Full Observation', fontsize=16)\n",
    "\n",
    "# Adding a border\n",
    "ax.patch.set_edgecolor('black')  # Set the border color\n",
    "ax.patch.set_linewidth('2')      # Set the border width\n",
    "\n",
    "\n",
    "# Improve the appearance of the plot\n",
    "plt.tight_layout()\n",
    "\n",
    "# Save the figure\n",
    "plt.savefig('./heatmap_full_obs.png')\n",
    "\n",
    "# Show the plot\n",
    "plt.show()\n"
   ]
  },
  {
   "cell_type": "code",
   "execution_count": null,
   "metadata": {},
   "outputs": [],
   "source": []
  }
 ],
 "metadata": {
  "kernelspec": {
   "display_name": "deepamp",
   "language": "python",
   "name": "deepamp"
  },
  "language_info": {
   "codemirror_mode": {
    "name": "ipython",
    "version": 3
   },
   "file_extension": ".py",
   "mimetype": "text/x-python",
   "name": "python",
   "nbconvert_exporter": "python",
   "pygments_lexer": "ipython3",
   "version": "3.8.10"
  }
 },
 "nbformat": 4,
 "nbformat_minor": 4
}
