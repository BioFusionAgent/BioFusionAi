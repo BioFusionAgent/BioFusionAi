{
 "cells": [
  {
   "cell_type": "code",
   "execution_count": 1,
   "metadata": {},
   "outputs": [],
   "source": [
    "import pandas as pd\n",
    "import numpy as np\n",
    "import glob\n",
    "import json"
   ]
  },
  {
   "cell_type": "markdown",
   "metadata": {},
   "source": [
    "### First preprocess the screen data and create relevant files"
   ]
  },
  {
   "cell_type": "code",
   "execution_count": 2,
   "metadata": {},
   "outputs": [],
   "source": [
    "df = pd.read_csv('/dfs/user/yhr/AI_RA/research_assistant/datasets/ground_truth_Scharenberg22.csv')"
   ]
  },
  {
   "cell_type": "code",
   "execution_count": null,
   "metadata": {},
   "outputs": [],
   "source": [
    "import h5py\n",
    "\n",
    "with h5py.File('/d', \"r\") as f:\n",
    "    # Print all root level object names (aka keys) \n",
    "    # these can be group or dataset names \n",
    "    print(\"Keys: %s\" % f.keys())\n",
    "    # get first object name/key; may or may NOT be a group\n",
    "    a_group_key = list(f.keys())[0]\n",
    "\n",
    "    # get the object type for a_group_key: usually group or dataset\n",
    "    print(type(f[a_group_key])) \n",
    "\n",
    "    # If a_group_key is a group name, \n",
    "    # this gets the object names in the group and returns as a list\n",
    "    data = list(f[a_group_key])\n",
    "\n",
    "    # If a_group_key is a dataset name, \n",
    "    # this gets the dataset values and returns as a list\n",
    "    data = list(f[a_group_key])\n",
    "    # preferred methods to get dataset values:\n",
    "    ds_obj = f[a_group_key]      # returns as a h5py dataset object\n",
    "    ds_arr = f[a_group_key][()]  #"
   ]
  },
  {
   "cell_type": "code",
   "execution_count": 58,
   "metadata": {},
   "outputs": [
    {
     "data": {
      "text/html": [
       "<div>\n",
       "<style scoped>\n",
       "    .dataframe tbody tr th:only-of-type {\n",
       "        vertical-align: middle;\n",
       "    }\n",
       "\n",
       "    .dataframe tbody tr th {\n",
       "        vertical-align: top;\n",
       "    }\n",
       "\n",
       "    .dataframe thead th {\n",
       "        text-align: right;\n",
       "    }\n",
       "</style>\n",
       "<table border=\"1\" class=\"dataframe\">\n",
       "  <thead>\n",
       "    <tr style=\"text-align: right;\">\n",
       "      <th></th>\n",
       "      <th>Gene</th>\n",
       "      <th>Score</th>\n",
       "    </tr>\n",
       "  </thead>\n",
       "  <tbody>\n",
       "    <tr>\n",
       "      <th>10560</th>\n",
       "      <td>NSD1</td>\n",
       "      <td>-9.000665</td>\n",
       "    </tr>\n",
       "    <tr>\n",
       "      <th>5419</th>\n",
       "      <td>FBXW7</td>\n",
       "      <td>-7.915800</td>\n",
       "    </tr>\n",
       "    <tr>\n",
       "      <th>6021</th>\n",
       "      <td>GGNBP2</td>\n",
       "      <td>-7.661333</td>\n",
       "    </tr>\n",
       "    <tr>\n",
       "      <th>4658</th>\n",
       "      <td>EIF4G2</td>\n",
       "      <td>-7.271685</td>\n",
       "    </tr>\n",
       "    <tr>\n",
       "      <th>13472</th>\n",
       "      <td>RPRD1B</td>\n",
       "      <td>-6.793143</td>\n",
       "    </tr>\n",
       "    <tr>\n",
       "      <th>...</th>\n",
       "      <td>...</td>\n",
       "      <td>...</td>\n",
       "    </tr>\n",
       "    <tr>\n",
       "      <th>8567</th>\n",
       "      <td>LMOD2</td>\n",
       "      <td>-0.005625</td>\n",
       "    </tr>\n",
       "    <tr>\n",
       "      <th>1464</th>\n",
       "      <td>BCL7A</td>\n",
       "      <td>-0.003223</td>\n",
       "    </tr>\n",
       "    <tr>\n",
       "      <th>5466</th>\n",
       "      <td>FERD3L</td>\n",
       "      <td>-0.002953</td>\n",
       "    </tr>\n",
       "    <tr>\n",
       "      <th>17707</th>\n",
       "      <td>ZBTB14</td>\n",
       "      <td>-0.001429</td>\n",
       "    </tr>\n",
       "    <tr>\n",
       "      <th>17359</th>\n",
       "      <td>VPS33A</td>\n",
       "      <td>-0.001217</td>\n",
       "    </tr>\n",
       "  </tbody>\n",
       "</table>\n",
       "<p>18469 rows × 2 columns</p>\n",
       "</div>"
      ],
      "text/plain": [
       "         Gene     Score\n",
       "10560    NSD1 -9.000665\n",
       "5419    FBXW7 -7.915800\n",
       "6021   GGNBP2 -7.661333\n",
       "4658   EIF4G2 -7.271685\n",
       "13472  RPRD1B -6.793143\n",
       "...       ...       ...\n",
       "8567    LMOD2 -0.005625\n",
       "1464    BCL7A -0.003223\n",
       "5466   FERD3L -0.002953\n",
       "17707  ZBTB14 -0.001429\n",
       "17359  VPS33A -0.001217\n",
       "\n",
       "[18469 rows x 2 columns]"
      ]
     },
     "execution_count": 58,
     "metadata": {},
     "output_type": "execute_result"
    }
   ],
   "source": [
    "sanchez.sort_values('Score')"
   ]
  },
  {
   "cell_type": "code",
   "execution_count": 61,
   "metadata": {},
   "outputs": [
    {
     "data": {
      "text/html": [
       "<div>\n",
       "<style scoped>\n",
       "    .dataframe tbody tr th:only-of-type {\n",
       "        vertical-align: middle;\n",
       "    }\n",
       "\n",
       "    .dataframe tbody tr th {\n",
       "        vertical-align: top;\n",
       "    }\n",
       "\n",
       "    .dataframe thead th {\n",
       "        text-align: right;\n",
       "    }\n",
       "</style>\n",
       "<table border=\"1\" class=\"dataframe\">\n",
       "  <thead>\n",
       "    <tr style=\"text-align: right;\">\n",
       "      <th></th>\n",
       "      <th>Symbol</th>\n",
       "      <th>RSA_Down</th>\n",
       "      <th>RSA_Up</th>\n",
       "      <th>Q1</th>\n",
       "      <th>Q3</th>\n",
       "    </tr>\n",
       "  </thead>\n",
       "  <tbody>\n",
       "    <tr>\n",
       "      <th>10560</th>\n",
       "      <td>NSD1</td>\n",
       "      <td>-9.000665</td>\n",
       "      <td>-0.004267</td>\n",
       "      <td>-5.515584</td>\n",
       "      <td>-4.264298</td>\n",
       "    </tr>\n",
       "    <tr>\n",
       "      <th>5419</th>\n",
       "      <td>FBXW7</td>\n",
       "      <td>-7.915800</td>\n",
       "      <td>-0.004947</td>\n",
       "      <td>-5.451714</td>\n",
       "      <td>-2.803479</td>\n",
       "    </tr>\n",
       "    <tr>\n",
       "      <th>6021</th>\n",
       "      <td>GGNBP2</td>\n",
       "      <td>-7.661333</td>\n",
       "      <td>-0.032017</td>\n",
       "      <td>-3.298837</td>\n",
       "      <td>-2.773273</td>\n",
       "    </tr>\n",
       "    <tr>\n",
       "      <th>4658</th>\n",
       "      <td>EIF4G2</td>\n",
       "      <td>-7.271685</td>\n",
       "      <td>-0.001289</td>\n",
       "      <td>-4.175354</td>\n",
       "      <td>-2.592308</td>\n",
       "    </tr>\n",
       "    <tr>\n",
       "      <th>13472</th>\n",
       "      <td>RPRD1B</td>\n",
       "      <td>-6.793143</td>\n",
       "      <td>-0.045990</td>\n",
       "      <td>-2.973490</td>\n",
       "      <td>-2.250259</td>\n",
       "    </tr>\n",
       "    <tr>\n",
       "      <th>...</th>\n",
       "      <td>...</td>\n",
       "      <td>...</td>\n",
       "      <td>...</td>\n",
       "      <td>...</td>\n",
       "      <td>...</td>\n",
       "    </tr>\n",
       "    <tr>\n",
       "      <th>8567</th>\n",
       "      <td>LMOD2</td>\n",
       "      <td>-0.005625</td>\n",
       "      <td>-3.369090</td>\n",
       "      <td>1.459140</td>\n",
       "      <td>2.380598</td>\n",
       "    </tr>\n",
       "    <tr>\n",
       "      <th>1464</th>\n",
       "      <td>BCL7A</td>\n",
       "      <td>-0.003223</td>\n",
       "      <td>-4.064921</td>\n",
       "      <td>1.819689</td>\n",
       "      <td>3.312645</td>\n",
       "    </tr>\n",
       "    <tr>\n",
       "      <th>5466</th>\n",
       "      <td>FERD3L</td>\n",
       "      <td>-0.002953</td>\n",
       "      <td>-4.032406</td>\n",
       "      <td>1.801935</td>\n",
       "      <td>3.753448</td>\n",
       "    </tr>\n",
       "    <tr>\n",
       "      <th>17707</th>\n",
       "      <td>ZBTB14</td>\n",
       "      <td>-0.001429</td>\n",
       "      <td>-5.415197</td>\n",
       "      <td>1.716469</td>\n",
       "      <td>3.611752</td>\n",
       "    </tr>\n",
       "    <tr>\n",
       "      <th>17359</th>\n",
       "      <td>VPS33A</td>\n",
       "      <td>-0.001217</td>\n",
       "      <td>-3.083380</td>\n",
       "      <td>1.315101</td>\n",
       "      <td>3.262516</td>\n",
       "    </tr>\n",
       "  </tbody>\n",
       "</table>\n",
       "<p>18469 rows × 5 columns</p>\n",
       "</div>"
      ],
      "text/plain": [
       "       Symbol  RSA_Down    RSA_Up        Q1        Q3\n",
       "10560    NSD1 -9.000665 -0.004267 -5.515584 -4.264298\n",
       "5419    FBXW7 -7.915800 -0.004947 -5.451714 -2.803479\n",
       "6021   GGNBP2 -7.661333 -0.032017 -3.298837 -2.773273\n",
       "4658   EIF4G2 -7.271685 -0.001289 -4.175354 -2.592308\n",
       "13472  RPRD1B -6.793143 -0.045990 -2.973490 -2.250259\n",
       "...       ...       ...       ...       ...       ...\n",
       "8567    LMOD2 -0.005625 -3.369090  1.459140  2.380598\n",
       "1464    BCL7A -0.003223 -4.064921  1.819689  3.312645\n",
       "5466   FERD3L -0.002953 -4.032406  1.801935  3.753448\n",
       "17707  ZBTB14 -0.001429 -5.415197  1.716469  3.611752\n",
       "17359  VPS33A -0.001217 -3.083380  1.315101  3.262516\n",
       "\n",
       "[18469 rows x 5 columns]"
      ]
     },
     "execution_count": 61,
     "metadata": {},
     "output_type": "execute_result"
    }
   ],
   "source": [
    "screen_name = 'scharenberg_2022'\n",
    "h5_file = os.path.join(save_directory, f\"{screen_name}.h5\")\n",
    "if not os.path.exists(h5_file):\n",
    "    df = pd.read_csv(f'/dfs/user/yhr/AI_RA/research_assistant/datasets/ground_truth_{screen_name}.csv')\n",
    "    df = df.rename(columns={'Gene':'Gene_name'})\n",
    "\n",
    "    df = df.set_index('Gene_name')\n",
    "    \n",
    "    gene_names = df.index.values.tolist()\n",
    "    name_converter = HGNCNames(save_directory)\n",
    "    gene_names = name_converter.update_outdated_gene_names(gene_names)\n",
    "    df.index = gene_names\n",
    "\n",
    "    # Merge duplicate indices by averaging\n",
    "    df = df.groupby(df.index).mean()\n",
    "    gene_names, data = df.index.values.tolist(), df[['Score']].values.astype(np.float32)\n",
    "\n",
    "\n",
    "    HDF5Tools.save_h5_file(h5_file,\n",
    "                           data,\n",
    "                           f\"scharenberg_2022_{screen_name}.h5\",\n",
    "                           column_names=[\"Score\"],\n",
    "                           row_names=gene_names)\n",
    "data_source = HDF5DataSource(h5_file, duplicate_merge_strategy=sp.MeanMergeStrategy())"
   ]
  },
  {
   "cell_type": "code",
   "execution_count": 55,
   "metadata": {},
   "outputs": [],
   "source": [
    "sanchez_orig = pd.read_csv('/dfs/user/yhr/genedisco/genedisco/datasets/screens/sanchezetal2021_21days.csv')"
   ]
  },
  {
   "cell_type": "code",
   "execution_count": 54,
   "metadata": {},
   "outputs": [],
   "source": [
    "sanchez = pd.read_csv('/dfs/user/yhr/AI_RA/research_assistant/datasets/ground_truth_Sanchez21.csv', index_col=0)"
   ]
  },
  {
   "cell_type": "markdown",
   "metadata": {},
   "source": [
    "### Save topmovers"
   ]
  },
  {
   "cell_type": "code",
   "execution_count": 41,
   "metadata": {},
   "outputs": [],
   "source": [
    "lower_thresh = np.percentile(sanchez['Score'].values,2.5)\n",
    "upper_thresh = np.percentile(sanchez['Score'].values,97.5)"
   ]
  },
  {
   "cell_type": "code",
   "execution_count": 42,
   "metadata": {},
   "outputs": [],
   "source": [
    "topmovers_sanchez = []\n",
    "\n",
    "topmovers_sanchez.extend(sanchez[sanchez['Score']<lower_thresh]['Gene'].values)\n",
    "topmovers_sanchez.extend(sanchez[sanchez['Score']>upper_thresh]['Gene'].values)"
   ]
  },
  {
   "cell_type": "code",
   "execution_count": 45,
   "metadata": {},
   "outputs": [],
   "source": [
    "np.save('/dfs/user/yhr/AI_RA/research_assistant/datasets/topmovers_Sanchez21.npy', topmovers_sanchez)"
   ]
  },
  {
   "cell_type": "markdown",
   "metadata": {},
   "source": [
    "### Write task prompts"
   ]
  },
  {
   "cell_type": "code",
   "execution_count": 48,
   "metadata": {},
   "outputs": [],
   "source": [
    "task_prompt = {\"Task\": '', \"Measurement\": ''}\n",
    "task_prompt[\"Task\"] = f\"identify genes that, when knocked out, either increase or decrease expression of endogenous tau protein levels in neurons, using an SH-SY5Y neuroblastoma cell line\"\n",
    "task_prompt[\"Measurement\"] = f\"the change in tau protein level compared to the non-targeting control, using a total tau antibody\"    \n",
    "\n",
    "file_path = f'./datasets/task_prompts/Sanchez21'+'.json'\n",
    "with open(file_path, 'w') as file:\n",
    "    json.dump(task_prompt, file)"
   ]
  },
  {
   "cell_type": "code",
   "execution_count": 49,
   "metadata": {},
   "outputs": [
    {
     "data": {
      "text/plain": [
       "{'Task': 'identify genes that, when knocked out, either increase or decrease expression of endogenous tau protein levels in neurons, using an SH-SY5Y neuroblastoma cell line',\n",
       " 'Measurement': 'the change in tau protein level compared to the non-targeting control, using a total tau antibody'}"
      ]
     },
     "execution_count": 49,
     "metadata": {},
     "output_type": "execute_result"
    }
   ],
   "source": [
    "task_prompt"
   ]
  }
 ],
 "metadata": {
  "kernelspec": {
   "display_name": "deepsnap",
   "language": "python",
   "name": "deepsnap"
  },
  "language_info": {
   "codemirror_mode": {
    "name": "ipython",
    "version": 3
   },
   "file_extension": ".py",
   "mimetype": "text/x-python",
   "name": "python",
   "nbconvert_exporter": "python",
   "pygments_lexer": "ipython3",
   "version": "3.7.4"
  }
 },
 "nbformat": 4,
 "nbformat_minor": 4
}
