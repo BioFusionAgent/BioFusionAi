{
 "cells": [
  {
   "cell_type": "code",
   "execution_count": 1,
   "metadata": {
    "scrolled": true
   },
   "outputs": [
    {
     "name": "stderr",
     "output_type": "stream",
     "text": [
      "/dfs/user/yhr/causal/lib/python3.8/site-packages/tqdm/auto.py:22: TqdmWarning: IProgress not found. Please update jupyter and ipywidgets. See https://ipywidgets.readthedocs.io/en/stable/user_install.html\n",
      "  from .autonotebook import tqdm as notebook_tqdm\n"
     ]
    }
   ],
   "source": [
    "import os\n",
    "import numpy as np\n",
    "import pandas as pd\n",
    "import slingpy as sp\n",
    "from genedisco.datasets.features.hgnc_names import HGNCNames\n",
    "from slingpy.data_access.data_sources.hdf5_tools import HDF5Tools\n",
    "from slingpy.data_access.data_sources.hdf5_data_source import HDF5DataSource\n",
    "from slingpy.data_access.data_sources.abstract_data_source import AbstractDataSource\n",
    "\n",
    "import matplotlib.pyplot as plt\n",
    "from screen import ScreenData\n",
    "import scanpy as sc\n",
    "%matplotlib inline\n",
    "import matplotlib"
   ]
  },
  {
   "cell_type": "code",
   "execution_count": 24,
   "metadata": {},
   "outputs": [],
   "source": [
    "file_path = '/dfs/user/yhr/genedisco/genedisco/datasets/screens/sanchezetal2021_21days.csv'"
   ]
  },
  {
   "cell_type": "code",
   "execution_count": 41,
   "metadata": {},
   "outputs": [],
   "source": [
    "df = pd.read_csv(file_path, sep=\",\", index_col=\"Symbol\")\n",
    "\n",
    "gene_names, data = df.index.values.tolist(), df[['RSA_Down']].values.astype(np.float32)\n",
    "\n",
    "name_converter = HGNCNames(save_directory)\n",
    "gene_names = name_converter.update_outdated_gene_names(gene_names)\n",
    "data_df = pd.DataFrame(data)\n",
    "            \n",
    "data_df.index = gene_names\n",
    "data_df = data_df.groupby(data_df.index).mean()\n",
    "gene_names, data = data_df.index.values.tolist(), data_df.values.astype(np.float32)"
   ]
  },
  {
   "cell_type": "code",
   "execution_count": 50,
   "metadata": {},
   "outputs": [],
   "source": [
    "sanchez_df = df.loc[:,['RSA_Down']].reset_index().rename(columns={'Symbol':'Gene', \n",
    "                                                     'RSA_Down':'Score'})"
   ]
  },
  {
   "cell_type": "code",
   "execution_count": 51,
   "metadata": {},
   "outputs": [],
   "source": [
    "sanchez_df.to_csv('/dfs/user/yhr/AI_RA/research_assistant/datasets/ground_truth_Sanchez2021.csv')"
   ]
  },
  {
   "cell_type": "code",
   "execution_count": null,
   "metadata": {},
   "outputs": [],
   "source": []
  },
  {
   "cell_type": "code",
   "execution_count": null,
   "metadata": {},
   "outputs": [],
   "source": []
  },
  {
   "cell_type": "code",
   "execution_count": null,
   "metadata": {},
   "outputs": [],
   "source": []
  },
  {
   "cell_type": "markdown",
   "metadata": {},
   "source": [
    "### Genedisco/Slingpy dataloader"
   ]
  },
  {
   "cell_type": "code",
   "execution_count": 19,
   "metadata": {},
   "outputs": [
    {
     "name": "stderr",
     "output_type": "stream",
     "text": [
      "/dfs/user/yhr/causal/lib/python3.8/site-packages/genedisco/datasets/features/hgnc_names.py:95: DtypeWarning: Columns (31,38) have mixed types.Specify dtype option on import or set low_memory=False.\n",
      "  previous_mapping = self.get_hgnc_mapping(to_id=\"symbol\", from_id=other_id_name)\n"
     ]
    }
   ],
   "source": [
    "screen_name = 'crispra_GD2_D22'\n",
    "h5_file = os.path.join(save_directory, f\"steinhart_2024_{screen_name}.h5\")\n",
    "if not os.path.exists(h5_file):\n",
    "    df = pd.read_csv(f'/dfs/user/yhr/AI_RA/research_assistant/datasets/ground_truth_Steinhart_{screen_name}.csv')\n",
    "    df = df.rename(columns={'0':'Gene_name', '1':'Score'})\n",
    "\n",
    "    df = df.set_index('Gene_name')\n",
    "    \n",
    "    gene_names = df.index.values.tolist()\n",
    "    name_converter = HGNCNames(save_directory)\n",
    "    gene_names = name_converter.update_outdated_gene_names(gene_names)\n",
    "    df.index = gene_names\n",
    "\n",
    "    # Merge duplicate indices by averaging\n",
    "    df = df.groupby(df.index).mean()\n",
    "    gene_names, data = df.index.values.tolist(), df[['Score']].values.astype(np.float32)\n",
    "\n",
    "\n",
    "    HDF5Tools.save_h5_file(h5_file,\n",
    "                           data,\n",
    "                           f\"steinhart_2024_{screen_name}.h5\",\n",
    "                           column_names=[\"Score\"],\n",
    "                           row_names=gene_names)\n",
    "data_source = HDF5DataSource(h5_file, duplicate_merge_strategy=sp.MeanMergeStrategy())"
   ]
  },
  {
   "cell_type": "code",
   "execution_count": 20,
   "metadata": {},
   "outputs": [],
   "source": [
    "data_source = HDF5DataSource(h5_file, duplicate_merge_strategy=sp.MeanMergeStrategy())"
   ]
  },
  {
   "cell_type": "markdown",
   "metadata": {},
   "source": [
    "### AI RA dataloader"
   ]
  },
  {
   "cell_type": "code",
   "execution_count": null,
   "metadata": {},
   "outputs": [],
   "source": []
  },
  {
   "cell_type": "code",
   "execution_count": 7,
   "metadata": {},
   "outputs": [
    {
     "name": "stderr",
     "output_type": "stream",
     "text": [
      "/dfs/user/yhr/causal/lib/python3.8/site-packages/genedisco/datasets/features/hgnc_names.py:95: DtypeWarning: Columns (31,38) have mixed types.Specify dtype option on import or set low_memory=False.\n",
      "  previous_mapping = self.get_hgnc_mapping(to_id=\"symbol\", from_id=other_id_name)\n"
     ]
    }
   ],
   "source": [
    "for screen_name in ['Adenosine', 'TGFb', 'Cyclosporine', 'Tacrolimus']:\n",
    "    out_file = os.path.join(\"/dfs/user/yhr/research_assistant/datasets/ground_truth_Carnevale_2022_{}.csv\".format(screen_name))\n",
    "    df = pd.read_excel('/dfs/project/perturb-gnn/AI_RA/Carnevale22/41586_2022_5126_MOESM5_ESM.xlsx',\n",
    "                   sheet_name=screen_name)\n",
    "    df = df.set_index('id')\n",
    "\n",
    "    df.index = df.index.astype('str')\n",
    "    rows_to_drop = [v for v in df.index if 'CTRL' in v]\n",
    "    rows_to_drop = [v for v in df.index if v[:4]=='2021']\n",
    "    df = df.drop(rows_to_drop)\n",
    "\n",
    "    gene_names = df.index.values.tolist()\n",
    "    name_converter = HGNCNames('/dfs/user/yhr/genedisco/genedisco/datasets/screens/')\n",
    "    gene_names = name_converter.update_outdated_gene_names(gene_names)\n",
    "    df.index = gene_names\n",
    "\n",
    "    # Merge duplicate indices by averaging\n",
    "    df = df.groupby(df.index).mean()\n",
    "    df['pos|lfc'] = df['pos|lfc'].values.astype(np.float32)\n",
    "    df = df.loc[:,['pos|lfc']]\n",
    "    df = df.rename(columns = {'pos|lfc':'log-fold-change'})\n",
    "    df = df.reset_index().rename(columns={'index':'Gene'})\n",
    "\n",
    "    df.to_csv(out_file, index=0)"
   ]
  }
 ],
 "metadata": {
  "kernelspec": {
   "display_name": "causal",
   "language": "python",
   "name": "causal"
  },
  "language_info": {
   "codemirror_mode": {
    "name": "ipython",
    "version": 3
   },
   "file_extension": ".py",
   "mimetype": "text/x-python",
   "name": "python",
   "nbconvert_exporter": "python",
   "pygments_lexer": "ipython3",
   "version": "3.8.6"
  }
 },
 "nbformat": 4,
 "nbformat_minor": 2
}
