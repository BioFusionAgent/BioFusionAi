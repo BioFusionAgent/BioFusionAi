{
 "cells": [
  {
   "cell_type": "code",
   "execution_count": 19,
   "metadata": {},
   "outputs": [],
   "source": [
    "import pandas as pd\n",
    "import pickle as pkl\n",
    "import numpy as np\n",
    "\n",
    "import matplotlib.pyplot as plt\n",
    "\n",
    "import scanpy as sc\n",
    "%matplotlib inline\n",
    "import matplotlib\n",
    "\n",
    "import scanpy as sc\n",
    "import matplotlib.colors as mcolors\n",
    "import matplotlib.pyplot as plt\n",
    "import glob"
   ]
  },
  {
   "cell_type": "markdown",
   "metadata": {},
   "source": [
    "### Random baseline"
   ]
  },
  {
   "cell_type": "code",
   "execution_count": 20,
   "metadata": {},
   "outputs": [],
   "source": [
    "def generate_random_rounds(all_genes, round0=None, rounds = 16, sample_size=64):\n",
    "    past_set =list(all_genes)\n",
    "    random_rounds = {}\n",
    "    if round0 is not None:\n",
    "        random_rounds[0] = round0\n",
    "    else:\n",
    "        random_rounds[0] = np.random.choice(all_genes, sample_size)\n",
    "    \n",
    "    for i in range(1,rounds):\n",
    "        selection_set = set(past_set).difference(set(random_rounds[i-1]))\n",
    "        random_rounds[i] = np.concatenate([random_rounds[i-1], np.random.choice(list(selection_set), sample_size)])\n",
    "        past_set = list(selection_set)\n",
    "        \n",
    "    return random_rounds\n",
    "\n",
    "def generate_random_rounds_custom(all_genes, rounds = 16, sample_sizes=None):\n",
    "    past_set =list(all_genes)\n",
    "    random_rounds = {}\n",
    "    random_rounds[0] = []\n",
    "    \n",
    "    for i in range(1,rounds):\n",
    "        selection_set = set(past_set).difference(set(random_rounds[i-1]))\n",
    "        random_rounds[i] = np.concatenate([random_rounds[i-1], np.random.choice(list(selection_set), sample_sizes[i])])\n",
    "        past_set = list(selection_set)\n",
    "        \n",
    "    return random_rounds\n",
    "\n",
    "def return_hits(list_):\n",
    "    return list(set(list_).intersection(set(topmovers)))\n",
    "\n",
    "def get_all_sampled_genes(exp_path):\n",
    "    all_sampled_genes = []\n",
    "    num_rounds = len(glob.glob(exp_path + '*'))\n",
    "    for i in range(num_rounds):\n",
    "        exp_path_ = exp_path + str(i) + '.npy'\n",
    "        all_sampled_genes.append(np.load(exp_path_))\n",
    "    return all_sampled_genes\n",
    "\n",
    "def get_successful_sample_sizes(sampled_genes):\n",
    "    sizes = []\n",
    "    prev_size = 0\n",
    "    for sample in sampled_genes:\n",
    "        sizes.append(len(sample)-prev_size)\n",
    "        prev_size = prev_size + sizes[-1]\n",
    "    return sizes\n",
    "\n",
    "def return_hits(arr):\n",
    "    return list(set(arr).intersection(set(topmovers)))"
   ]
  },
  {
   "cell_type": "code",
   "execution_count": 21,
   "metadata": {},
   "outputs": [],
   "source": [
    "REPS = np.arange(1, 10).astype('str')\n",
    "ACQUISITION_FUNCTIONS = [\"random\", \"softuncertain\", \"topuncertain\",\n",
    "                         \"marginsample\", \"coreset\", \"badge\",\n",
    "                         \"kmeans_embedding\", \"kmeans_data\"]\n",
    "\n",
    "dataset = 'sanchez'\n",
    "sample_size= 128\n",
    "num_steps = 5\n",
    "\n",
    "data_name_map = {'scharenberg': 'Scharenberg22',\n",
    "                 'ifng': 'IFNG',\n",
    "                 'il2': 'IL2',\n",
    "                 'steinhart': 'Steinhart_crispra_GD2_D22',\n",
    "                 'scharenberg': 'Scharenberg22',\n",
    "                 'sanchez': 'Sanchez21_down',\n",
    "                 'carnevale_adenosine': 'Carnevale22_Adenosine'}\n",
    "\n",
    "result_name_map = {'scharenberg': 'scharenberg_2022',\n",
    "                 'ifng': 'Schmidt_2021_ifng',\n",
    "                 'il2': 'Schmidt_2021_il2',\n",
    "                 'steinhart': 'steinhart_2024_crispra_GD2_D22',\n",
    "                 'scharenberg': 'scharenberg_2022',\n",
    "                 'sanchez': 'sanchez_2021_down',\n",
    "                  'carnevale_adenosine': 'Carnevale_2022_Adenosine'}\n",
    "\n",
    "    \n",
    "num_reps = len(REPS)\n",
    "batch_size=sample_size\n",
    "\n",
    "data_df = pd.read_csv('/dfs/user/yhr/AI_RA/research_assistant/datasets/ground_truth_'+data_name_map[dataset]+'.csv')\n",
    "topmovers = np.load('/dfs/user/yhr/AI_RA/research_assistant/datasets/topmovers_'+data_name_map[dataset]+'.npy')\n",
    "try:\n",
    "    data_df = data_df.rename(columns={'0':'Gene', '1':'Score'})\n",
    "except:\n",
    "    pass\n",
    "\n",
    "all_genes = data_df['Gene'].values\n",
    "data_df = data_df.set_index('Gene')"
   ]
  },
  {
   "cell_type": "markdown",
   "metadata": {},
   "source": [
    "### ML model results"
   ]
  },
  {
   "cell_type": "code",
   "execution_count": 22,
   "metadata": {},
   "outputs": [],
   "source": [
    "## For steinhart\n",
    "\n",
    "#data_name = 'schmidt_2021_ifng_noise'\n",
    "#data_name = 'belk_2022'\n",
    "data_name = result_name_map[dataset]\n",
    "\n",
    "def read_ml_rounds(data_name, num_steps, batch_size):\n",
    "    #path = f'/dfs/user/yhr/genedisco/genedisco/results/Schmidt_2021_'+data_name+'/'\n",
    "    \n",
    "    ## special path for steinhart\n",
    "    path = f'/dfs/user/yhr/genedisco/genedisco/results/'+data_name+'/'\n",
    "    print(path)\n",
    "    all_pred_genes = []\n",
    "    for i in range(num_steps):\n",
    "        try:\n",
    "            all_pred_genes.append(pd.read_pickle(path+'cycle_{}/selected_indices.pickle'.format(i)))\n",
    "        except:\n",
    "            print('No sampling round {}'.format(i))\n",
    "    return all_pred_genes\n",
    "\n",
    "def get_ml_hits(data_name, ML_model_name, num_steps = num_steps, \n",
    "                batch_size=batch_size,\n",
    "                num_reps=2):\n",
    "    \n",
    "    ml_rounds = {}\n",
    "    ml_hits = {}\n",
    "    ml_hit_rates = {}\n",
    "    \n",
    "    for rep in range(1, num_reps+1):\n",
    "        rep=str(rep)\n",
    "        ml_rounds[rep] = read_ml_rounds(data_name + '_' + ML_model_name + '_{}'.format(rep), \n",
    "                                        num_steps, batch_size=batch_size)\n",
    "\n",
    "        ml_hits[rep] = []\n",
    "        ml_hit_rates[rep] = []\n",
    "        for step in range(num_steps):\n",
    "            ml_hits[rep].append(return_hits(ml_rounds[rep][step]))\n",
    "            ml_hit_rates[rep].append(len(ml_hits[rep][-1])/len(topmovers))\n",
    "        \n",
    "    return ml_hit_rates, ml_hits\n",
    "\n",
    "\n",
    "def get_random_hits(sample_size, num_steps = num_steps, num_reps=3):\n",
    "    random_rounds = {}\n",
    "    random_hits = {}\n",
    "    random_hit_rates = {}\n",
    "\n",
    "    for rep in range(1, num_reps+1):\n",
    "        rep=str(rep)\n",
    "        random_rounds[rep] = generate_random_rounds(all_genes, rounds = num_steps, sample_size=sample_size)\n",
    "        #random_rounds[rep] = generate_random_rounds_custom(all_genes, rounds = num_steps, \n",
    "        #                                                   sample_sizes=sample_sizes[rep])\n",
    "\n",
    "        random_hits[rep] = []\n",
    "        random_hit_rates[rep] = []\n",
    "        for step in range(num_steps):\n",
    "            random_hits[rep].append(return_hits(random_rounds[rep][step]))\n",
    "            random_hit_rates[rep].append(len(random_hits[rep][-1])/len(topmovers))\n",
    "            \n",
    "    return random_hit_rates, random_hits\n",
    "\n",
    "def get_avg_hit_score(hits):\n",
    "    return data_df.loc[hits].abs().mean().values[0]\n",
    "\n",
    "def get_avg_hit_scores(hits, num_reps=3):\n",
    "    hit_scores = []\n",
    "    \n",
    "    for rep in range(1, num_reps+1):\n",
    "        hit_score_rep = []\n",
    "        for hit_list in hits[str(rep)]:\n",
    "            hit_score_rep.append(get_avg_hit_score(hit_list))\n",
    "        hit_scores.append(hit_score_rep)\n",
    "\n",
    "    return np.round(np.nanmean(np.array(hit_scores), 0),3)"
   ]
  },
  {
   "cell_type": "code",
   "execution_count": 23,
   "metadata": {
    "scrolled": true
   },
   "outputs": [
    {
     "name": "stdout",
     "output_type": "stream",
     "text": [
      "random\n",
      "/dfs/user/yhr/genedisco/genedisco/results/sanchez_2021_down_random_1/\n",
      "/dfs/user/yhr/genedisco/genedisco/results/sanchez_2021_down_random_2/\n",
      "/dfs/user/yhr/genedisco/genedisco/results/sanchez_2021_down_random_3/\n",
      "/dfs/user/yhr/genedisco/genedisco/results/sanchez_2021_down_random_4/\n",
      "/dfs/user/yhr/genedisco/genedisco/results/sanchez_2021_down_random_5/\n",
      "/dfs/user/yhr/genedisco/genedisco/results/sanchez_2021_down_random_6/\n",
      "/dfs/user/yhr/genedisco/genedisco/results/sanchez_2021_down_random_7/\n",
      "/dfs/user/yhr/genedisco/genedisco/results/sanchez_2021_down_random_8/\n",
      "/dfs/user/yhr/genedisco/genedisco/results/sanchez_2021_down_random_9/\n",
      "softuncertain\n",
      "/dfs/user/yhr/genedisco/genedisco/results/sanchez_2021_down_softuncertain_1/\n",
      "/dfs/user/yhr/genedisco/genedisco/results/sanchez_2021_down_softuncertain_2/\n",
      "/dfs/user/yhr/genedisco/genedisco/results/sanchez_2021_down_softuncertain_3/\n",
      "/dfs/user/yhr/genedisco/genedisco/results/sanchez_2021_down_softuncertain_4/\n",
      "/dfs/user/yhr/genedisco/genedisco/results/sanchez_2021_down_softuncertain_5/\n",
      "/dfs/user/yhr/genedisco/genedisco/results/sanchez_2021_down_softuncertain_6/\n",
      "/dfs/user/yhr/genedisco/genedisco/results/sanchez_2021_down_softuncertain_7/\n",
      "/dfs/user/yhr/genedisco/genedisco/results/sanchez_2021_down_softuncertain_8/\n",
      "/dfs/user/yhr/genedisco/genedisco/results/sanchez_2021_down_softuncertain_9/\n",
      "topuncertain\n",
      "/dfs/user/yhr/genedisco/genedisco/results/sanchez_2021_down_topuncertain_1/\n",
      "/dfs/user/yhr/genedisco/genedisco/results/sanchez_2021_down_topuncertain_2/\n",
      "/dfs/user/yhr/genedisco/genedisco/results/sanchez_2021_down_topuncertain_3/\n",
      "/dfs/user/yhr/genedisco/genedisco/results/sanchez_2021_down_topuncertain_4/\n",
      "/dfs/user/yhr/genedisco/genedisco/results/sanchez_2021_down_topuncertain_5/\n",
      "/dfs/user/yhr/genedisco/genedisco/results/sanchez_2021_down_topuncertain_6/\n",
      "/dfs/user/yhr/genedisco/genedisco/results/sanchez_2021_down_topuncertain_7/\n",
      "/dfs/user/yhr/genedisco/genedisco/results/sanchez_2021_down_topuncertain_8/\n",
      "/dfs/user/yhr/genedisco/genedisco/results/sanchez_2021_down_topuncertain_9/\n",
      "marginsample\n",
      "/dfs/user/yhr/genedisco/genedisco/results/sanchez_2021_down_marginsample_1/\n",
      "/dfs/user/yhr/genedisco/genedisco/results/sanchez_2021_down_marginsample_2/\n",
      "/dfs/user/yhr/genedisco/genedisco/results/sanchez_2021_down_marginsample_3/\n",
      "/dfs/user/yhr/genedisco/genedisco/results/sanchez_2021_down_marginsample_4/\n",
      "/dfs/user/yhr/genedisco/genedisco/results/sanchez_2021_down_marginsample_5/\n",
      "/dfs/user/yhr/genedisco/genedisco/results/sanchez_2021_down_marginsample_6/\n",
      "/dfs/user/yhr/genedisco/genedisco/results/sanchez_2021_down_marginsample_7/\n",
      "/dfs/user/yhr/genedisco/genedisco/results/sanchez_2021_down_marginsample_8/\n",
      "/dfs/user/yhr/genedisco/genedisco/results/sanchez_2021_down_marginsample_9/\n",
      "coreset\n",
      "/dfs/user/yhr/genedisco/genedisco/results/sanchez_2021_down_coreset_1/\n",
      "/dfs/user/yhr/genedisco/genedisco/results/sanchez_2021_down_coreset_2/\n",
      "/dfs/user/yhr/genedisco/genedisco/results/sanchez_2021_down_coreset_3/\n",
      "/dfs/user/yhr/genedisco/genedisco/results/sanchez_2021_down_coreset_4/\n",
      "/dfs/user/yhr/genedisco/genedisco/results/sanchez_2021_down_coreset_5/\n",
      "/dfs/user/yhr/genedisco/genedisco/results/sanchez_2021_down_coreset_6/\n",
      "/dfs/user/yhr/genedisco/genedisco/results/sanchez_2021_down_coreset_7/\n",
      "/dfs/user/yhr/genedisco/genedisco/results/sanchez_2021_down_coreset_8/\n",
      "/dfs/user/yhr/genedisco/genedisco/results/sanchez_2021_down_coreset_9/\n",
      "badge\n",
      "/dfs/user/yhr/genedisco/genedisco/results/sanchez_2021_down_badge_1/\n",
      "/dfs/user/yhr/genedisco/genedisco/results/sanchez_2021_down_badge_2/\n",
      "/dfs/user/yhr/genedisco/genedisco/results/sanchez_2021_down_badge_3/\n",
      "/dfs/user/yhr/genedisco/genedisco/results/sanchez_2021_down_badge_4/\n",
      "/dfs/user/yhr/genedisco/genedisco/results/sanchez_2021_down_badge_5/\n",
      "/dfs/user/yhr/genedisco/genedisco/results/sanchez_2021_down_badge_6/\n",
      "/dfs/user/yhr/genedisco/genedisco/results/sanchez_2021_down_badge_7/\n",
      "/dfs/user/yhr/genedisco/genedisco/results/sanchez_2021_down_badge_8/\n",
      "/dfs/user/yhr/genedisco/genedisco/results/sanchez_2021_down_badge_9/\n",
      "kmeans_embedding\n",
      "/dfs/user/yhr/genedisco/genedisco/results/sanchez_2021_down_kmeans_embedding_1/\n",
      "/dfs/user/yhr/genedisco/genedisco/results/sanchez_2021_down_kmeans_embedding_2/\n",
      "/dfs/user/yhr/genedisco/genedisco/results/sanchez_2021_down_kmeans_embedding_3/\n",
      "/dfs/user/yhr/genedisco/genedisco/results/sanchez_2021_down_kmeans_embedding_4/\n",
      "/dfs/user/yhr/genedisco/genedisco/results/sanchez_2021_down_kmeans_embedding_5/\n",
      "/dfs/user/yhr/genedisco/genedisco/results/sanchez_2021_down_kmeans_embedding_6/\n",
      "/dfs/user/yhr/genedisco/genedisco/results/sanchez_2021_down_kmeans_embedding_7/\n",
      "/dfs/user/yhr/genedisco/genedisco/results/sanchez_2021_down_kmeans_embedding_8/\n",
      "/dfs/user/yhr/genedisco/genedisco/results/sanchez_2021_down_kmeans_embedding_9/\n",
      "kmeans_data\n",
      "/dfs/user/yhr/genedisco/genedisco/results/sanchez_2021_down_kmeans_data_1/\n",
      "/dfs/user/yhr/genedisco/genedisco/results/sanchez_2021_down_kmeans_data_2/\n",
      "/dfs/user/yhr/genedisco/genedisco/results/sanchez_2021_down_kmeans_data_3/\n",
      "/dfs/user/yhr/genedisco/genedisco/results/sanchez_2021_down_kmeans_data_4/\n",
      "/dfs/user/yhr/genedisco/genedisco/results/sanchez_2021_down_kmeans_data_5/\n",
      "/dfs/user/yhr/genedisco/genedisco/results/sanchez_2021_down_kmeans_data_6/\n",
      "/dfs/user/yhr/genedisco/genedisco/results/sanchez_2021_down_kmeans_data_7/\n",
      "/dfs/user/yhr/genedisco/genedisco/results/sanchez_2021_down_kmeans_data_8/\n",
      "/dfs/user/yhr/genedisco/genedisco/results/sanchez_2021_down_kmeans_data_9/\n"
     ]
    }
   ],
   "source": [
    "# calculate the mean and standard deviation of the random data\n",
    "random_hit_rates, random_hits = get_random_hits(sample_size, num_steps = num_steps, num_reps=num_reps)\n",
    "random_mean = np.mean(np.array([x for x in random_hit_rates.values()]),0)\n",
    "random_std = np.std(np.array([x for x in random_hit_rates.values()]),0)\n",
    "\n",
    "# calculate the mean and standard deviation for the model predictions\n",
    "ml_mean = {}\n",
    "ml_std = {}\n",
    "ml_scores = {}\n",
    "\n",
    "for ML_model_name in ACQUISITION_FUNCTIONS:\n",
    "    \n",
    "    print(ML_model_name)\n",
    "    \n",
    "    try:\n",
    "        ml_hit_rates, ml_hits = get_ml_hits(data_name, ML_model_name, num_steps = num_steps, \n",
    "                                            num_reps=num_reps,\n",
    "                                            batch_size=batch_size)\n",
    "        ml_scores[ML_model_name] = get_avg_hit_scores(ml_hits, num_reps=num_reps)\n",
    "        \n",
    "        ml_mean[ML_model_name] = np.round(np.mean(np.array([x for x in ml_hit_rates.values()]),0),3)\n",
    "        ml_std[ML_model_name] = np.round(np.std(np.array([x for x in ml_hit_rates.values()]),0),3)\n",
    "    except:\n",
    "        print('Failed')"
   ]
  },
  {
   "cell_type": "code",
   "execution_count": 24,
   "metadata": {},
   "outputs": [
    {
     "data": {
      "text/plain": [
       "{'random': array([0.005, 0.012, 0.019, 0.026, 0.033]),\n",
       " 'softuncertain': array([0.006, 0.012, 0.018, 0.024, 0.029]),\n",
       " 'topuncertain': array([0.006, 0.014, 0.023, 0.031, 0.039]),\n",
       " 'marginsample': array([0.005, 0.011, 0.017, 0.025, 0.033]),\n",
       " 'coreset': array([0.005, 0.018, 0.035, 0.047, 0.061]),\n",
       " 'badge': array([0.008, 0.016, 0.025, 0.032, 0.039]),\n",
       " 'kmeans_embedding': array([0.006, 0.013, 0.02 , 0.028, 0.037]),\n",
       " 'kmeans_data': array([0.006, 0.015, 0.025, 0.033, 0.043])}"
      ]
     },
     "execution_count": 24,
     "metadata": {},
     "output_type": "execute_result"
    }
   ],
   "source": [
    "ml_mean"
   ]
  },
  {
   "cell_type": "code",
   "execution_count": 25,
   "metadata": {},
   "outputs": [
    {
     "data": {
      "text/plain": [
       "{'random': array([0.001, 0.002, 0.004, 0.005, 0.004]),\n",
       " 'softuncertain': array([0.002, 0.003, 0.004, 0.005, 0.003]),\n",
       " 'topuncertain': array([0.002, 0.003, 0.004, 0.004, 0.007]),\n",
       " 'marginsample': array([0.002, 0.003, 0.003, 0.004, 0.005]),\n",
       " 'coreset': array([0.003, 0.004, 0.005, 0.004, 0.005]),\n",
       " 'badge': array([0.003, 0.005, 0.004, 0.005, 0.005]),\n",
       " 'kmeans_embedding': array([0.002, 0.004, 0.003, 0.004, 0.003]),\n",
       " 'kmeans_data': array([0.002, 0.002, 0.003, 0.004, 0.004])}"
      ]
     },
     "execution_count": 25,
     "metadata": {},
     "output_type": "execute_result"
    }
   ],
   "source": [
    "ml_std"
   ]
  },
  {
   "cell_type": "code",
   "execution_count": 13,
   "metadata": {},
   "outputs": [
    {
     "name": "stdout",
     "output_type": "stream",
     "text": [
      "random 0.035\n",
      "softuncertain 0.037\n",
      "topuncertain 0.057\n",
      "marginsample 0.054\n",
      "coreset 0.072\n",
      "badge 0.06\n",
      "kmeans_embedding 0.045\n",
      "kmeans_data 0.048\n"
     ]
    }
   ],
   "source": [
    "for x,v in ml_mean.items():\n",
    "    print(x, v[4])"
   ]
  },
  {
   "cell_type": "code",
   "execution_count": 14,
   "metadata": {},
   "outputs": [
    {
     "name": "stdout",
     "output_type": "stream",
     "text": [
      "random 0.004\n",
      "softuncertain 0.006\n",
      "topuncertain 0.007\n",
      "marginsample 0.006\n",
      "coreset 0.007\n",
      "badge 0.008\n",
      "kmeans_embedding 0.004\n",
      "kmeans_data 0.005\n"
     ]
    }
   ],
   "source": [
    "for x,v in ml_std.items():\n",
    "    print(x, v[4])"
   ]
  },
  {
   "cell_type": "code",
   "execution_count": 16,
   "metadata": {},
   "outputs": [
    {
     "data": {
      "text/plain": [
       "{'coreset': array([0.005, 0.028, 0.046, 0.067, 0.077, 0.097, 0.114, 0.129, 0.147,\n",
       "        0.164]),\n",
       " 'badge': array([0.004, 0.02 , 0.038, 0.054, 0.07 , 0.083, 0.097, 0.109, 0.115,\n",
       "        0.129])}"
      ]
     },
     "execution_count": 16,
     "metadata": {},
     "output_type": "execute_result"
    }
   ],
   "source": [
    "ml_mean"
   ]
  },
  {
   "cell_type": "code",
   "execution_count": 6,
   "metadata": {},
   "outputs": [],
   "source": [
    "ML_model_rename = {x:x.title() for x in ACQUISITION_FUNCTIONS}\n",
    "ML_model_rename['softuncertain'] = 'Soft Uncertain'\n",
    "ML_model_rename['topuncertain'] = 'Top Uncertain'\n",
    "ML_model_rename['marginsample'] = 'Margin Sample'\n",
    "ML_model_rename['kmeans_embedding'] = 'Kmeans Embedding'\n",
    "ML_model_rename['kmeans_data'] = 'Kmeans Data'"
   ]
  },
  {
   "cell_type": "code",
   "execution_count": 17,
   "metadata": {},
   "outputs": [
    {
     "name": "stdout",
     "output_type": "stream",
     "text": [
      "['IFNG']\n",
      "random\n",
      "softuncertain\n",
      "topuncertain\n",
      "marginsample\n",
      "Coreset  0.077  \\\\\n",
      "Badge  0.07  \\\\\n",
      "kmeans_embedding\n",
      "kmeans_data\n"
     ]
    }
   ],
   "source": [
    "print(SCREEN_NAMES)\n",
    "\n",
    "\n",
    "for ML_model_name in ACQUISITION_FUNCTIONS:\n",
    "    try:\n",
    "        print(f\"{ML_model_rename[ML_model_name]} \"\n",
    "          f\" {ml_mean[ML_model_name][5-1]}  \\\\\\\\\")\n",
    "    except:\n",
    "        print(ML_model_name)"
   ]
  },
  {
   "cell_type": "code",
   "execution_count": null,
   "metadata": {},
   "outputs": [],
   "source": [
    "print(SCREEN_NAMES)\n",
    "\n",
    "\n",
    "for ML_model_name in ACQUISITION_FUNCTIONS:\n",
    "    try:\n",
    "        print(f\"{ML_model_rename[ML_model_name]} & Only Observation & {ml_scores[ML_model_name][3-1]} & {ml_scores[ML_model_name][5-1]}\"\n",
    "          f\"& {ml_scores[ML_model_name][10-1]} &\"\n",
    "          f\"{ml_mean[ML_model_name][3-1]} & {ml_mean[ML_model_name][5-1]} & {ml_mean[ML_model_name][10-1]} \\\\\\\\\")\n",
    "    except:\n",
    "        print(ML_model_name)"
   ]
  },
  {
   "cell_type": "markdown",
   "metadata": {},
   "source": [
    "### Create noisy dataset for evaluation"
   ]
  },
  {
   "cell_type": "code",
   "execution_count": 3,
   "metadata": {},
   "outputs": [
    {
     "name": "stderr",
     "output_type": "stream",
     "text": [
      "/dfs/user/yhr/causal/lib/python3.8/site-packages/tqdm/auto.py:22: TqdmWarning: IProgress not found. Please update jupyter and ipywidgets. See https://ipywidgets.readthedocs.io/en/stable/user_install.html\n",
      "  from .autonotebook import tqdm as notebook_tqdm\n"
     ]
    }
   ],
   "source": [
    "import h5py\n",
    "from slingpy.data_access.data_sources.hdf5_tools import HDF5Tools"
   ]
  },
  {
   "cell_type": "code",
   "execution_count": 5,
   "metadata": {},
   "outputs": [],
   "source": [
    "filename = '/dfs/user/yhr/genedisco/genedisco/genedisco_cache/schmidt_2021_ifng_noise.h5'"
   ]
  },
  {
   "cell_type": "code",
   "execution_count": null,
   "metadata": {},
   "outputs": [],
   "source": [
    "HDF5Tools."
   ]
  },
  {
   "cell_type": "code",
   "execution_count": null,
   "metadata": {},
   "outputs": [],
   "source": []
  },
  {
   "cell_type": "code",
   "execution_count": 6,
   "metadata": {},
   "outputs": [
    {
     "name": "stdout",
     "output_type": "stream",
     "text": [
      "Keys: <KeysViewHDF5 ['colnames', 'covariates', 'rownames']>\n",
      "<class 'h5py._hl.dataset.Dataset'>\n"
     ]
    }
   ],
   "source": [
    "import h5py\n",
    "\n",
    "with h5py.File(filename, \"r\") as f:\n",
    "    # Print all root level object names (aka keys) \n",
    "    # these can be group or dataset names \n",
    "    print(\"Keys: %s\" % f.keys())\n",
    "    # get first object name/key; may or may NOT be a group\n",
    "    a_group_key = list(f.keys())[0]\n",
    "\n",
    "    # get the object type for a_group_key: usually group or dataset\n",
    "    print(type(f[a_group_key])) \n",
    "\n",
    "    # If a_group_key is a group name, \n",
    "    # this gets the object names in the group and returns as a list\n",
    "    data = list(f[a_group_key])\n",
    "\n",
    "    # If a_group_key is a dataset name, \n",
    "    # this gets the dataset values and returns as a list\n",
    "    data = list(f[a_group_key])\n",
    "    # preferred methods to get dataset values:\n",
    "    ds_obj = f[a_group_key]      # returns as a h5py dataset object\n",
    "    ds_arr = f[a_group_key][()]  #"
   ]
  },
  {
   "cell_type": "code",
   "execution_count": 56,
   "metadata": {},
   "outputs": [
    {
     "name": "stdout",
     "output_type": "stream",
     "text": [
      "[[-0.161214 ]\n",
      " [ 0.129081 ]\n",
      " [-0.18934  ]\n",
      " ...\n",
      " [ 0.222654 ]\n",
      " [ 0.2619375]\n",
      " [ 0.16858  ]]\n"
     ]
    }
   ],
   "source": [
    "with h5py.File(filename, 'r') as f:\n",
    "    genes = f['rownames'][:]\n",
    "    genes = [x.decode() for x in genes]\n",
    "    covariates = f['covariates'][:]\n",
    "    print(covariates)"
   ]
  },
  {
   "cell_type": "code",
   "execution_count": 58,
   "metadata": {},
   "outputs": [],
   "source": [
    "noise_idx = np.where([g in last_indices for g in genes])[0]\n",
    "covariates[noise_idx] = covariates[noise_idx] + noise.reshape([-1,1])"
   ]
  },
  {
   "cell_type": "code",
   "execution_count": 14,
   "metadata": {},
   "outputs": [],
   "source": [
    "vals = pd.read_csv('/dfs/user/yhr/AI_RA/research_assistant/datasets/ground_truth_IFNG.csv')"
   ]
  },
  {
   "cell_type": "code",
   "execution_count": null,
   "metadata": {},
   "outputs": [],
   "source": []
  },
  {
   "cell_type": "code",
   "execution_count": 17,
   "metadata": {},
   "outputs": [],
   "source": [
    "vals = pd.read_csv('/dfs/scratch0/jianv/bio-logs/noisy-data/ground_truth_IFNG.csv')['Score'].values"
   ]
  },
  {
   "cell_type": "code",
   "execution_count": null,
   "metadata": {},
   "outputs": [],
   "source": [
    "import scipy"
   ]
  },
  {
   "cell_type": "code",
   "execution_count": 17,
   "metadata": {},
   "outputs": [
    {
     "ename": "NameError",
     "evalue": "name 'vals' is not defined",
     "output_type": "error",
     "traceback": [
      "\u001b[0;31m---------------------------------------------------------------------------\u001b[0m",
      "\u001b[0;31mNameError\u001b[0m                                 Traceback (most recent call last)",
      "\u001b[0;32m/tmp/ipykernel_150269/422480136.py\u001b[0m in \u001b[0;36m<module>\u001b[0;34m\u001b[0m\n\u001b[0;32m----> 1\u001b[0;31m \u001b[0mmean\u001b[0m \u001b[0;34m=\u001b[0m \u001b[0mnp\u001b[0m\u001b[0;34m.\u001b[0m\u001b[0mmean\u001b[0m\u001b[0;34m(\u001b[0m\u001b[0mvals\u001b[0m\u001b[0;34m)\u001b[0m\u001b[0;34m\u001b[0m\u001b[0;34m\u001b[0m\u001b[0m\n\u001b[0m\u001b[1;32m      2\u001b[0m \u001b[0mstd_dev\u001b[0m \u001b[0;34m=\u001b[0m \u001b[0;36m2.5\u001b[0m\u001b[0;34m\u001b[0m\u001b[0;34m\u001b[0m\u001b[0m\n",
      "\u001b[0;31mNameError\u001b[0m: name 'vals' is not defined"
     ]
    }
   ],
   "source": [
    "mean = np.mean(vals)\n",
    "std_dev = 2.5"
   ]
  },
  {
   "cell_type": "code",
   "execution_count": 79,
   "metadata": {},
   "outputs": [],
   "source": [
    "noise = np.random.normal(mean, std_dev, len(vals))\n",
    "noisy_data = vals + noise"
   ]
  },
  {
   "cell_type": "code",
   "execution_count": 80,
   "metadata": {},
   "outputs": [
    {
     "data": {
      "text/plain": [
       "<matplotlib.collections.PathCollection at 0x7ff7965698d0>"
      ]
     },
     "execution_count": 80,
     "metadata": {},
     "output_type": "execute_result"
    },
    {
     "data": {
      "image/png": "[encoded data removed]",
      "text/plain": [
       "<Figure size 432x288 with 1 Axes>"
      ]
     },
     "metadata": {
      "needs_background": "light"
     },
     "output_type": "display_data"
    }
   ],
   "source": [
    "plt.scatter(vals+noise, vals)"
   ]
  },
  {
   "cell_type": "code",
   "execution_count": null,
   "metadata": {},
   "outputs": [],
   "source": []
  },
  {
   "cell_type": "code",
   "execution_count": 73,
   "metadata": {},
   "outputs": [
    {
     "data": {
      "text/plain": [
       "(array([8.000e+00, 5.000e+00, 8.000e+00, 1.290e+02, 1.682e+03, 6.043e+03,\n",
       "        7.305e+03, 2.857e+03, 3.700e+02, 1.100e+01]),\n",
       " array([-3.71561974, -3.1133462 , -2.51107266, -1.90879912, -1.30652558,\n",
       "        -0.70425204, -0.1019785 ,  0.50029504,  1.10256858,  1.70484212,\n",
       "         2.30711566]),\n",
       " <BarContainer object of 10 artists>)"
      ]
     },
     "execution_count": 73,
     "metadata": {},
     "output_type": "execute_result"
    },
    {
     "data": {
      "image/png": "[encoded data removed]",
      "text/plain": [
       "<Figure size 432x288 with 1 Axes>"
      ]
     },
     "metadata": {
      "needs_background": "light"
     },
     "output_type": "display_data"
    }
   ],
   "source": [
    "plt.hist(vals+noise)"
   ]
  },
  {
   "cell_type": "code",
   "execution_count": 84,
   "metadata": {},
   "outputs": [
    {
     "name": "stdout",
     "output_type": "stream",
     "text": [
      "[[ 0.8664957 ]\n",
      " [-0.19948187]\n",
      " [-0.66753256]\n",
      " ...\n",
      " [ 0.12752467]\n",
      " [ 0.11362068]\n",
      " [ 1.5334302 ]]\n"
     ]
    }
   ],
   "source": [
    "with h5py.File(filename, 'r') as f:\n",
    "    covariates = f['covariates'][:]\n",
    "    print(covariates)"
   ]
  },
  {
   "cell_type": "code",
   "execution_count": 16,
   "metadata": {},
   "outputs": [
    {
     "ename": "NameError",
     "evalue": "name 'noisy_data' is not defined",
     "output_type": "error",
     "traceback": [
      "\u001b[0;31m---------------------------------------------------------------------------\u001b[0m",
      "\u001b[0;31mNameError\u001b[0m                                 Traceback (most recent call last)",
      "\u001b[0;32m/tmp/ipykernel_150269/2852374667.py\u001b[0m in \u001b[0;36m<module>\u001b[0;34m\u001b[0m\n\u001b[0;32m----> 1\u001b[0;31m \u001b[0mnoisy_data\u001b[0m\u001b[0;34m\u001b[0m\u001b[0;34m\u001b[0m\u001b[0m\n\u001b[0m",
      "\u001b[0;31mNameError\u001b[0m: name 'noisy_data' is not defined"
     ]
    }
   ],
   "source": [
    "noisy_data"
   ]
  },
  {
   "cell_type": "code",
   "execution_count": 82,
   "metadata": {},
   "outputs": [],
   "source": [
    "#vals = pd.read_csv('/dfs/scratch0/jianv/bio-logs/noisy-data/ground_truth_IFNG_0.1.csv')['Score'].values"
   ]
  },
  {
   "cell_type": "code",
   "execution_count": 83,
   "metadata": {},
   "outputs": [],
   "source": [
    "with h5py.File(filename, 'r+') as f:\n",
    "    \n",
    "    # Update the dataset with new values\n",
    "    f['covariates'][...] = np.expand_dims(noisy_data, 1)"
   ]
  },
  {
   "cell_type": "markdown",
   "metadata": {},
   "source": [
    "### Combinatorial results: Horlbeck"
   ]
  },
  {
   "cell_type": "code",
   "execution_count": 75,
   "metadata": {},
   "outputs": [],
   "source": [
    "ground_truth_horlbeck = pd.read_csv('/dfs/user/yhr/testing/research_assistant/datasets/ground_truth_Horlbeck.csv')\n",
    "\n",
    "topmovers_horlbeck = np.load('/dfs/user/yhr/testing/research_assistant/datasets/topmovers_Horlbeck.npy')\n",
    "topmovers_horlbeck = [str((x[0], x[1])) for x in topmovers_horlbeck]"
   ]
  },
  {
   "cell_type": "code",
   "execution_count": 69,
   "metadata": {},
   "outputs": [],
   "source": [
    "idx = ['negative' not in x for x in ground_truth_horlbeck['Gene_pairs']]\n",
    "ground_truth_horlbeck_subset = ground_truth_horlbeck[idx]\n",
    "available_combos = ground_truth_horlbeck_subset['Gene_pairs'].tolist()\n"
   ]
  },
  {
   "cell_type": "code",
   "execution_count": 125,
   "metadata": {},
   "outputs": [],
   "source": [
    "random_rounds = {}\n",
    "random_scores = {}\n",
    "cum_scores = {}\n",
    "num_steps = 5\n",
    "\n",
    "batch_size = 32\n",
    "for itr in range(10):\n",
    "    random_rounds[itr] = []\n",
    "    random_scores[itr] = []\n",
    "    cum_scores[itr] = []\n",
    "    cum_sample = []\n",
    "    \n",
    "    for step in range(num_steps):\n",
    "        sample = np.random.choice(available_combos, batch_size)\n",
    "        cum_sample.extend(sample)\n",
    "        random_rounds[itr].append(cum_sample)\n",
    "        available_combos = list(set(available_combos).difference(set(cum_sample)))\n",
    "        random_scores[itr].append(len(set(cum_sample).intersection(set(topmovers_horlbeck))))"
   ]
  },
  {
   "cell_type": "code",
   "execution_count": 126,
   "metadata": {},
   "outputs": [],
   "source": [
    "means = np.mean(list(random_scores.values()),0)\n",
    "std = np.std(list(random_scores.values()),0)"
   ]
  },
  {
   "cell_type": "code",
   "execution_count": 136,
   "metadata": {},
   "outputs": [],
   "source": [
    "pred_rounds = {}\n",
    "pred_scores = {}\n",
    "pred_cum_scores = {}\n",
    "\n",
    "batch_size = 32\n",
    "for itr in range(6):\n",
    "    pred_rounds[itr] = []\n",
    "    pred_scores[itr] = []\n",
    "    pred_cum_scores[itr] = []\n",
    "    \n",
    "    for step in range(5):\n",
    "        pred_sample = np.load(f'/dfs/user/yhr/testing/research_assistant/logs_Horlbeck/exp_{itr+1}/sampled_genes_{step+1}.npy')\n",
    "        pred_sample = [str((x[0], x[1])) for x in pred_sample]\n",
    "        pred_rounds[itr].append(pred_sample)\n",
    "        pred_scores[itr].append(len(set(pred_sample).intersection(set(topmovers_horlbeck))))"
   ]
  },
  {
   "cell_type": "code",
   "execution_count": 138,
   "metadata": {},
   "outputs": [],
   "source": [
    "pred_means = np.mean(list(pred_scores.values()),0)\n",
    "pred_std = np.std(list(pred_scores.values()),0)"
   ]
  },
  {
   "cell_type": "code",
   "execution_count": 141,
   "metadata": {},
   "outputs": [
    {
     "data": {
      "text/plain": [
       "Text(0.5, 0, 'Experimental rounds')"
      ]
     },
     "execution_count": 141,
     "metadata": {},
     "output_type": "execute_result"
    },
    {
     "data": {
      "image/png": "[encoded data removed]",
      "text/plain": [
       "<Figure size 640x480 with 1 Axes>"
      ]
     },
     "metadata": {},
     "output_type": "display_data"
    }
   ],
   "source": [
    "plt.plot(np.arange(num_steps), \n",
    "         means, label='random', color='black')\n",
    "plt.fill_between(np.arange(num_steps), \n",
    "                 means - std, \n",
    "                 means + std,\n",
    "                 color='black', alpha=0.2)\n",
    "\n",
    "plt.plot(np.arange(num_steps), \n",
    "         pred_means, label='Claude-v1', color='red')\n",
    "plt.fill_between(np.arange(num_steps), \n",
    "                 pred_means - pred_std, \n",
    "                 pred_means + pred_std,\n",
    "                 color='red', alpha=0.2)\n",
    "\n",
    "\n",
    "plt.legend()\n",
    "plt.title('Combinatorial prediction (Horlbeck)')\n",
    "plt.ylabel('Cumulative number of hits')\n",
    "plt.xlabel('Experimental rounds')"
   ]
  },
  {
   "cell_type": "code",
   "execution_count": 142,
   "metadata": {},
   "outputs": [
    {
     "data": {
      "text/plain": [
       "array([ 5.5       , 14.33333333, 21.66666667, 30.5       , 32.66666667])"
      ]
     },
     "execution_count": 142,
     "metadata": {},
     "output_type": "execute_result"
    }
   ],
   "source": [
    "pred_means"
   ]
  },
  {
   "cell_type": "code",
   "execution_count": 148,
   "metadata": {},
   "outputs": [
    {
     "data": {
      "text/plain": [
       "array([4.42530602, 5.76387216, 7.56453715, 7.34279692, 7.36357401])"
      ]
     },
     "execution_count": 148,
     "metadata": {},
     "output_type": "execute_result"
    }
   ],
   "source": [
    "pred_std"
   ]
  },
  {
   "cell_type": "code",
   "execution_count": 144,
   "metadata": {},
   "outputs": [
    {
     "data": {
      "text/plain": [
       "array([ 2.6,  5.7,  8.9, 12.8, 16.4])"
      ]
     },
     "execution_count": 144,
     "metadata": {},
     "output_type": "execute_result"
    }
   ],
   "source": [
    "means"
   ]
  },
  {
   "cell_type": "code",
   "execution_count": 149,
   "metadata": {},
   "outputs": [
    {
     "data": {
      "text/plain": [
       "array([1.42828569, 2.83019434, 3.67287353, 3.73630834, 3.8       ])"
      ]
     },
     "execution_count": 149,
     "metadata": {},
     "output_type": "execute_result"
    }
   ],
   "source": [
    "std"
   ]
  },
  {
   "cell_type": "markdown",
   "metadata": {},
   "source": [
    "### Combinatorial results: Norman"
   ]
  },
  {
   "cell_type": "code",
   "execution_count": 206,
   "metadata": {},
   "outputs": [],
   "source": [
    "ground_truth_norman = pd.read_csv('/dfs/user/yhr/testing/research_assistant/datasets/ground_truth_NormanGI.csv')\n",
    "\n",
    "topmovers_norman = np.load('/dfs/user/yhr/testing/research_assistant/datasets/topmovers_NormanGI.npy')\n",
    "topmovers_norman = [str((x[0], x[1])) for x in topmovers_norman]"
   ]
  },
  {
   "cell_type": "code",
   "execution_count": 217,
   "metadata": {},
   "outputs": [],
   "source": [
    "idx = ['negative' not in x for x in ground_truth_norman['Gene_pairs']]\n",
    "ground_truth_norman_subset = ground_truth_norman[idx]\n",
    "available_combos = ground_truth_norman_subset['Gene_pairs'].tolist()\n"
   ]
  },
  {
   "cell_type": "code",
   "execution_count": 218,
   "metadata": {},
   "outputs": [],
   "source": [
    "random_rounds = {}\n",
    "random_scores = {}\n",
    "cum_scores = {}\n",
    "num_steps = 5\n",
    "\n",
    "batch_size = 32\n",
    "for itr in range(10):\n",
    "    random_rounds[itr] = []\n",
    "    random_scores[itr] = []\n",
    "    cum_scores[itr] = []\n",
    "    cum_sample = []\n",
    "    \n",
    "    for step in range(num_steps):\n",
    "        sample = np.random.choice(available_combos, batch_size)\n",
    "        cum_sample.extend(sample)\n",
    "        random_rounds[itr].append(cum_sample)\n",
    "        available_combos = list(set(available_combos).difference(set(cum_sample)))\n",
    "        random_scores[itr].append(len(set(cum_sample).intersection(set(topmovers_norman))))"
   ]
  },
  {
   "cell_type": "code",
   "execution_count": 219,
   "metadata": {},
   "outputs": [],
   "source": [
    "means = np.mean(list(random_scores.values()),0)\n",
    "std = np.std(list(random_scores.values()),0)"
   ]
  },
  {
   "cell_type": "code",
   "execution_count": 220,
   "metadata": {},
   "outputs": [
    {
     "data": {
      "text/plain": [
       "array([ 3.3,  5.9, 10.7, 13.8, 17.2])"
      ]
     },
     "execution_count": 220,
     "metadata": {},
     "output_type": "execute_result"
    }
   ],
   "source": [
    "means"
   ]
  },
  {
   "cell_type": "code",
   "execution_count": 221,
   "metadata": {},
   "outputs": [
    {
     "data": {
      "text/plain": [
       "array([1.61554944, 1.97230829, 2.00249844, 1.93907194, 3.02654919])"
      ]
     },
     "execution_count": 221,
     "metadata": {},
     "output_type": "execute_result"
    }
   ],
   "source": [
    "std"
   ]
  },
  {
   "cell_type": "code",
   "execution_count": 228,
   "metadata": {},
   "outputs": [],
   "source": [
    "pred_rounds = {}\n",
    "pred_scores = {}\n",
    "pred_cum_scores = {}\n",
    "\n",
    "batch_size = 32\n",
    "for itr in range(1,5):\n",
    "    pred_rounds[itr] = []\n",
    "    pred_scores[itr] = []\n",
    "    pred_cum_scores[itr] = []\n",
    "    \n",
    "    for step in range(5):\n",
    "        pred_sample = np.load(f'/dfs/user/yhr/testing/research_assistant/logs_NormanGI/exp_{itr+1}/sampled_genes_{step+1}.npy')\n",
    "        pred_sample = [str((x[0], x[1])) for x in pred_sample]\n",
    "        pred_rounds[itr].append(pred_sample)\n",
    "        pred_scores[itr].append(len(set(pred_sample).intersection(set(topmovers_norman))))"
   ]
  },
  {
   "cell_type": "code",
   "execution_count": 229,
   "metadata": {},
   "outputs": [],
   "source": [
    "pred_means = np.mean(list(pred_scores.values()),0)\n",
    "pred_std = np.std(list(pred_scores.values()),0)"
   ]
  },
  {
   "cell_type": "code",
   "execution_count": 230,
   "metadata": {},
   "outputs": [
    {
     "data": {
      "text/plain": [
       "Text(0.5, 0, 'Experimental rounds')"
      ]
     },
     "execution_count": 230,
     "metadata": {},
     "output_type": "execute_result"
    },
    {
     "data": {
      "image/png": "[encoded data removed]",
      "text/plain": [
       "<Figure size 640x480 with 1 Axes>"
      ]
     },
     "metadata": {},
     "output_type": "display_data"
    }
   ],
   "source": [
    "plt.plot(np.arange(num_steps), \n",
    "         means, label='random', color='black')\n",
    "plt.fill_between(np.arange(num_steps), \n",
    "                 means - std, \n",
    "                 means + std,\n",
    "                 color='black', alpha=0.2)\n",
    "\n",
    "plt.plot(np.arange(num_steps), \n",
    "         pred_means, label='Claude-v1', color='red')\n",
    "plt.fill_between(np.arange(num_steps), \n",
    "                 pred_means - pred_std, \n",
    "                 pred_means + pred_std,\n",
    "                 color='red', alpha=0.2)\n",
    "\n",
    "\n",
    "plt.legend()\n",
    "plt.title('Combinatorial prediction (Horlbeck)')\n",
    "plt.ylabel('Cumulative number of hits')\n",
    "plt.xlabel('Experimental rounds')"
   ]
  },
  {
   "cell_type": "code",
   "execution_count": 231,
   "metadata": {},
   "outputs": [
    {
     "data": {
      "text/plain": [
       "array([ 3.5 ,  5.25, 10.  , 11.75, 13.25])"
      ]
     },
     "execution_count": 231,
     "metadata": {},
     "output_type": "execute_result"
    }
   ],
   "source": [
    "pred_means"
   ]
  },
  {
   "cell_type": "code",
   "execution_count": 232,
   "metadata": {},
   "outputs": [
    {
     "data": {
      "text/plain": [
       "array([0.8660254 , 2.27760839, 1.22474487, 2.04633819, 2.384848  ])"
      ]
     },
     "execution_count": 232,
     "metadata": {},
     "output_type": "execute_result"
    }
   ],
   "source": [
    "pred_std"
   ]
  },
  {
   "cell_type": "code",
   "execution_count": 144,
   "metadata": {},
   "outputs": [
    {
     "data": {
      "text/plain": [
       "array([ 2.6,  5.7,  8.9, 12.8, 16.4])"
      ]
     },
     "execution_count": 144,
     "metadata": {},
     "output_type": "execute_result"
    }
   ],
   "source": [
    "means"
   ]
  },
  {
   "cell_type": "code",
   "execution_count": 149,
   "metadata": {},
   "outputs": [
    {
     "data": {
      "text/plain": [
       "array([1.42828569, 2.83019434, 3.67287353, 3.73630834, 3.8       ])"
      ]
     },
     "execution_count": 149,
     "metadata": {},
     "output_type": "execute_result"
    }
   ],
   "source": [
    "std"
   ]
  },
  {
   "cell_type": "code",
   "execution_count": null,
   "metadata": {},
   "outputs": [],
   "source": []
  }
 ],
 "metadata": {
  "kernelspec": {
   "display_name": "deepamp",
   "language": "python",
   "name": "deepamp"
  },
  "language_info": {
   "codemirror_mode": {
    "name": "ipython",
    "version": 3
   },
   "file_extension": ".py",
   "mimetype": "text/x-python",
   "name": "python",
   "nbconvert_exporter": "python",
   "pygments_lexer": "ipython3",
   "version": "3.8.10"
  }
 },
 "nbformat": 4,
 "nbformat_minor": 4
}
