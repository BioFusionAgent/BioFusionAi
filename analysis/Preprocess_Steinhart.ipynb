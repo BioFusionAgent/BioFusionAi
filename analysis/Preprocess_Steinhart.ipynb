{
 "cells": [
  {
   "cell_type": "code",
   "execution_count": 1,
   "metadata": {},
   "outputs": [
    {
     "name": "stderr",
     "output_type": "stream",
     "text": [
      "/dfs/user/yhr/causal/lib/python3.8/site-packages/tqdm/auto.py:22: TqdmWarning: IProgress not found. Please update jupyter and ipywidgets. See https://ipywidgets.readthedocs.io/en/stable/user_install.html\n",
      "  from .autonotebook import tqdm as notebook_tqdm\n"
     ]
    }
   ],
   "source": [
    "import os\n",
    "import numpy as np\n",
    "import pandas as pd\n",
    "import slingpy as sp\n",
    "from genedisco.datasets.features.hgnc_names import HGNCNames\n",
    "from slingpy.data_access.data_sources.hdf5_tools import HDF5Tools\n",
    "from slingpy.data_access.data_sources.hdf5_data_source import HDF5DataSource\n",
    "from slingpy.data_access.data_sources.abstract_data_source import AbstractDataSource\n",
    "\n",
    "import matplotlib.pyplot as plt\n",
    "from screen import ScreenData\n",
    "import scanpy as sc\n",
    "%matplotlib inline\n",
    "import matplotlib"
   ]
  },
  {
   "cell_type": "code",
   "execution_count": 3,
   "metadata": {},
   "outputs": [],
   "source": [
    "dfs = {}"
   ]
  },
  {
   "cell_type": "code",
   "execution_count": 12,
   "metadata": {},
   "outputs": [
    {
     "data": {
      "text/html": [
       "<div>\n",
       "<style scoped>\n",
       "    .dataframe tbody tr th:only-of-type {\n",
       "        vertical-align: middle;\n",
       "    }\n",
       "\n",
       "    .dataframe tbody tr th {\n",
       "        vertical-align: top;\n",
       "    }\n",
       "\n",
       "    .dataframe thead th {\n",
       "        text-align: right;\n",
       "    }\n",
       "</style>\n",
       "<table border=\"1\" class=\"dataframe\">\n",
       "  <thead>\n",
       "    <tr style=\"text-align: right;\">\n",
       "      <th></th>\n",
       "      <th>Score</th>\n",
       "    </tr>\n",
       "    <tr>\n",
       "      <th>Gene_name</th>\n",
       "      <th></th>\n",
       "    </tr>\n",
       "  </thead>\n",
       "  <tbody>\n",
       "    <tr>\n",
       "      <th>A1BG</th>\n",
       "      <td>8.155523</td>\n",
       "    </tr>\n",
       "    <tr>\n",
       "      <th>A1CF</th>\n",
       "      <td>-0.120618</td>\n",
       "    </tr>\n",
       "    <tr>\n",
       "      <th>A2M</th>\n",
       "      <td>-0.123356</td>\n",
       "    </tr>\n",
       "    <tr>\n",
       "      <th>A2ML1</th>\n",
       "      <td>-0.249352</td>\n",
       "    </tr>\n",
       "    <tr>\n",
       "      <th>A3GALT2</th>\n",
       "      <td>-0.236135</td>\n",
       "    </tr>\n",
       "    <tr>\n",
       "      <th>...</th>\n",
       "      <td>...</td>\n",
       "    </tr>\n",
       "    <tr>\n",
       "      <th>ZYG11A</th>\n",
       "      <td>-0.557268</td>\n",
       "    </tr>\n",
       "    <tr>\n",
       "      <th>ZYG11B</th>\n",
       "      <td>0.009704</td>\n",
       "    </tr>\n",
       "    <tr>\n",
       "      <th>ZYX</th>\n",
       "      <td>-0.278569</td>\n",
       "    </tr>\n",
       "    <tr>\n",
       "      <th>ZZEF1</th>\n",
       "      <td>-0.403561</td>\n",
       "    </tr>\n",
       "    <tr>\n",
       "      <th>ZZZ3</th>\n",
       "      <td>0.096975</td>\n",
       "    </tr>\n",
       "  </tbody>\n",
       "</table>\n",
       "<p>18797 rows × 1 columns</p>\n",
       "</div>"
      ],
      "text/plain": [
       "              Score\n",
       "Gene_name          \n",
       "A1BG       8.155523\n",
       "A1CF      -0.120618\n",
       "A2M       -0.123356\n",
       "A2ML1     -0.249352\n",
       "A3GALT2   -0.236135\n",
       "...             ...\n",
       "ZYG11A    -0.557268\n",
       "ZYG11B     0.009704\n",
       "ZYX       -0.278569\n",
       "ZZEF1     -0.403561\n",
       "ZZZ3       0.096975\n",
       "\n",
       "[18797 rows x 1 columns]"
      ]
     },
     "execution_count": 12,
     "metadata": {},
     "output_type": "execute_result"
    }
   ],
   "source": [
    "dfs['crispra_gd2_d22']"
   ]
  },
  {
   "cell_type": "code",
   "execution_count": 15,
   "metadata": {},
   "outputs": [],
   "source": [
    "save_directory = '/dfs/user/yhr/genedisco/genedisco/datasets/screens/'"
   ]
  },
  {
   "cell_type": "markdown",
   "metadata": {},
   "source": [
    "### Genedisco/Slingpy dataloader"
   ]
  },
  {
   "cell_type": "code",
   "execution_count": 19,
   "metadata": {},
   "outputs": [
    {
     "name": "stderr",
     "output_type": "stream",
     "text": [
      "/dfs/user/yhr/causal/lib/python3.8/site-packages/genedisco/datasets/features/hgnc_names.py:95: DtypeWarning: Columns (31,38) have mixed types.Specify dtype option on import or set low_memory=False.\n",
      "  previous_mapping = self.get_hgnc_mapping(to_id=\"symbol\", from_id=other_id_name)\n"
     ]
    }
   ],
   "source": [
    "screen_name = 'crispra_GD2_D22'\n",
    "h5_file = os.path.join(save_directory, f\"steinhart_2024_{screen_name}.h5\")\n",
    "if not os.path.exists(h5_file):\n",
    "    df = pd.read_csv(f'/dfs/user/yhr/AI_RA/research_assistant/datasets/ground_truth_Steinhart_{screen_name}.csv')\n",
    "    df = df.rename(columns={'0':'Gene_name', '1':'Score'})\n",
    "\n",
    "    df = df.set_index('Gene_name')\n",
    "    \n",
    "    gene_names = df.index.values.tolist()\n",
    "    name_converter = HGNCNames(save_directory)\n",
    "    gene_names = name_converter.update_outdated_gene_names(gene_names)\n",
    "    df.index = gene_names\n",
    "\n",
    "    # Merge duplicate indices by averaging\n",
    "    df = df.groupby(df.index).mean()\n",
    "    gene_names, data = df.index.values.tolist(), df[['Score']].values.astype(np.float32)\n",
    "\n",
    "\n",
    "    HDF5Tools.save_h5_file(h5_file,\n",
    "                           data,\n",
    "                           f\"steinhart_2024_{screen_name}.h5\",\n",
    "                           column_names=[\"Score\"],\n",
    "                           row_names=gene_names)\n",
    "data_source = HDF5DataSource(h5_file, duplicate_merge_strategy=sp.MeanMergeStrategy())"
   ]
  },
  {
   "cell_type": "code",
   "execution_count": 20,
   "metadata": {},
   "outputs": [],
   "source": [
    "data_source = HDF5DataSource(h5_file, duplicate_merge_strategy=sp.MeanMergeStrategy())"
   ]
  },
  {
   "cell_type": "markdown",
   "metadata": {},
   "source": [
    "### AI RA dataloader"
   ]
  },
  {
   "cell_type": "code",
   "execution_count": null,
   "metadata": {},
   "outputs": [],
   "source": []
  },
  {
   "cell_type": "code",
   "execution_count": 7,
   "metadata": {},
   "outputs": [
    {
     "name": "stderr",
     "output_type": "stream",
     "text": [
      "/dfs/user/yhr/causal/lib/python3.8/site-packages/genedisco/datasets/features/hgnc_names.py:95: DtypeWarning: Columns (31,38) have mixed types.Specify dtype option on import or set low_memory=False.\n",
      "  previous_mapping = self.get_hgnc_mapping(to_id=\"symbol\", from_id=other_id_name)\n"
     ]
    }
   ],
   "source": [
    "for screen_name in ['Adenosine', 'TGFb', 'Cyclosporine', 'Tacrolimus']:\n",
    "    out_file = os.path.join(\"/dfs/user/yhr/research_assistant/datasets/ground_truth_Carnevale_2022_{}.csv\".format(screen_name))\n",
    "    df = pd.read_excel('/dfs/project/perturb-gnn/AI_RA/Carnevale22/41586_2022_5126_MOESM5_ESM.xlsx',\n",
    "                   sheet_name=screen_name)\n",
    "    df = df.set_index('id')\n",
    "\n",
    "    df.index = df.index.astype('str')\n",
    "    rows_to_drop = [v for v in df.index if 'CTRL' in v]\n",
    "    rows_to_drop = [v for v in df.index if v[:4]=='2021']\n",
    "    df = df.drop(rows_to_drop)\n",
    "\n",
    "    gene_names = df.index.values.tolist()\n",
    "    name_converter = HGNCNames('/dfs/user/yhr/genedisco/genedisco/datasets/screens/')\n",
    "    gene_names = name_converter.update_outdated_gene_names(gene_names)\n",
    "    df.index = gene_names\n",
    "\n",
    "    # Merge duplicate indices by averaging\n",
    "    df = df.groupby(df.index).mean()\n",
    "    df['pos|lfc'] = df['pos|lfc'].values.astype(np.float32)\n",
    "    df = df.loc[:,['pos|lfc']]\n",
    "    df = df.rename(columns = {'pos|lfc':'log-fold-change'})\n",
    "    df = df.reset_index().rename(columns={'index':'Gene'})\n",
    "\n",
    "    df.to_csv(out_file, index=0)"
   ]
  },
  {
   "cell_type": "code",
   "execution_count": 3,
   "metadata": {},
   "outputs": [],
   "source": [
    "for screen_name in ['Adenosine', 'TGFb', 'Cyclosporine', 'Tacrolimus']:\n",
    "    file_path = os.path.join(f\"/dfs/user/yhr/research_assistant/datasets/ground_truth_steinhart_2024_{screen_name}.csv\")\n",
    "    id_col = 'Gene'\n",
    "    val_col = 'log-fold-change'\n",
    "    bio_taskname = 'Carnevale22_{}'.format(screen_name)\n",
    "    \n",
    "    screendata = ScreenData(file_path=file_path, id_col=id_col,\n",
    "           val_col=val_col, bio_taskname=bio_taskname, save=True)\n",
    "    screendata.identify_hits(type_='gaussian', save=True)"
   ]
  },
  {
   "cell_type": "code",
   "execution_count": null,
   "metadata": {},
   "outputs": [],
   "source": []
  }
 ],
 "metadata": {
  "kernelspec": {
   "display_name": "causal",
   "language": "python",
   "name": "causal"
  },
  "language_info": {
   "codemirror_mode": {
    "name": "ipython",
    "version": 3
   },
   "file_extension": ".py",
   "mimetype": "text/x-python",
   "name": "python",
   "nbconvert_exporter": "python",
   "pygments_lexer": "ipython3",
   "version": "3.8.6"
  }
 },
 "nbformat": 4,
 "nbformat_minor": 2
}
