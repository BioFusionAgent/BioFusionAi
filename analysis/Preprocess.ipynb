{
 "cells": [
  {
   "cell_type": "code",
   "execution_count": 1,
   "metadata": {},
   "outputs": [],
   "source": [
    "import pandas as pd\n",
    "import pickle as pkl\n",
    "import numpy as np\n",
    "\n",
    "import matplotlib.pyplot as plt\n",
    "from screen import ScreenData\n",
    "\n",
    "\n",
    "import scanpy as sc\n",
    "%matplotlib inline\n",
    "import matplotlib"
   ]
  },
  {
   "cell_type": "markdown",
   "metadata": {},
   "source": [
    "### Process new screening dataset"
   ]
  },
  {
   "cell_type": "code",
   "execution_count": 33,
   "metadata": {},
   "outputs": [],
   "source": [
    "file_path = '/dfs/project/perturb-gnn/AI_RA/Scharenberg_22/Scharenberg_22.csv'\n",
    "id_col = 'Symbol'\n",
    "val_col = 'Combo casTLE Score'\n",
    "bio_taskname = 'Scharenberg22'"
   ]
  },
  {
   "cell_type": "code",
   "execution_count": 34,
   "metadata": {},
   "outputs": [
    {
     "data": {
      "image/png": "[encoded data removed]",
      "text/plain": [
       "<Figure size 432x288 with 1 Axes>"
      ]
     },
     "metadata": {
      "needs_background": "light"
     },
     "output_type": "display_data"
    }
   ],
   "source": [
    "screendata = ScreenData(file_path=file_path, id_col=id_col,\n",
    "           val_col=val_col, bio_taskname=bio_taskname, save=True)\n",
    "screendata.identify_hits(save=True)"
   ]
  },
  {
   "cell_type": "code",
   "execution_count": 35,
   "metadata": {},
   "outputs": [],
   "source": [
    "screendata.set_task_prompt(\n",
    "    task_description=\"identify genes mediating lysosomal choline recycling using an endolysosome-focused CRISPR-Cas9 screen\", \n",
    "    measurement='enrichment or depletion of targeting sgRNAs (indicated by a high score) in the culture medium lacking free choline')\n",
    "\n"
   ]
  },
  {
   "cell_type": "markdown",
   "metadata": {},
   "source": [
    "### Random baseline"
   ]
  },
  {
   "cell_type": "code",
   "execution_count": 33,
   "metadata": {},
   "outputs": [],
   "source": [
    "def generate_random_rounds(all_genes, round0=None, rounds = 16, sample_size=64):\n",
    "    past_set =list(all_genes)\n",
    "    random_rounds = {}\n",
    "    if round0 is not None:\n",
    "        random_rounds[0] = round0\n",
    "    else:\n",
    "        random_rounds[0] = np.random.choice(all_genes, sample_size)\n",
    "    \n",
    "    for i in range(1,rounds):\n",
    "        selection_set = set(past_set).difference(set(random_rounds[i-1]))\n",
    "        random_rounds[i] = np.concatenate([random_rounds[i-1], np.random.choice(list(selection_set), sample_size)])\n",
    "        past_set = list(selection_set)\n",
    "        \n",
    "    return random_rounds\n",
    "\n",
    "def generate_random_rounds_custom(all_genes, rounds = 16, sample_sizes=None):\n",
    "    past_set =list(all_genes)\n",
    "    random_rounds = {}\n",
    "    random_rounds[0] = []\n",
    "    \n",
    "    for i in range(1,rounds):\n",
    "        selection_set = set(past_set).difference(set(random_rounds[i-1]))\n",
    "        random_rounds[i] = np.concatenate([random_rounds[i-1], np.random.choice(list(selection_set), sample_sizes[i])])\n",
    "        past_set = list(selection_set)\n",
    "        \n",
    "    return random_rounds\n",
    "\n",
    "def return_hits(list_):\n",
    "    return list(set(list_).intersection(set(topmovers)))\n",
    "\n",
    "def get_all_sampled_genes(exp_path, num_rounds = 100):\n",
    "    all_sampled_genes = []\n",
    "    for i in range(1,num_rounds):\n",
    "        exp_path_ = exp_path + str(i) + '.npy'\n",
    "        all_sampled_genes.append(np.load(exp_path_))\n",
    "    return all_sampled_genes\n",
    "\n",
    "def get_successful_sample_sizes(sampled_genes):\n",
    "    sizes = []\n",
    "    prev_size = 0\n",
    "    for sample in sampled_genes:\n",
    "        sizes.append(len(sample)-prev_size)\n",
    "        prev_size = prev_size + sizes[-1]\n",
    "    return sizes\n",
    "\n",
    "def return_hits(arr):\n",
    "    return list(set(arr).intersection(set(topmovers)))"
   ]
  },
  {
   "cell_type": "markdown",
   "metadata": {},
   "source": [
    "### Equal sampling: Claude"
   ]
  },
  {
   "cell_type": "code",
   "execution_count": 17,
   "metadata": {},
   "outputs": [],
   "source": [
    "import glob\n",
    "\n",
    "exp_paths = {\n",
    " '1':'/dfs/user/yhr/research_assistant/logs_exhaust/exp3/sampled_genes_',\n",
    " '2':'/dfs/user/yhr/research_assistant/logs_exhaust/exp2/sampled_genes_',\n",
    " '3':'/dfs/user/yhr/research_assistant/logs_exhaust/exp1/sampled_genes_',\n",
    "}"
   ]
  },
  {
   "cell_type": "code",
   "execution_count": 18,
   "metadata": {},
   "outputs": [],
   "source": [
    "sampled_genes = {}\n",
    "sample_sizes = {}\n",
    "hits = {}\n",
    "hit_rates = {}\n",
    "num_rounds = 28\n",
    "\n",
    "for rep in range(1,4):\n",
    "    rep = str(rep)\n",
    "    sampled_genes[rep] = get_all_sampled_genes(exp_paths[rep], num_rounds=num_rounds)\n",
    "    sample_sizes[rep] = get_successful_sample_sizes(sampled_genes[rep])\n",
    "    \n",
    "    hits[rep] = []\n",
    "    hit_rates[rep] = []\n",
    "    hits[rep] = [return_hits(x) for x in sampled_genes[rep]]\n",
    "    hit_rates[rep] = [len(x)/len(topmovers) for x in hits[rep]]"
   ]
  },
  {
   "cell_type": "code",
   "execution_count": 19,
   "metadata": {},
   "outputs": [
    {
     "data": {
      "text/plain": [
       "<BarContainer object of 27 artists>"
      ]
     },
     "execution_count": 19,
     "metadata": {},
     "output_type": "execute_result"
    },
    {
     "data": {
      "image/png": "[encoded data removed]",
      "text/plain": [
       "<Figure size 1080x360 with 1 Axes>"
      ]
     },
     "metadata": {
      "needs_background": "light"
     },
     "output_type": "display_data"
    }
   ],
   "source": [
    "## GPT has trouble counting\n",
    "\n",
    "plt.figure(figsize=[15,5])\n",
    "plt.ylabel('Sampled Genes')\n",
    "plt.xlabel('Rounds')\n",
    "plt.axhline(y=32, color='r', linestyle='--')\n",
    "plt.bar(range(len(sample_sizes['1'])), sample_sizes['1'])"
   ]
  },
  {
   "cell_type": "code",
   "execution_count": 20,
   "metadata": {},
   "outputs": [],
   "source": [
    "num_steps = num_rounds - 1\n",
    "num_reps = 3\n",
    "sample_size=32"
   ]
  },
  {
   "cell_type": "code",
   "execution_count": 21,
   "metadata": {},
   "outputs": [],
   "source": [
    "random_rounds = {}\n",
    "random_hits = {}\n",
    "random_hit_rates = {}\n",
    "\n",
    "for rep in range(1,4):\n",
    "    rep=str(rep)\n",
    "    random_rounds[rep] = generate_random_rounds(all_genes, rounds = num_steps, sample_size=sample_size)\n",
    "    #random_rounds[rep] = generate_random_rounds_custom(all_genes, rounds = num_steps, \n",
    "    #                                                   sample_sizes=sample_sizes[rep])\n",
    "    \n",
    "    random_hits[rep] = []\n",
    "    random_hit_rates[rep] = []\n",
    "    for step in range(num_steps):\n",
    "        random_hits[rep].append(return_hits(random_rounds[rep][step]))\n",
    "        random_hit_rates[rep].append(len(random_hits[rep][-1])/len(topmovers))"
   ]
  },
  {
   "cell_type": "code",
   "execution_count": 22,
   "metadata": {},
   "outputs": [
    {
     "data": {
      "image/png": "[encoded data removed]",
      "text/plain": [
       "<Figure size 432x288 with 1 Axes>"
      ]
     },
     "metadata": {
      "needs_background": "light"
     },
     "output_type": "display_data"
    }
   ],
   "source": [
    "import matplotlib.pyplot as plt\n",
    "import numpy as np\n",
    "\n",
    "# calculate the mean and standard deviation of the random data\n",
    "random_mean = np.mean(np.array([random_hit_rates['1'], \n",
    "                                random_hit_rates['2'],\n",
    "                                random_hit_rates['3']]),0)\n",
    "random_std = np.std(np.array([random_hit_rates['1'], \n",
    "                                random_hit_rates['2'],\n",
    "                                random_hit_rates['3']]),0)\n",
    "\n",
    "\n",
    "ai_ra_mean = np.mean(np.array([hit_rates['1'], \n",
    "                               hit_rates['1'],\n",
    "                               hit_rates['3']]),0)\n",
    "ai_ra_std = np.std(np.array([hit_rates['1'], \n",
    "                               hit_rates['1'],\n",
    "                               hit_rates['3']]),0)\n",
    "\n",
    "\n",
    "# create the plot\n",
    "plt.plot(np.arange(num_steps), random_mean, label='Random')\n",
    "plt.fill_between(np.arange(num_steps), random_mean - random_std, \n",
    "                         random_mean + random_std, alpha=0.2)\n",
    "\n",
    "# add the GPT data to the plot\n",
    "plt.plot(np.arange(num_steps), ai_ra_mean, label='LLM (Claude)')\n",
    "plt.fill_between(np.arange(num_steps), ai_ra_mean - ai_ra_std, \n",
    "                             ai_ra_mean + ai_ra_std, alpha=0.2)\n",
    "\n",
    "# set the x-axis labels and tick marks\n",
    "plt.xlabel('Rounds')\n",
    "\n",
    "# add a legend to the plot\n",
    "plt.legend(bbox_to_anchor=(1.1, 1.05))\n",
    "\n",
    "# display the plot\n",
    "plt.show()"
   ]
  },
  {
   "cell_type": "code",
   "execution_count": null,
   "metadata": {},
   "outputs": [],
   "source": []
  }
 ],
 "metadata": {
  "kernelspec": {
   "display_name": "deepsnap",
   "language": "python",
   "name": "deepsnap"
  },
  "language_info": {
   "codemirror_mode": {
    "name": "ipython",
    "version": 3
   },
   "file_extension": ".py",
   "mimetype": "text/x-python",
   "name": "python",
   "nbconvert_exporter": "python",
   "pygments_lexer": "ipython3",
   "version": "3.7.4"
  }
 },
 "nbformat": 4,
 "nbformat_minor": 4
}
